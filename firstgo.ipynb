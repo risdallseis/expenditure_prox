{
 "cells": [
  {
   "cell_type": "code",
   "execution_count": 4,
   "metadata": {},
   "outputs": [],
   "source": [
    "import pandas as pd\n",
    "import os\n",
    "import glob"
   ]
  },
  {
   "cell_type": "code",
   "execution_count": 5,
   "metadata": {},
   "outputs": [
    {
     "data": {
      "text/plain": [
       "'C:\\\\Users\\\\Administrator\\\\expenditure_proxies'"
      ]
     },
     "execution_count": 5,
     "metadata": {},
     "output_type": "execute_result"
    }
   ],
   "source": [
    "os.getcwd()"
   ]
  },
  {
   "cell_type": "code",
   "execution_count": 6,
   "metadata": {},
   "outputs": [],
   "source": [
    "def get_filepaths(\n",
    "    directory,\n",
    "    wildcard=None,\n",
    "):\n",
    "    \"\"\"Get filepaths for all files in a directory, can put a wildcard keep only specifics\n",
    "    'C:\\\\Users\\\\Administrator\\\\expenditure_proxies\\\\sample_data\\\\*'  \n",
    "    \"\"\"\n",
    "    paths = glob.glob(directory)\n",
    "    if wildcard != None:\n",
    "        paths = [path for path in paths if wildcard in path]\n",
    "    \n",
    "    return paths\n"
   ]
  },
  {
   "cell_type": "code",
   "execution_count": 8,
   "metadata": {},
   "outputs": [],
   "source": [
    "file_paths=get_filepaths('C:\\\\Users\\\\Administrator\\\\expenditure_proxies\\\\sample_data\\\\*')"
   ]
  },
  {
   "cell_type": "code",
   "execution_count": 59,
   "metadata": {},
   "outputs": [],
   "source": [
    "def __read_shelf(\n",
    "    filepaths,\n",
    "):\n",
    "    \"\"\"Reads shelf data given the filepaths\n",
    "    \"\"\"\n",
    "    shelf_path = [path for path in filepaths if 'attributes' not in path][0]\n",
    "    df = pd.read_json(shelf_path)\n",
    "    \n",
    "    return df"
   ]
  },
  {
   "cell_type": "code",
   "execution_count": 11,
   "metadata": {},
   "outputs": [],
   "source": [
    "df = read_shelf(file_paths)"
   ]
  },
  {
   "cell_type": "code",
   "execution_count": 60,
   "metadata": {},
   "outputs": [],
   "source": [
    "def __clean_remotekey(\n",
    "    df,\n",
    "):\n",
    "    \"\"\"Removes remotekey slash and converts to int\n",
    "    \"\"\"\n",
    "    df['remotekey'] = df['remotekey'].str[0][0].replace('/','')\n",
    "    df['remotekey'] = df['remotekey'].astype('int64')\n",
    "    \n",
    "    return df"
   ]
  },
  {
   "cell_type": "code",
   "execution_count": 61,
   "metadata": {},
   "outputs": [],
   "source": [
    "def __merge_attributes(\n",
    "    filepaths,\n",
    "):\n",
    "    \"\"\"Merges attributes files together\n",
    "    \"\"\"\n",
    "    attribute_paths = [path for path in filepaths if 'attributes' in path]\n",
    "    attribute_df = pd.read_json(attribute_paths[0], orient='index')\n",
    "    attribute_df = __clean_remotekey(attribute_df)\n",
    "    \n",
    "    for path in attribute_paths[1:]:\n",
    "        temp_df = pd.read_json(path, orient='index')\n",
    "        temp_df = __clean_remotekey(temp_df)\n",
    "        attribute_df = pd.concat([attribute_df, temp_df])\n",
    "    \n",
    "    attribute_df.reset_index(inplace=True)\n",
    "    attribute_df.drop('index', axis=1, inplace=True)\n",
    "    \n",
    "    return attribute_df\n",
    "\n",
    "    \n",
    "    \n",
    "    "
   ]
  },
  {
   "cell_type": "code",
   "execution_count": 63,
   "metadata": {},
   "outputs": [],
   "source": [
    "def __join_2shelf(\n",
    "    attribute_df,\n",
    "    filepaths,\n",
    "):\n",
    "    \"\"\"Joins attribute data to shelf data\n",
    "    \"\"\"\n",
    "    shelf_df = __read_shelf(filepaths)\n",
    "    df = pd.merge(shelf_df, attribute_df, on='remotekey', how='outer')\n",
    "    \n",
    "    return df"
   ]
  },
  {
   "cell_type": "code",
   "execution_count": 74,
   "metadata": {},
   "outputs": [],
   "source": [
    "def compile_data(\n",
    "    directory_path,\n",
    "    category_name,\n",
    "):\n",
    "    \"\"\"Master function which will compile the shelf data with its attribute files\n",
    "       into one dataframe and then write back out in current directory.\n",
    "    \"\"\"\n",
    "    filepaths = get_filepaths(directory_path)\n",
    "    attribute_df = __merge_attributes(filepaths)\n",
    "    df = __join_2shelf(attribute_df, filepaths)\n",
    "    df.to_json(directory_path[:-1]+category_name+'.json')"
   ]
  },
  {
   "cell_type": "code",
   "execution_count": 76,
   "metadata": {},
   "outputs": [],
   "source": [
    "compile_data('C:\\\\Users\\\\Administrator\\\\expenditure_proxies\\\\sample_data\\\\*','gaming_laptops')"
   ]
  },
  {
   "cell_type": "code",
   "execution_count": 67,
   "metadata": {},
   "outputs": [],
   "source": [
    "dd='C:\\\\Users\\\\Administrator\\\\expenditure_proxies\\\\sample_data\\\\*'"
   ]
  },
  {
   "cell_type": "code",
   "execution_count": 73,
   "metadata": {},
   "outputs": [
    {
     "data": {
      "text/plain": [
       "'C:\\\\Users\\\\Administrator\\\\expenditure_proxies\\\\sample_data\\\\gaming_laptops.json'"
      ]
     },
     "execution_count": 73,
     "metadata": {},
     "output_type": "execute_result"
    }
   ],
   "source": [
    "dd[:-1]+'gaming_laptops.json'"
   ]
  },
  {
   "cell_type": "code",
   "execution_count": 66,
   "metadata": {},
   "outputs": [
    {
     "data": {
      "text/html": [
       "<div>\n",
       "<style scoped>\n",
       "    .dataframe tbody tr th:only-of-type {\n",
       "        vertical-align: middle;\n",
       "    }\n",
       "\n",
       "    .dataframe tbody tr th {\n",
       "        vertical-align: top;\n",
       "    }\n",
       "\n",
       "    .dataframe thead th {\n",
       "        text-align: right;\n",
       "    }\n",
       "</style>\n",
       "<table border=\"1\" class=\"dataframe\">\n",
       "  <thead>\n",
       "    <tr style=\"text-align: right;\">\n",
       "      <th></th>\n",
       "      <th>product_name</th>\n",
       "      <th>urls</th>\n",
       "      <th>remotekey</th>\n",
       "      <th>shelf_order</th>\n",
       "      <th>no_reviews</th>\n",
       "      <th>recommendation_percent</th>\n",
       "      <th>review_date</th>\n",
       "      <th>review_rating</th>\n",
       "      <th>review_text</th>\n",
       "      <th>review_title</th>\n",
       "      <th>summary_star_rating</th>\n",
       "    </tr>\n",
       "  </thead>\n",
       "  <tbody>\n",
       "    <tr>\n",
       "      <td>0</td>\n",
       "      <td>hp pav 15.6in r7 8gb 512gb gtx1660ti gaming la...</td>\n",
       "      <td>https://www.argos.co.uk/product/8095330</td>\n",
       "      <td>8095330</td>\n",
       "      <td>1.0</td>\n",
       "      <td>[27 reviews, Recommended this product]</td>\n",
       "      <td>[89%]</td>\n",
       "      <td>[2 June 2021, 9 May 2021, 5 May 2021, 4 May 20...</td>\n",
       "      <td>[4, 4, 4, 1, 5, 5, 5, 4, 5, 5, 5, 5, 5, 5, 5, ...</td>\n",
       "      <td>[i bought the laptop rather recently. It is ve...</td>\n",
       "      <td>[good laptop, Dream Green Machine!, Good value...</td>\n",
       "      <td>[4.6]</td>\n",
       "    </tr>\n",
       "    <tr>\n",
       "      <td>1</td>\n",
       "      <td>hp omen 15.6in i7 16gb 1tb ssd rtx2060 fhd gam...</td>\n",
       "      <td>https://www.argos.co.uk/product/8848068</td>\n",
       "      <td>8848068</td>\n",
       "      <td>2.0</td>\n",
       "      <td>[25 reviews, Recommended this product]</td>\n",
       "      <td>[96%]</td>\n",
       "      <td>[8 June 2021, 28 April 2021, 21 April 2021, 20...</td>\n",
       "      <td>[5, 5, 5, 4, 4, 5, 5, 5, 4, 5, 5, 5, 5, 5, 5, ...</td>\n",
       "      <td>[Really like this laptop- only downside is the...</td>\n",
       "      <td>[Fast internet connection and easy set up, Sup...</td>\n",
       "      <td>[4.7]</td>\n",
       "    </tr>\n",
       "    <tr>\n",
       "      <td>2</td>\n",
       "      <td>hp pavilion 17.3in i5 8gb 1tb 512gb gtx1650ti ...</td>\n",
       "      <td>https://www.argos.co.uk/product/9304295</td>\n",
       "      <td>9304295</td>\n",
       "      <td>3.0</td>\n",
       "      <td>NaN</td>\n",
       "      <td>NaN</td>\n",
       "      <td>NaN</td>\n",
       "      <td>NaN</td>\n",
       "      <td>NaN</td>\n",
       "      <td>NaN</td>\n",
       "      <td>NaN</td>\n",
       "    </tr>\n",
       "    <tr>\n",
       "      <td>3</td>\n",
       "      <td>lenovo ideapad l340 15in i5 8gb 128gb gtx1650 ...</td>\n",
       "      <td>https://www.argos.co.uk/product/8947794</td>\n",
       "      <td>8947794</td>\n",
       "      <td>4.0</td>\n",
       "      <td>[17 reviews, Recommended this product]</td>\n",
       "      <td>[94%]</td>\n",
       "      <td>[10 May 2021, 28 April 2021, 23 April 2021, 21...</td>\n",
       "      <td>[5, 5, 5, 5, 5, 5, 4, 5, 5, 5, 5, 5, 5, 1, 5, ...</td>\n",
       "      <td>[Brilliant laptop, am able to do work, play ga...</td>\n",
       "      <td>[The laptop looks nice and is fast, Amazing, C...</td>\n",
       "      <td>[4.7]</td>\n",
       "    </tr>\n",
       "    <tr>\n",
       "      <td>4</td>\n",
       "      <td>asus tuf f15 15.6in i7 8gb 512gb rtx3060 gamin...</td>\n",
       "      <td>https://www.argos.co.uk/product/9361575</td>\n",
       "      <td>9361575</td>\n",
       "      <td>5.0</td>\n",
       "      <td>NaN</td>\n",
       "      <td>NaN</td>\n",
       "      <td>NaN</td>\n",
       "      <td>NaN</td>\n",
       "      <td>NaN</td>\n",
       "      <td>NaN</td>\n",
       "      <td>NaN</td>\n",
       "    </tr>\n",
       "    <tr>\n",
       "      <td>5</td>\n",
       "      <td>predator helios 300 i7 16gb 1tb 256gb rtx2060 ...</td>\n",
       "      <td>https://www.argos.co.uk/product/8741859</td>\n",
       "      <td>8741859</td>\n",
       "      <td>6.0</td>\n",
       "      <td>[20 reviews, Recommended this product]</td>\n",
       "      <td>[100%]</td>\n",
       "      <td>[21 May 2021, 27 April 2021, 7 April 2021, 2 A...</td>\n",
       "      <td>[5, 5, 4, 5, 5, 5, 5, 5, 5, 5, 3, 4, 5, 4, 5, ...</td>\n",
       "      <td>[this laptop sends you a lot of emotions once ...</td>\n",
       "      <td>[Predator Helios 300 i7 16GB 1TB 256GB RTX 206...</td>\n",
       "      <td>[4.8]</td>\n",
       "    </tr>\n",
       "    <tr>\n",
       "      <td>6</td>\n",
       "      <td>acer nitro 5 15.6in i7 8gb 512gb gtx1660ti gam...</td>\n",
       "      <td>https://www.argos.co.uk/product/8732466</td>\n",
       "      <td>8732466</td>\n",
       "      <td>7.0</td>\n",
       "      <td>[12 reviews, Recommended this product]</td>\n",
       "      <td>[92%]</td>\n",
       "      <td>[31 March 2021, 24 March 2021, 5 January 2021,...</td>\n",
       "      <td>[3, 5, 5, 5, 5, 5, 5, 5, 4, 4, 5, 5]</td>\n",
       "      <td>[The battery is draining too fast even if I am...</td>\n",
       "      <td>[, Does a great job for gaming, Is good, Fast ...</td>\n",
       "      <td>[4.7]</td>\n",
       "    </tr>\n",
       "    <tr>\n",
       "      <td>7</td>\n",
       "      <td>NaN</td>\n",
       "      <td>NaN</td>\n",
       "      <td>5029976</td>\n",
       "      <td>NaN</td>\n",
       "      <td>[527 reviews, Recommended this product]</td>\n",
       "      <td>[]</td>\n",
       "      <td>[14 June 2021, 9 June 2021, 8 June 2021, 7 Jun...</td>\n",
       "      <td>[4, 5, 5, 5, 5, 5, 4, 5, 5, 5, 5, 5, 5, 4, 5, ...</td>\n",
       "      <td>[GOOD LAPTOP, FAST AND SMOOTH DISPLAY. DIDN'T ...</td>\n",
       "      <td>[FAST AND GOOD DISPLAY, As expected, Brilliant...</td>\n",
       "      <td>[4.7, 96%]</td>\n",
       "    </tr>\n",
       "  </tbody>\n",
       "</table>\n",
       "</div>"
      ],
      "text/plain": [
       "                                        product_name  \\\n",
       "0  hp pav 15.6in r7 8gb 512gb gtx1660ti gaming la...   \n",
       "1  hp omen 15.6in i7 16gb 1tb ssd rtx2060 fhd gam...   \n",
       "2  hp pavilion 17.3in i5 8gb 1tb 512gb gtx1650ti ...   \n",
       "3  lenovo ideapad l340 15in i5 8gb 128gb gtx1650 ...   \n",
       "4  asus tuf f15 15.6in i7 8gb 512gb rtx3060 gamin...   \n",
       "5  predator helios 300 i7 16gb 1tb 256gb rtx2060 ...   \n",
       "6  acer nitro 5 15.6in i7 8gb 512gb gtx1660ti gam...   \n",
       "7                                                NaN   \n",
       "\n",
       "                                      urls  remotekey  shelf_order  \\\n",
       "0  https://www.argos.co.uk/product/8095330    8095330          1.0   \n",
       "1  https://www.argos.co.uk/product/8848068    8848068          2.0   \n",
       "2  https://www.argos.co.uk/product/9304295    9304295          3.0   \n",
       "3  https://www.argos.co.uk/product/8947794    8947794          4.0   \n",
       "4  https://www.argos.co.uk/product/9361575    9361575          5.0   \n",
       "5  https://www.argos.co.uk/product/8741859    8741859          6.0   \n",
       "6  https://www.argos.co.uk/product/8732466    8732466          7.0   \n",
       "7                                      NaN    5029976          NaN   \n",
       "\n",
       "                                no_reviews recommendation_percent  \\\n",
       "0   [27 reviews, Recommended this product]                  [89%]   \n",
       "1   [25 reviews, Recommended this product]                  [96%]   \n",
       "2                                      NaN                    NaN   \n",
       "3   [17 reviews, Recommended this product]                  [94%]   \n",
       "4                                      NaN                    NaN   \n",
       "5   [20 reviews, Recommended this product]                 [100%]   \n",
       "6   [12 reviews, Recommended this product]                  [92%]   \n",
       "7  [527 reviews, Recommended this product]                     []   \n",
       "\n",
       "                                         review_date  \\\n",
       "0  [2 June 2021, 9 May 2021, 5 May 2021, 4 May 20...   \n",
       "1  [8 June 2021, 28 April 2021, 21 April 2021, 20...   \n",
       "2                                                NaN   \n",
       "3  [10 May 2021, 28 April 2021, 23 April 2021, 21...   \n",
       "4                                                NaN   \n",
       "5  [21 May 2021, 27 April 2021, 7 April 2021, 2 A...   \n",
       "6  [31 March 2021, 24 March 2021, 5 January 2021,...   \n",
       "7  [14 June 2021, 9 June 2021, 8 June 2021, 7 Jun...   \n",
       "\n",
       "                                       review_rating  \\\n",
       "0  [4, 4, 4, 1, 5, 5, 5, 4, 5, 5, 5, 5, 5, 5, 5, ...   \n",
       "1  [5, 5, 5, 4, 4, 5, 5, 5, 4, 5, 5, 5, 5, 5, 5, ...   \n",
       "2                                                NaN   \n",
       "3  [5, 5, 5, 5, 5, 5, 4, 5, 5, 5, 5, 5, 5, 1, 5, ...   \n",
       "4                                                NaN   \n",
       "5  [5, 5, 4, 5, 5, 5, 5, 5, 5, 5, 3, 4, 5, 4, 5, ...   \n",
       "6               [3, 5, 5, 5, 5, 5, 5, 5, 4, 4, 5, 5]   \n",
       "7  [4, 5, 5, 5, 5, 5, 4, 5, 5, 5, 5, 5, 5, 4, 5, ...   \n",
       "\n",
       "                                         review_text  \\\n",
       "0  [i bought the laptop rather recently. It is ve...   \n",
       "1  [Really like this laptop- only downside is the...   \n",
       "2                                                NaN   \n",
       "3  [Brilliant laptop, am able to do work, play ga...   \n",
       "4                                                NaN   \n",
       "5  [this laptop sends you a lot of emotions once ...   \n",
       "6  [The battery is draining too fast even if I am...   \n",
       "7  [GOOD LAPTOP, FAST AND SMOOTH DISPLAY. DIDN'T ...   \n",
       "\n",
       "                                        review_title summary_star_rating  \n",
       "0  [good laptop, Dream Green Machine!, Good value...               [4.6]  \n",
       "1  [Fast internet connection and easy set up, Sup...               [4.7]  \n",
       "2                                                NaN                 NaN  \n",
       "3  [The laptop looks nice and is fast, Amazing, C...               [4.7]  \n",
       "4                                                NaN                 NaN  \n",
       "5  [Predator Helios 300 i7 16GB 1TB 256GB RTX 206...               [4.8]  \n",
       "6  [, Does a great job for gaming, Is good, Fast ...               [4.7]  \n",
       "7  [FAST AND GOOD DISPLAY, As expected, Brilliant...          [4.7, 96%]  "
      ]
     },
     "execution_count": 66,
     "metadata": {},
     "output_type": "execute_result"
    }
   ],
   "source": [
    "df.to_json(directory_path[:-1])"
   ]
  }
 ],
 "metadata": {
  "kernelspec": {
   "display_name": "Python 3",
   "language": "python",
   "name": "python3"
  },
  "language_info": {
   "codemirror_mode": {
    "name": "ipython",
    "version": 3
   },
   "file_extension": ".py",
   "mimetype": "text/x-python",
   "name": "python",
   "nbconvert_exporter": "python",
   "pygments_lexer": "ipython3",
   "version": "3.7.4"
  }
 },
 "nbformat": 4,
 "nbformat_minor": 4
}
