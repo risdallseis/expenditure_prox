{
 "cells": [
  {
   "cell_type": "code",
   "execution_count": 1,
   "metadata": {},
   "outputs": [],
   "source": [
    "import pandas as pd\n",
    "import numpy as np\n",
    "pd.set_option('display.max_rows',100)\n",
    "pd.set_option('display.max_columns',100)"
   ]
  },
  {
   "cell_type": "code",
   "execution_count": 4,
   "metadata": {},
   "outputs": [],
   "source": [
    "from join_data import compile_data, join_y"
   ]
  },
  {
   "cell_type": "code",
   "execution_count": null,
   "metadata": {},
   "outputs": [],
   "source": [
    "import glob\n",
    "filepaths = get_filepaths('C:\\\\Users\\\\Administrator\\\\expenditure_prox\\\\desktops\\\\*','desktops')"
   ]
  },
  {
   "cell_type": "code",
   "execution_count": null,
   "metadata": {},
   "outputs": [],
   "source": [
    "shelf_paths=[path for path in filepaths if 'attributes' not in path]"
   ]
  },
  {
   "cell_type": "code",
   "execution_count": null,
   "metadata": {},
   "outputs": [],
   "source": [
    "df = pd.read_json(shelf_paths[0])\n",
    "for file in shelf_paths[1:]:\n",
    "    df = pd.concat([df, pd.read_json(file)]).reset_index().drop('index', axis=1)"
   ]
  },
  {
   "cell_type": "markdown",
   "metadata": {},
   "source": [
    "## Reading in data and preproc"
   ]
  },
  {
   "cell_type": "code",
   "execution_count": 5,
   "metadata": {},
   "outputs": [],
   "source": [
    "df = pd.read_json('C:\\\\Users\\\\Administrator\\\\expenditure_prox\\\\desktops.json')"
   ]
  },
  {
   "cell_type": "code",
   "execution_count": 6,
   "metadata": {},
   "outputs": [],
   "source": [
    "import preproc\n",
    "df = preproc.clean_cols(df)\n",
    "df = join_y(df, 'desktops_sales.csv')"
   ]
  },
  {
   "cell_type": "code",
   "execution_count": 7,
   "metadata": {},
   "outputs": [
    {
     "data": {
      "text/html": [
       "<div>\n",
       "<style scoped>\n",
       "    .dataframe tbody tr th:only-of-type {\n",
       "        vertical-align: middle;\n",
       "    }\n",
       "\n",
       "    .dataframe tbody tr th {\n",
       "        vertical-align: top;\n",
       "    }\n",
       "\n",
       "    .dataframe thead th {\n",
       "        text-align: right;\n",
       "    }\n",
       "</style>\n",
       "<table border=\"1\" class=\"dataframe\">\n",
       "  <thead>\n",
       "    <tr style=\"text-align: right;\">\n",
       "      <th></th>\n",
       "      <th>product_name</th>\n",
       "      <th>price</th>\n",
       "      <th>urls</th>\n",
       "      <th>remotekey</th>\n",
       "      <th>shelf_order</th>\n",
       "      <th>item_category</th>\n",
       "      <th>no_reviews</th>\n",
       "      <th>recommendation_percent</th>\n",
       "      <th>review_date</th>\n",
       "      <th>review_rating</th>\n",
       "      <th>review_text</th>\n",
       "      <th>review_title</th>\n",
       "      <th>summary_star_rating</th>\n",
       "      <th>code</th>\n",
       "      <th>TOTAL_SALES</th>\n",
       "    </tr>\n",
       "  </thead>\n",
       "  <tbody>\n",
       "    <tr>\n",
       "      <td>0</td>\n",
       "      <td>asus vivo v241 23.8in i5 8gb 1tb 256gb fhd all...</td>\n",
       "      <td>799.99</td>\n",
       "      <td>https://www.argos.co.uk/product/8181639?clickP...</td>\n",
       "      <td>8181639</td>\n",
       "      <td>1</td>\n",
       "      <td>[The space-saving Vivo AiO 24 is remarkably sl...</td>\n",
       "      <td>0</td>\n",
       "      <td>0</td>\n",
       "      <td>[]</td>\n",
       "      <td>[]</td>\n",
       "      <td>[]</td>\n",
       "      <td>[]</td>\n",
       "      <td>0.0</td>\n",
       "      <td>3956268223022212459140616052982966273110149562...</td>\n",
       "      <td>93</td>\n",
       "    </tr>\n",
       "    <tr>\n",
       "      <td>1</td>\n",
       "      <td>asus vivo v241 24in ryzen 3 8gb 128gb fhd alli...</td>\n",
       "      <td>549.99</td>\n",
       "      <td>https://www.argos.co.uk/product/7955763?clickP...</td>\n",
       "      <td>7955763</td>\n",
       "      <td>2</td>\n",
       "      <td>[The space-saving Vivo AiO V241 is remarkably ...</td>\n",
       "      <td>13</td>\n",
       "      <td>92</td>\n",
       "      <td>[25 April 2021, 14 April 2021, 7 April 2021, 1...</td>\n",
       "      <td>[5, 5, 5, 5, 5, 5, 1, 5, 5, 5, 5, 5, 5]</td>\n",
       "      <td>[Did a lot of research before purchase and rea...</td>\n",
       "      <td>[sleek look and easy to use, Great machine at ...</td>\n",
       "      <td>4.7</td>\n",
       "      <td>8860716220315163645376610806742422170930139462...</td>\n",
       "      <td>469</td>\n",
       "    </tr>\n",
       "  </tbody>\n",
       "</table>\n",
       "</div>"
      ],
      "text/plain": [
       "                                        product_name   price  \\\n",
       "0  asus vivo v241 23.8in i5 8gb 1tb 256gb fhd all...  799.99   \n",
       "1  asus vivo v241 24in ryzen 3 8gb 128gb fhd alli...  549.99   \n",
       "\n",
       "                                                urls  remotekey  shelf_order  \\\n",
       "0  https://www.argos.co.uk/product/8181639?clickP...    8181639            1   \n",
       "1  https://www.argos.co.uk/product/7955763?clickP...    7955763            2   \n",
       "\n",
       "                                       item_category  no_reviews  \\\n",
       "0  [The space-saving Vivo AiO 24 is remarkably sl...           0   \n",
       "1  [The space-saving Vivo AiO V241 is remarkably ...          13   \n",
       "\n",
       "   recommendation_percent                                        review_date  \\\n",
       "0                       0                                                 []   \n",
       "1                      92  [25 April 2021, 14 April 2021, 7 April 2021, 1...   \n",
       "\n",
       "                             review_rating  \\\n",
       "0                                       []   \n",
       "1  [5, 5, 5, 5, 5, 5, 1, 5, 5, 5, 5, 5, 5]   \n",
       "\n",
       "                                         review_text  \\\n",
       "0                                                 []   \n",
       "1  [Did a lot of research before purchase and rea...   \n",
       "\n",
       "                                        review_title  summary_star_rating  \\\n",
       "0                                                 []                  0.0   \n",
       "1  [sleek look and easy to use, Great machine at ...                  4.7   \n",
       "\n",
       "                                                code  TOTAL_SALES  \n",
       "0  3956268223022212459140616052982966273110149562...           93  \n",
       "1  8860716220315163645376610806742422170930139462...          469  "
      ]
     },
     "execution_count": 7,
     "metadata": {},
     "output_type": "execute_result"
    }
   ],
   "source": [
    "df.head(2)\n"
   ]
  },
  {
   "cell_type": "code",
   "execution_count": 11,
   "metadata": {},
   "outputs": [
    {
     "data": {
      "text/plain": [
       "<matplotlib.axes._subplots.AxesSubplot at 0x2e0bc1c76c8>"
      ]
     },
     "execution_count": 11,
     "metadata": {},
     "output_type": "execute_result"
    },
    {
     "data": {
      "image/png": "[encoded data removed]",
      "text/plain": [
       "<Figure size 432x288 with 1 Axes>"
      ]
     },
     "metadata": {
      "needs_background": "light"
     },
     "output_type": "display_data"
    }
   ],
   "source": [
    "import seaborn as sns\n",
    "sns.scatterplot(x=df['no_reviews'], y=df['TOTAL_SALES'])"
   ]
  },
  {
   "cell_type": "code",
   "execution_count": null,
   "metadata": {},
   "outputs": [],
   "source": [
    "import re\n",
    "df['no_reviews'] =  [(re.findall(r'\\d+', x[0]))[0]\n",
    "                         if x!=[''] \n",
    "                         else 0 \n",
    "                         for x in df['no_reviews']]\n"
   ]
  },
  {
   "cell_type": "code",
   "execution_count": null,
   "metadata": {},
   "outputs": [],
   "source": [
    "df['no_reviews'][0][0]"
   ]
  },
  {
   "cell_type": "code",
   "execution_count": null,
   "metadata": {},
   "outputs": [],
   "source": [
    "re.findall(r'\\d+', df['no_reviews'][0][0])[0]"
   ]
  },
  {
   "cell_type": "markdown",
   "metadata": {},
   "source": [
    "## Visualsing data"
   ]
  },
  {
   "cell_type": "code",
   "execution_count": null,
   "metadata": {},
   "outputs": [],
   "source": [
    "# removing broken last row\n",
    "dfc = df.iloc[0:60]"
   ]
  },
  {
   "cell_type": "code",
   "execution_count": null,
   "metadata": {},
   "outputs": [],
   "source": [
    "import seaborn as sns\n",
    "import matplotlib.pyplot as plt\n",
    "dfc = dfc[['remotekey','price','no_reviews','recommendation_percent','summary_star_rating']]\n",
    "\n",
    "f, axes = plt.subplots(2, 2)\n",
    "sns.distplot(dfc['price'],hist=True, ax = axes[0][0])\n",
    "axes[0][0].set_title('Price')\n",
    "sns.distplot(dfc['no_reviews'],hist=True, ax = axes[0][1])\n",
    "axes[0][1].set_title('No_reviews')\n",
    "sns.distplot(dfc['recommendation_percent'],hist=True, ax = axes[1][0])\n",
    "axes[1][0].set_title('Recommendation_percent')\n",
    "sns.distplot(dfc['summary_star_rating'],hist=True, ax = axes[1][1])\n",
    "axes[1][1].set_title('Summary_star_rating')\n",
    "            "
   ]
  },
  {
   "cell_type": "markdown",
   "metadata": {},
   "source": [
    "## Kmeans"
   ]
  },
  {
   "cell_type": "code",
   "execution_count": null,
   "metadata": {},
   "outputs": [],
   "source": [
    "from sklearn.cluster import KMeans\n",
    "dfn=dfc.drop('remotekey',axis=1).to_numpy()\n",
    "X=dfn\n",
    "km = KMeans(\n",
    "    n_clusters=3, init='random',\n",
    "    n_init=100, max_iter=1000, \n",
    "    tol=1e-06, random_state=1\n",
    ")\n",
    "y_km = km.fit_predict(X)\n",
    "dfc['km_cluster'] = pd.Series(y_km, index=dfc.index)\n"
   ]
  },
  {
   "cell_type": "code",
   "execution_count": null,
   "metadata": {},
   "outputs": [],
   "source": [
    "kmeans = KMeans(n_init=20, max_iter=1000, n_clusters=4,algorithm='full').fit(X)\n",
    "k_result = kmeans.predict(X)\n",
    "plt.scatter(X[:, 0], X[:, 1], c=k_result, s=40, cmap='viridis')\n",
    "plt.legend(k_result, loc=4)"
   ]
  },
  {
   "cell_type": "code",
   "execution_count": null,
   "metadata": {},
   "outputs": [],
   "source": [
    "dfc.sort_values('no_reviews', ascending=False)"
   ]
  },
  {
   "cell_type": "markdown",
   "metadata": {},
   "source": [
    "**The clustering is done primarly from price, desktops less than £1000 = cluster 2\n",
    "desktops £1000-£2000 = cluster 1, and then more are 0.**"
   ]
  },
  {
   "cell_type": "markdown",
   "metadata": {},
   "source": [
    "## Visualising weights"
   ]
  },
  {
   "cell_type": "code",
   "execution_count": null,
   "metadata": {},
   "outputs": [],
   "source": [
    "from eigencluster import show_results\n",
    "\n",
    "show_results(X,4,4)"
   ]
  },
  {
   "cell_type": "code",
   "execution_count": null,
   "metadata": {},
   "outputs": [],
   "source": [
    "dfc.columns"
   ]
  },
  {
   "cell_type": "markdown",
   "metadata": {},
   "source": [
    "**If my interpretation is correct then the primary component is almost all price, and the secondary component is mainly recommendation percent with a bit of no_reviews.**"
   ]
  },
  {
   "cell_type": "code",
   "execution_count": null,
   "metadata": {},
   "outputs": [],
   "source": []
  }
 ],
 "metadata": {
  "kernelspec": {
   "display_name": "Python 3",
   "language": "python",
   "name": "python3"
  },
  "language_info": {
   "codemirror_mode": {
    "name": "ipython",
    "version": 3
   },
   "file_extension": ".py",
   "mimetype": "text/x-python",
   "name": "python",
   "nbconvert_exporter": "python",
   "pygments_lexer": "ipython3",
   "version": "3.7.4"
  }
 },
 "nbformat": 4,
 "nbformat_minor": 4
}
