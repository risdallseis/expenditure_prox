{
 "cells": [
  {
   "cell_type": "code",
   "execution_count": 1,
   "source": [
    "import pandas as pd\r\n",
    "import numpy as np\r\n",
    "import seaborn as sns\r\n",
    "from sklearn.cluster import KMeans\r\n",
    "from sklearn.metrics import adjusted_rand_score\r\n",
    "from sklearn.cluster import DBSCAN\r\n",
    "from numpy import unique, where\r\n",
    "import matplotlib.pyplot as plt\r\n",
    "\r\n",
    "import os\r\n",
    "os.chdir('../../')\r\n",
    "\r\n",
    "from modules import preproc\r\n",
    "from modules.join_data import join_y\r\n",
    "from modules import feature_eng\r\n",
    "from modules import cluster_intelligence\r\n",
    "from modules.evaluate_model import get_eval_scores\r\n",
    "from modules.dbscan_grid_search import run_dbscan_gs, get_best_models\r\n",
    "import warnings\r\n",
    "warnings.filterwarnings(\"ignore\")\r\n",
    "pd.set_option('display.max_rows',150)\r\n",
    "pd.set_option('display.max_columns',1000)"
   ],
   "outputs": [],
   "metadata": {}
  },
  {
   "cell_type": "markdown",
   "source": [
    "## Reading in data and preproc"
   ],
   "metadata": {}
  },
  {
   "cell_type": "code",
   "execution_count": 2,
   "source": [
    "# laptops\r\n",
    "laptops = pd.read_json('full_data/laptops.json')\r\n",
    "laptops = join_y(laptops, 'raw_data/laptops_sales.csv')\r\n",
    "laptops = preproc.clean_cols(laptops)\r\n",
    "laptops = preproc.fill_empty_lists(laptops)\r\n",
    "laptops = preproc.preprocess_reviews(laptops)\r\n",
    "laptops = feature_eng.generate_features(laptops)\r\n",
    "laptops = feature_eng.do_PCA(laptops)\r\n",
    "laptops['TOTAL_SALES_QBINNED'] = pd.qcut(laptops['TOTAL_SALES'], 3, labels=[0,1,2])\r\n",
    "\r\n",
    "# phones\r\n",
    "phones = pd.read_json('full_data/smartphones.json')\r\n",
    "phones = join_y(phones, 'raw_data/phone_sales.csv')\r\n",
    "phones = preproc.clean_cols(phones)\r\n",
    "phones = preproc.fill_empty_lists(phones)\r\n",
    "phones = preproc.preprocess_reviews(phones)\r\n",
    "phones = feature_eng.generate_features(phones)\r\n",
    "phones = feature_eng.do_PCA(phones)\r\n",
    "phones['TOTAL_SALES_QBINNED'] = pd.qcut(phones['TOTAL_SALES'], 3, labels=[0,1,2])\r\n",
    "# desktops\r\n",
    "desktops = pd.read_json('full_data/desktops.json')\r\n",
    "desktops = join_y(desktops, 'raw_data/desktops_sales.csv')\r\n",
    "desktops = preproc.clean_cols(desktops)\r\n",
    "desktops = preproc.fill_empty_lists(desktops)\r\n",
    "desktops = preproc.preprocess_reviews(desktops)\r\n",
    "desktops = feature_eng.generate_features(desktops)\r\n",
    "desktops = feature_eng.do_PCA(desktops)\r\n",
    "desktops['TOTAL_SALES_QBINNED'] = pd.qcut(desktops['TOTAL_SALES'], 3, labels=[0,1,2])\r\n",
    "# tablets\r\n",
    "tablets = pd.read_json('full_data/tablets.json')\r\n",
    "tablets = join_y(tablets, 'raw_data/tablet_sales.csv')\r\n",
    "tablets = tablets[tablets['no_reviews'].notna()]\r\n",
    "tablets = preproc.clean_cols(tablets)\r\n",
    "tablets = preproc.fill_empty_lists(tablets)\r\n",
    "tablets = preproc.preprocess_reviews(tablets)\r\n",
    "tablets = feature_eng.generate_features(tablets)\r\n",
    "tablets = feature_eng.do_PCA(tablets)\r\n",
    "tablets['TOTAL_SALES_QBINNED'] = pd.qcut(tablets['TOTAL_SALES'], 3, labels=[0,1,2])"
   ],
   "outputs": [
    {
     "output_type": "stream",
     "name": "stdout",
     "text": [
      "[nltk_data] Downloading package wordnet to\n",
      "[nltk_data]     C:\\Users\\Rory\\AppData\\Roaming\\nltk_data...\n",
      "[nltk_data]   Package wordnet is already up-to-date!\n",
      "[nltk_data] Downloading package stopwords to\n",
      "[nltk_data]     C:\\Users\\Rory\\AppData\\Roaming\\nltk_data...\n",
      "[nltk_data]   Package stopwords is already up-to-date!\n",
      "[nltk_data] Downloading package wordnet to\n",
      "[nltk_data]     C:\\Users\\Rory\\AppData\\Roaming\\nltk_data...\n",
      "[nltk_data]   Package wordnet is already up-to-date!\n",
      "[nltk_data] Downloading package stopwords to\n",
      "[nltk_data]     C:\\Users\\Rory\\AppData\\Roaming\\nltk_data...\n",
      "[nltk_data]   Package stopwords is already up-to-date!\n",
      "[nltk_data] Downloading package wordnet to\n",
      "[nltk_data]     C:\\Users\\Rory\\AppData\\Roaming\\nltk_data...\n",
      "[nltk_data]   Package wordnet is already up-to-date!\n",
      "[nltk_data] Downloading package stopwords to\n",
      "[nltk_data]     C:\\Users\\Rory\\AppData\\Roaming\\nltk_data...\n",
      "[nltk_data]   Package stopwords is already up-to-date!\n",
      "[nltk_data] Downloading package wordnet to\n",
      "[nltk_data]     C:\\Users\\Rory\\AppData\\Roaming\\nltk_data...\n",
      "[nltk_data]   Package wordnet is already up-to-date!\n",
      "[nltk_data] Downloading package stopwords to\n",
      "[nltk_data]     C:\\Users\\Rory\\AppData\\Roaming\\nltk_data...\n",
      "[nltk_data]   Package stopwords is already up-to-date!\n"
     ]
    }
   ],
   "metadata": {}
  },
  {
   "cell_type": "markdown",
   "source": [
    "## Scaling"
   ],
   "metadata": {}
  },
  {
   "cell_type": "code",
   "execution_count": 3,
   "source": [
    "laptops = laptops.select_dtypes(include=['float', 'int64','int32','float64'])\r\n",
    "laptops['price/Rvol'] = laptops['price/Rvol'].replace(np.inf, laptops['price/Rvol'].median())\r\n",
    "for col in laptops.columns:\r\n",
    "    laptops[col] = laptops[col].replace(np.nan, laptops[col].median())\r\n",
    "laptops = (laptops-laptops.mean())/laptops.std()\r\n",
    "\r\n",
    "laptops = feature_eng.get_y_true(laptops)\r\n",
    "\r\n"
   ],
   "outputs": [],
   "metadata": {}
  },
  {
   "cell_type": "code",
   "execution_count": 4,
   "source": [
    "phones = phones.select_dtypes(include=['float', 'int64','int32','float64'])\r\n",
    "phones['price/Rvol'] = phones['price/Rvol'].replace(np.inf, phones['price/Rvol'].median())\r\n",
    "for col in phones.columns:\r\n",
    "    phones[col] = phones[col].replace(np.nan, phones[col].median())\r\n",
    "phones = (phones-phones.mean())/phones.std()\r\n",
    "\r\n",
    "phones = feature_eng.get_y_true(phones)\r\n"
   ],
   "outputs": [],
   "metadata": {}
  },
  {
   "cell_type": "code",
   "execution_count": 5,
   "source": [
    "tablets = tablets.select_dtypes(include=['float', 'int64','int32','float64'])\r\n",
    "tablets['price/Rvol'] = tablets['price/Rvol'].replace(np.inf, tablets['price/Rvol'].median())\r\n",
    "for col in tablets.columns:\r\n",
    "    tablets[col] = tablets[col].replace(np.nan, tablets[col].median())\r\n",
    "tablets = (tablets-tablets.mean())/tablets.std()\r\n",
    "\r\n",
    "tablets = feature_eng.get_y_true(tablets)\r\n"
   ],
   "outputs": [],
   "metadata": {}
  },
  {
   "cell_type": "code",
   "execution_count": 6,
   "source": [
    "desktops = desktops.select_dtypes(include=['float', 'int64','int32','float64'])\r\n",
    "desktops['price/Rvol'] = desktops['price/Rvol'].replace(np.inf, desktops['price/Rvol'].median())\r\n",
    "for col in desktops.columns:\r\n",
    "    desktops[col] = desktops[col].replace(np.nan, desktops[col].median())\r\n",
    "desktops = (desktops-desktops.mean())/desktops.std()\r\n",
    "\r\n",
    "desktops = feature_eng.get_y_true(desktops)\r\n"
   ],
   "outputs": [],
   "metadata": {}
  },
  {
   "cell_type": "code",
   "execution_count": 7,
   "source": [
    "laptops.name = 'laptops'\r\n",
    "desktops.name = 'desktops'\r\n",
    "phones.name = 'phones'\r\n",
    "tablets.name = 'tablets'"
   ],
   "outputs": [],
   "metadata": {}
  },
  {
   "cell_type": "markdown",
   "source": [
    "## 'no_reviews','Rvol/%rec','pos_reviews'"
   ],
   "metadata": {}
  },
  {
   "cell_type": "code",
   "execution_count": 8,
   "source": [
    "results = run_dbscan_gs(\r\n",
    "    dataframes=[laptops,phones,desktops,tablets],\r\n",
    "    features=['no_reviews','Rvol/%rec','pos_reviews'],\r\n",
    "    epsilon_range = [x / 100.0 for x in range(20, 200, 5)],\r\n",
    "    min_sample_range = [x for x in range(2, 8, 1)],\r\n",
    "    iterations=1000\r\n",
    ")\r\n",
    "(get_best_models(results)).head(10)"
   ],
   "outputs": [
    {
     "output_type": "execute_result",
     "data": {
      "text/html": [
       "<div>\n",
       "<style scoped>\n",
       "    .dataframe tbody tr th:only-of-type {\n",
       "        vertical-align: middle;\n",
       "    }\n",
       "\n",
       "    .dataframe tbody tr th {\n",
       "        vertical-align: top;\n",
       "    }\n",
       "\n",
       "    .dataframe thead th {\n",
       "        text-align: right;\n",
       "    }\n",
       "</style>\n",
       "<table border=\"1\" class=\"dataframe\">\n",
       "  <thead>\n",
       "    <tr style=\"text-align: right;\">\n",
       "      <th></th>\n",
       "      <th>precision_mean</th>\n",
       "      <th>recall_mean</th>\n",
       "      <th>epsilon</th>\n",
       "      <th>m_samples_divisor</th>\n",
       "      <th>f1_score</th>\n",
       "    </tr>\n",
       "  </thead>\n",
       "  <tbody>\n",
       "  </tbody>\n",
       "</table>\n",
       "</div>"
      ],
      "text/plain": [
       "Empty DataFrame\n",
       "Columns: [precision_mean, recall_mean, epsilon, m_samples_divisor, f1_score]\n",
       "Index: []"
      ]
     },
     "metadata": {},
     "execution_count": 8
    }
   ],
   "metadata": {}
  },
  {
   "cell_type": "markdown",
   "source": [
    "## no_reviews , Rvol/%rec"
   ],
   "metadata": {}
  },
  {
   "cell_type": "code",
   "execution_count": 9,
   "source": [
    "results = run_dbscan_gs(\r\n",
    "    dataframes=[laptops,phones,desktops,tablets],\r\n",
    "    features=['no_reviews','Rvol/%rec'],\r\n",
    "    epsilon_range = [x / 100.0 for x in range(20, 200, 5)],\r\n",
    "    min_sample_range = [x for x in range(2, 8, 1)],\r\n",
    "    iterations=1000\r\n",
    ")\r\n",
    "(get_best_models(results)).head(10)"
   ],
   "outputs": [
    {
     "output_type": "execute_result",
     "data": {
      "text/html": [
       "<div>\n",
       "<style scoped>\n",
       "    .dataframe tbody tr th:only-of-type {\n",
       "        vertical-align: middle;\n",
       "    }\n",
       "\n",
       "    .dataframe tbody tr th {\n",
       "        vertical-align: top;\n",
       "    }\n",
       "\n",
       "    .dataframe thead th {\n",
       "        text-align: right;\n",
       "    }\n",
       "</style>\n",
       "<table border=\"1\" class=\"dataframe\">\n",
       "  <thead>\n",
       "    <tr style=\"text-align: right;\">\n",
       "      <th></th>\n",
       "      <th>precision_mean</th>\n",
       "      <th>recall_mean</th>\n",
       "      <th>epsilon</th>\n",
       "      <th>m_samples_divisor</th>\n",
       "      <th>f1_score</th>\n",
       "    </tr>\n",
       "  </thead>\n",
       "  <tbody>\n",
       "  </tbody>\n",
       "</table>\n",
       "</div>"
      ],
      "text/plain": [
       "Empty DataFrame\n",
       "Columns: [precision_mean, recall_mean, epsilon, m_samples_divisor, f1_score]\n",
       "Index: []"
      ]
     },
     "metadata": {},
     "execution_count": 9
    }
   ],
   "metadata": {}
  },
  {
   "cell_type": "code",
   "execution_count": 10,
   "source": [
    "results = run_dbscan_gs(\r\n",
    "    dataframes=[laptops,phones,desktops,tablets],\r\n",
    "    features=['no_reviews'],\r\n",
    "    epsilon_range = [x / 100.0 for x in range(20, 200, 5)],\r\n",
    "    min_sample_range = [x for x in range(2, 8, 1)],\r\n",
    "    iterations=1000\r\n",
    ")\r\n",
    "(get_best_models(results)).head(10)"
   ],
   "outputs": [
    {
     "output_type": "execute_result",
     "data": {
      "text/html": [
       "<div>\n",
       "<style scoped>\n",
       "    .dataframe tbody tr th:only-of-type {\n",
       "        vertical-align: middle;\n",
       "    }\n",
       "\n",
       "    .dataframe tbody tr th {\n",
       "        vertical-align: top;\n",
       "    }\n",
       "\n",
       "    .dataframe thead th {\n",
       "        text-align: right;\n",
       "    }\n",
       "</style>\n",
       "<table border=\"1\" class=\"dataframe\">\n",
       "  <thead>\n",
       "    <tr style=\"text-align: right;\">\n",
       "      <th></th>\n",
       "      <th>precision_mean</th>\n",
       "      <th>recall_mean</th>\n",
       "      <th>epsilon</th>\n",
       "      <th>m_samples_divisor</th>\n",
       "      <th>f1_score</th>\n",
       "    </tr>\n",
       "  </thead>\n",
       "  <tbody>\n",
       "  </tbody>\n",
       "</table>\n",
       "</div>"
      ],
      "text/plain": [
       "Empty DataFrame\n",
       "Columns: [precision_mean, recall_mean, epsilon, m_samples_divisor, f1_score]\n",
       "Index: []"
      ]
     },
     "metadata": {},
     "execution_count": 10
    }
   ],
   "metadata": {}
  },
  {
   "cell_type": "code",
   "execution_count": 11,
   "source": [
    "results = run_dbscan_gs(\r\n",
    "    dataframes=[laptops,phones,desktops,tablets],\r\n",
    "    features=['Rvol/%rec'],\r\n",
    "    epsilon_range = [x / 100.0 for x in range(20, 200, 5)],\r\n",
    "    min_sample_range = [x for x in range(2, 8, 1)],\r\n",
    "    iterations=1000\r\n",
    ")\r\n",
    "(get_best_models(results)).head(10)"
   ],
   "outputs": [
    {
     "output_type": "execute_result",
     "data": {
      "text/html": [
       "<div>\n",
       "<style scoped>\n",
       "    .dataframe tbody tr th:only-of-type {\n",
       "        vertical-align: middle;\n",
       "    }\n",
       "\n",
       "    .dataframe tbody tr th {\n",
       "        vertical-align: top;\n",
       "    }\n",
       "\n",
       "    .dataframe thead th {\n",
       "        text-align: right;\n",
       "    }\n",
       "</style>\n",
       "<table border=\"1\" class=\"dataframe\">\n",
       "  <thead>\n",
       "    <tr style=\"text-align: right;\">\n",
       "      <th></th>\n",
       "      <th>precision_mean</th>\n",
       "      <th>recall_mean</th>\n",
       "      <th>epsilon</th>\n",
       "      <th>m_samples_divisor</th>\n",
       "      <th>f1_score</th>\n",
       "    </tr>\n",
       "  </thead>\n",
       "  <tbody>\n",
       "  </tbody>\n",
       "</table>\n",
       "</div>"
      ],
      "text/plain": [
       "Empty DataFrame\n",
       "Columns: [precision_mean, recall_mean, epsilon, m_samples_divisor, f1_score]\n",
       "Index: []"
      ]
     },
     "metadata": {},
     "execution_count": 11
    }
   ],
   "metadata": {}
  },
  {
   "cell_type": "code",
   "execution_count": 12,
   "source": [
    "results = run_dbscan_gs(\r\n",
    "    dataframes=[laptops,phones,desktops,tablets],\r\n",
    "    features=['no_reviews','Rvol/%rec','pos_reviews','neg_reviews'],\r\n",
    "    epsilon_range = [x / 100.0 for x in range(20, 200, 5)],\r\n",
    "    min_sample_range = [x for x in range(2, 8, 1)],\r\n",
    "    iterations=1000\r\n",
    ")\r\n",
    "(get_best_models(results)).head(10)"
   ],
   "outputs": [
    {
     "output_type": "execute_result",
     "data": {
      "text/html": [
       "<div>\n",
       "<style scoped>\n",
       "    .dataframe tbody tr th:only-of-type {\n",
       "        vertical-align: middle;\n",
       "    }\n",
       "\n",
       "    .dataframe tbody tr th {\n",
       "        vertical-align: top;\n",
       "    }\n",
       "\n",
       "    .dataframe thead th {\n",
       "        text-align: right;\n",
       "    }\n",
       "</style>\n",
       "<table border=\"1\" class=\"dataframe\">\n",
       "  <thead>\n",
       "    <tr style=\"text-align: right;\">\n",
       "      <th></th>\n",
       "      <th>precision_mean</th>\n",
       "      <th>recall_mean</th>\n",
       "      <th>epsilon</th>\n",
       "      <th>m_samples_divisor</th>\n",
       "      <th>f1_score</th>\n",
       "    </tr>\n",
       "  </thead>\n",
       "  <tbody>\n",
       "  </tbody>\n",
       "</table>\n",
       "</div>"
      ],
      "text/plain": [
       "Empty DataFrame\n",
       "Columns: [precision_mean, recall_mean, epsilon, m_samples_divisor, f1_score]\n",
       "Index: []"
      ]
     },
     "metadata": {},
     "execution_count": 12
    }
   ],
   "metadata": {}
  },
  {
   "cell_type": "code",
   "execution_count": 13,
   "source": [
    "# This is PCA over 12 odd features (from module)\r\n",
    "results = run_dbscan_gs(\r\n",
    "    dataframes=[laptops,phones,desktops,tablets],\r\n",
    "    features=['c1','c2'],\r\n",
    "    epsilon_range = [x / 100.0 for x in range(20, 200, 5)],\r\n",
    "    min_sample_range = [x for x in range(2, 8, 1)],\r\n",
    "    iterations=1000\r\n",
    ")\r\n",
    "(get_best_models(results)).head(10)"
   ],
   "outputs": [
    {
     "output_type": "execute_result",
     "data": {
      "text/html": [
       "<div>\n",
       "<style scoped>\n",
       "    .dataframe tbody tr th:only-of-type {\n",
       "        vertical-align: middle;\n",
       "    }\n",
       "\n",
       "    .dataframe tbody tr th {\n",
       "        vertical-align: top;\n",
       "    }\n",
       "\n",
       "    .dataframe thead th {\n",
       "        text-align: right;\n",
       "    }\n",
       "</style>\n",
       "<table border=\"1\" class=\"dataframe\">\n",
       "  <thead>\n",
       "    <tr style=\"text-align: right;\">\n",
       "      <th></th>\n",
       "      <th>precision_mean</th>\n",
       "      <th>recall_mean</th>\n",
       "      <th>epsilon</th>\n",
       "      <th>m_samples_divisor</th>\n",
       "      <th>f1_score</th>\n",
       "    </tr>\n",
       "  </thead>\n",
       "  <tbody>\n",
       "  </tbody>\n",
       "</table>\n",
       "</div>"
      ],
      "text/plain": [
       "Empty DataFrame\n",
       "Columns: [precision_mean, recall_mean, epsilon, m_samples_divisor, f1_score]\n",
       "Index: []"
      ]
     },
     "metadata": {},
     "execution_count": 13
    }
   ],
   "metadata": {}
  },
  {
   "cell_type": "code",
   "execution_count": 14,
   "source": [
    "results = run_dbscan_gs(\r\n",
    "    dataframes=[laptops,phones,desktops,tablets],\r\n",
    "    features=['no_reviews','Rvol/%rec','price'],\r\n",
    "    epsilon_range = [x / 100.0 for x in range(20, 200, 5)],\r\n",
    "    min_sample_range = [x for x in range(2, 8, 1)],\r\n",
    "    iterations=1000\r\n",
    ")\r\n",
    "(get_best_models(results)).head(10)"
   ],
   "outputs": [
    {
     "output_type": "execute_result",
     "data": {
      "text/html": [
       "<div>\n",
       "<style scoped>\n",
       "    .dataframe tbody tr th:only-of-type {\n",
       "        vertical-align: middle;\n",
       "    }\n",
       "\n",
       "    .dataframe tbody tr th {\n",
       "        vertical-align: top;\n",
       "    }\n",
       "\n",
       "    .dataframe thead th {\n",
       "        text-align: right;\n",
       "    }\n",
       "</style>\n",
       "<table border=\"1\" class=\"dataframe\">\n",
       "  <thead>\n",
       "    <tr style=\"text-align: right;\">\n",
       "      <th></th>\n",
       "      <th>precision_mean</th>\n",
       "      <th>recall_mean</th>\n",
       "      <th>epsilon</th>\n",
       "      <th>m_samples_divisor</th>\n",
       "      <th>f1_score</th>\n",
       "    </tr>\n",
       "  </thead>\n",
       "  <tbody>\n",
       "  </tbody>\n",
       "</table>\n",
       "</div>"
      ],
      "text/plain": [
       "Empty DataFrame\n",
       "Columns: [precision_mean, recall_mean, epsilon, m_samples_divisor, f1_score]\n",
       "Index: []"
      ]
     },
     "metadata": {},
     "execution_count": 14
    }
   ],
   "metadata": {}
  },
  {
   "cell_type": "code",
   "execution_count": 15,
   "source": [
    "def evaluate_clusters(\r\n",
    "    predicted_y,\r\n",
    "    real_y,\r\n",
    "):\r\n",
    "    \"\"\"Evaluates clustering results, uses silouette and rand if specified. Cannot be used with DBSCAN\"\"\"\r\n",
    "    sns.kdeplot(predicted_y, real_y.astype(int), shade=True,shade_lowest=True,cbar=True)\r\n",
    "    plt.title('Cluster labels with total sales')"
   ],
   "outputs": [],
   "metadata": {}
  },
  {
   "cell_type": "markdown",
   "source": [
    "## laptops"
   ],
   "metadata": {}
  },
  {
   "cell_type": "code",
   "execution_count": 16,
   "source": [
    "dbscan_model = DBSCAN(eps=0.6, min_samples=(len(laptops))/6)\r\n",
    "db_clust = dbscan_model.fit_predict(laptops[['no_reviews']])\r\n",
    "laptops['db_clust'] = pd.Series(db_clust, index=laptops.index)\r\n",
    "get_eval_scores(laptops['y_true'], laptops['db_clust'])\r\n",
    "#cluster_intelligence.evaluate_clusters(laptops['db_clust'] ,laptops['TOTAL_SALES'])"
   ],
   "outputs": [
    {
     "output_type": "execute_result",
     "data": {
      "text/plain": [
       "(1.0,\n",
       " 0.875,\n",
       " <function sklearn.metrics._classification.f1_score(y_true, y_pred, *, labels=None, pos_label=1, average='binary', sample_weight=None, zero_division='warn')>)"
      ]
     },
     "metadata": {},
     "execution_count": 16
    }
   ],
   "metadata": {}
  },
  {
   "cell_type": "code",
   "execution_count": 17,
   "source": [
    "dbscan_model = DBSCAN(eps=0.95, min_samples=(len(laptops))/5)\r\n",
    "db_clust = dbscan_model.fit_predict(laptops[['no_reviews','Rvol/%rec']])\r\n",
    "laptops['db_clust'] = pd.Series(db_clust, index=laptops.index)\r\n",
    "get_eval_scores(laptops['y_true'], laptops['db_clust'])"
   ],
   "outputs": [
    {
     "output_type": "execute_result",
     "data": {
      "text/plain": [
       "(1.0,\n",
       " 0.875,\n",
       " <function sklearn.metrics._classification.f1_score(y_true, y_pred, *, labels=None, pos_label=1, average='binary', sample_weight=None, zero_division='warn')>)"
      ]
     },
     "metadata": {},
     "execution_count": 17
    }
   ],
   "metadata": {}
  },
  {
   "cell_type": "code",
   "execution_count": 18,
   "source": [
    "cluster_intelligence.cluster_report(laptops[['no_reviews']],db_clust)"
   ],
   "outputs": [
    {
     "output_type": "display_data",
     "data": {
      "text/html": [
       "<table border=\"1\" class=\"dataframe\">\n",
       "  <thead>\n",
       "    <tr style=\"text-align: right;\">\n",
       "      <th></th>\n",
       "      <th>class_name</th>\n",
       "      <th>instance_count</th>\n",
       "      <th>rule_list</th>\n",
       "    </tr>\n",
       "  </thead>\n",
       "  <tbody>\n",
       "    <tr>\n",
       "      <th>1</th>\n",
       "      <td>-1</td>\n",
       "      <td>7</td>\n",
       "      <td>NaN</td>\n",
       "    </tr>\n",
       "    <tr>\n",
       "      <th>0</th>\n",
       "      <td>0</td>\n",
       "      <td>105</td>\n",
       "      <td>[0.9375] ALL<br><br></td>\n",
       "    </tr>\n",
       "  </tbody>\n",
       "</table>"
      ],
      "text/plain": [
       "<IPython.core.display.HTML object>"
      ]
     },
     "metadata": {}
    }
   ],
   "metadata": {}
  },
  {
   "cell_type": "code",
   "execution_count": 19,
   "source": [
    "from sklearn.metrics import precision_recall_curve, precision_score, recall_score, f1_score\r\n",
    "def get_eval_scores(\r\n",
    "    y_true,\r\n",
    "    y_pred,\r\n",
    "    print_results = False,\r\n",
    "):\r\n",
    "    \"\"\"Calculates precision and recall scores of input y-vals\"\"\"\r\n",
    "    pscore = precision_score(y_true, y_pred, pos_label=-1)\r\n",
    "    rscore = recall_score(y_true, y_pred, pos_label=-1)\r\n",
    "    f1score = f1_score(y_true, y_pred, pos_label=-1)\r\n",
    "    if print_results:\r\n",
    "        print(f\"The precision score is: {pscore} and the recall is {rscore} and the f1score is {f1score}\")\r\n",
    "\r\n",
    "    return pscore, rscore, f1score"
   ],
   "outputs": [],
   "metadata": {}
  },
  {
   "cell_type": "code",
   "execution_count": 20,
   "source": [
    "print(laptops.loc[laptops.db_clust==-1]['TOTAL_SALES'].mean())\r\n",
    "print(laptops.loc[laptops.db_clust==-0]['TOTAL_SALES'].mean())"
   ],
   "outputs": [
    {
     "output_type": "stream",
     "name": "stdout",
     "text": [
      "2.692044580497955\n",
      "-0.17946963869986365\n"
     ]
    }
   ],
   "metadata": {}
  },
  {
   "cell_type": "code",
   "execution_count": 21,
   "source": [
    "laptops['db_clust'] = pd.Series(db_clust, index=laptops.index)\r\n",
    "f, axes = plt.subplots(1,3, figsize=(15,15))\r\n",
    "sns.scatterplot(x=laptops['no_reviews'], y=laptops['pos_reviews'], hue=laptops['db_clust'],ax=axes[0])\r\n",
    "sns.scatterplot(x=laptops['no_reviews'], y=laptops['Rvol/%rec'],hue=laptops['db_clust'], ax=axes[1])\r\n",
    "sns.scatterplot(x=laptops['pos_reviews'], y=laptops['Rvol/%rec'],hue=laptops['db_clust'], ax=axes[2])"
   ],
   "outputs": [
    {
     "output_type": "execute_result",
     "data": {
      "text/plain": [
       "<matplotlib.axes._subplots.AxesSubplot at 0x172ed8b12e8>"
      ]
     },
     "metadata": {},
     "execution_count": 21
    },
    {
     "output_type": "display_data",
     "data": {
      "image/png": "[encoded data removed]",
      "text/plain": [
       "<Figure size 1080x1080 with 3 Axes>"
      ]
     },
     "metadata": {
      "needs_background": "light"
     }
    }
   ],
   "metadata": {}
  },
  {
   "cell_type": "markdown",
   "source": [
    "## phones"
   ],
   "metadata": {}
  },
  {
   "cell_type": "code",
   "execution_count": 22,
   "source": [
    "\r\n",
    "dbscan_model = DBSCAN(eps=0.6, min_samples=(len(phones))/6)\r\n",
    "db_clust = dbscan_model.fit_predict(phones[['no_reviews']])\r\n",
    "phones['db_clust'] = pd.Series(db_clust, index=phones.index)\r\n",
    "get_eval_scores(phones['y_true'], phones['db_clust'])\r\n",
    "#evaluate_clusters(phones['db_clust'] ,phones['TOTAL_SALES'])"
   ],
   "outputs": [
    {
     "output_type": "execute_result",
     "data": {
      "text/plain": [
       "(0.2619047619047619, 0.6111111111111112, 0.36666666666666675)"
      ]
     },
     "metadata": {},
     "execution_count": 22
    }
   ],
   "metadata": {}
  },
  {
   "cell_type": "code",
   "execution_count": 23,
   "source": [
    "dbscan_model = DBSCAN(eps=0.95, min_samples=(len(phones))/5)\r\n",
    "db_clust = dbscan_model.fit_predict(phones[['no_reviews','Rvol/%rec']])\r\n",
    "phones['db_clust'] = pd.Series(db_clust, index=phones.index)\r\n",
    "get_eval_scores(phones['y_true'], phones['db_clust'])"
   ],
   "outputs": [
    {
     "output_type": "execute_result",
     "data": {
      "text/plain": [
       "(0.2619047619047619, 0.6111111111111112, 0.36666666666666675)"
      ]
     },
     "metadata": {},
     "execution_count": 23
    }
   ],
   "metadata": {}
  },
  {
   "cell_type": "code",
   "execution_count": 24,
   "source": [
    "print(phones.loc[phones.db_clust==-1]['TOTAL_SALES'].mean())\r\n",
    "print(phones.loc[phones.db_clust==-0]['TOTAL_SALES'].mean())"
   ],
   "outputs": [
    {
     "output_type": "stream",
     "name": "stdout",
     "text": [
      "0.8610308822060502\n",
      "-0.1697807373364042\n"
     ]
    }
   ],
   "metadata": {}
  },
  {
   "cell_type": "code",
   "execution_count": 25,
   "source": [
    "phones.loc[phones['y_true']==-1]"
   ],
   "outputs": [
    {
     "output_type": "execute_result",
     "data": {
      "text/html": [
       "<div>\n",
       "<style scoped>\n",
       "    .dataframe tbody tr th:only-of-type {\n",
       "        vertical-align: middle;\n",
       "    }\n",
       "\n",
       "    .dataframe tbody tr th {\n",
       "        vertical-align: top;\n",
       "    }\n",
       "\n",
       "    .dataframe thead th {\n",
       "        text-align: right;\n",
       "    }\n",
       "</style>\n",
       "<table border=\"1\" class=\"dataframe\">\n",
       "  <thead>\n",
       "    <tr style=\"text-align: right;\">\n",
       "      <th></th>\n",
       "      <th>index</th>\n",
       "      <th>price</th>\n",
       "      <th>remotekey</th>\n",
       "      <th>shelf_order</th>\n",
       "      <th>no_reviews</th>\n",
       "      <th>recommendation_percent</th>\n",
       "      <th>summary_star_rating</th>\n",
       "      <th>TOTAL_SALES</th>\n",
       "      <th>neg_reviews</th>\n",
       "      <th>pos_reviews</th>\n",
       "      <th>price/Rvol</th>\n",
       "      <th>Rvol/%rec</th>\n",
       "      <th>posR/Rvol</th>\n",
       "      <th>negR/Rvol</th>\n",
       "      <th>index</th>\n",
       "      <th>c1</th>\n",
       "      <th>c2</th>\n",
       "      <th>y_true</th>\n",
       "      <th>db_clust</th>\n",
       "    </tr>\n",
       "  </thead>\n",
       "  <tbody>\n",
       "    <tr>\n",
       "      <th>0</th>\n",
       "      <td>-1.721886</td>\n",
       "      <td>-1.119432</td>\n",
       "      <td>-0.236987</td>\n",
       "      <td>-1.598110</td>\n",
       "      <td>2.668618</td>\n",
       "      <td>0.671424</td>\n",
       "      <td>0.639561</td>\n",
       "      <td>6.018125</td>\n",
       "      <td>0.667909</td>\n",
       "      <td>2.871703</td>\n",
       "      <td>-0.357477</td>\n",
       "      <td>2.459782</td>\n",
       "      <td>0.140270</td>\n",
       "      <td>-0.064414</td>\n",
       "      <td>-1.721886</td>\n",
       "      <td>2.079133</td>\n",
       "      <td>-0.003404</td>\n",
       "      <td>-1.0</td>\n",
       "      <td>-1</td>\n",
       "    </tr>\n",
       "    <tr>\n",
       "      <th>2</th>\n",
       "      <td>-1.694769</td>\n",
       "      <td>-1.250100</td>\n",
       "      <td>-0.189430</td>\n",
       "      <td>-1.484358</td>\n",
       "      <td>2.977382</td>\n",
       "      <td>0.157481</td>\n",
       "      <td>0.262152</td>\n",
       "      <td>2.832765</td>\n",
       "      <td>7.401053</td>\n",
       "      <td>2.171390</td>\n",
       "      <td>-0.358157</td>\n",
       "      <td>3.790766</td>\n",
       "      <td>-3.211646</td>\n",
       "      <td>3.219358</td>\n",
       "      <td>-1.694769</td>\n",
       "      <td>4.191226</td>\n",
       "      <td>2.708138</td>\n",
       "      <td>-1.0</td>\n",
       "      <td>-1</td>\n",
       "    </tr>\n",
       "    <tr>\n",
       "      <th>4</th>\n",
       "      <td>-1.667653</td>\n",
       "      <td>-0.546520</td>\n",
       "      <td>0.109254</td>\n",
       "      <td>-1.370605</td>\n",
       "      <td>1.422265</td>\n",
       "      <td>0.484535</td>\n",
       "      <td>0.592385</td>\n",
       "      <td>1.102339</td>\n",
       "      <td>0.667909</td>\n",
       "      <td>1.445916</td>\n",
       "      <td>-0.352281</td>\n",
       "      <td>1.432704</td>\n",
       "      <td>-0.443502</td>\n",
       "      <td>0.280555</td>\n",
       "      <td>-1.667653</td>\n",
       "      <td>1.276268</td>\n",
       "      <td>0.034421</td>\n",
       "      <td>-1.0</td>\n",
       "      <td>-1</td>\n",
       "    </tr>\n",
       "    <tr>\n",
       "      <th>5</th>\n",
       "      <td>-1.654095</td>\n",
       "      <td>-1.250100</td>\n",
       "      <td>-2.429240</td>\n",
       "      <td>-1.313729</td>\n",
       "      <td>3.421701</td>\n",
       "      <td>0.461174</td>\n",
       "      <td>0.450856</td>\n",
       "      <td>7.397433</td>\n",
       "      <td>4.192642</td>\n",
       "      <td>3.156861</td>\n",
       "      <td>-0.358220</td>\n",
       "      <td>3.592092</td>\n",
       "      <td>-1.353444</td>\n",
       "      <td>1.382670</td>\n",
       "      <td>-1.654095</td>\n",
       "      <td>3.545233</td>\n",
       "      <td>1.347360</td>\n",
       "      <td>-1.0</td>\n",
       "      <td>-1</td>\n",
       "    </tr>\n",
       "    <tr>\n",
       "      <th>6</th>\n",
       "      <td>-1.640537</td>\n",
       "      <td>-1.333794</td>\n",
       "      <td>-1.291538</td>\n",
       "      <td>-1.256853</td>\n",
       "      <td>2.830531</td>\n",
       "      <td>0.507896</td>\n",
       "      <td>0.498032</td>\n",
       "      <td>5.865769</td>\n",
       "      <td>2.204332</td>\n",
       "      <td>2.670415</td>\n",
       "      <td>-0.358515</td>\n",
       "      <td>2.878351</td>\n",
       "      <td>-1.128468</td>\n",
       "      <td>0.701920</td>\n",
       "      <td>-1.640537</td>\n",
       "      <td>2.623773</td>\n",
       "      <td>0.804359</td>\n",
       "      <td>-1.0</td>\n",
       "      <td>-1</td>\n",
       "    </tr>\n",
       "    <tr>\n",
       "      <th>7</th>\n",
       "      <td>-1.626978</td>\n",
       "      <td>0.055032</td>\n",
       "      <td>-2.343874</td>\n",
       "      <td>-1.199977</td>\n",
       "      <td>2.597075</td>\n",
       "      <td>0.741507</td>\n",
       "      <td>0.733913</td>\n",
       "      <td>1.713605</td>\n",
       "      <td>-0.281057</td>\n",
       "      <td>2.917831</td>\n",
       "      <td>-0.351696</td>\n",
       "      <td>2.296496</td>\n",
       "      <td>0.585585</td>\n",
       "      <td>-0.577176</td>\n",
       "      <td>-1.626978</td>\n",
       "      <td>1.808449</td>\n",
       "      <td>-0.640161</td>\n",
       "      <td>-1.0</td>\n",
       "      <td>-1</td>\n",
       "    </tr>\n",
       "    <tr>\n",
       "      <th>8</th>\n",
       "      <td>-1.613420</td>\n",
       "      <td>-0.337284</td>\n",
       "      <td>-0.066045</td>\n",
       "      <td>-1.143101</td>\n",
       "      <td>1.904238</td>\n",
       "      <td>0.741507</td>\n",
       "      <td>0.733913</td>\n",
       "      <td>2.106097</td>\n",
       "      <td>-0.145490</td>\n",
       "      <td>2.150423</td>\n",
       "      <td>-0.352210</td>\n",
       "      <td>1.646444</td>\n",
       "      <td>0.562973</td>\n",
       "      <td>-0.467680</td>\n",
       "      <td>-1.613420</td>\n",
       "      <td>1.342560</td>\n",
       "      <td>-0.582239</td>\n",
       "      <td>-1.0</td>\n",
       "      <td>-1</td>\n",
       "    </tr>\n",
       "    <tr>\n",
       "      <th>10</th>\n",
       "      <td>-1.586304</td>\n",
       "      <td>-1.302408</td>\n",
       "      <td>0.629700</td>\n",
       "      <td>-1.029348</td>\n",
       "      <td>0.036591</td>\n",
       "      <td>0.554618</td>\n",
       "      <td>0.545209</td>\n",
       "      <td>1.782478</td>\n",
       "      <td>0.080454</td>\n",
       "      <td>0.036903</td>\n",
       "      <td>-0.356826</td>\n",
       "      <td>-0.052449</td>\n",
       "      <td>-0.548965</td>\n",
       "      <td>0.611902</td>\n",
       "      <td>-1.586304</td>\n",
       "      <td>0.167899</td>\n",
       "      <td>0.023763</td>\n",
       "      <td>-1.0</td>\n",
       "      <td>0</td>\n",
       "    </tr>\n",
       "    <tr>\n",
       "      <th>35</th>\n",
       "      <td>-1.247350</td>\n",
       "      <td>-0.988555</td>\n",
       "      <td>0.508518</td>\n",
       "      <td>0.392557</td>\n",
       "      <td>-0.611061</td>\n",
       "      <td>-1.571236</td>\n",
       "      <td>-1.577720</td>\n",
       "      <td>4.637958</td>\n",
       "      <td>-0.371435</td>\n",
       "      <td>-0.613088</td>\n",
       "      <td>-0.204941</td>\n",
       "      <td>-0.415862</td>\n",
       "      <td>0.331413</td>\n",
       "      <td>-0.405199</td>\n",
       "      <td>-1.247350</td>\n",
       "      <td>-0.835221</td>\n",
       "      <td>1.295077</td>\n",
       "      <td>-1.0</td>\n",
       "      <td>0</td>\n",
       "    </tr>\n",
       "    <tr>\n",
       "      <th>36</th>\n",
       "      <td>-1.233792</td>\n",
       "      <td>-1.014710</td>\n",
       "      <td>0.636703</td>\n",
       "      <td>0.449434</td>\n",
       "      <td>-0.611061</td>\n",
       "      <td>-1.571236</td>\n",
       "      <td>-1.577720</td>\n",
       "      <td>2.111253</td>\n",
       "      <td>-0.371435</td>\n",
       "      <td>-0.613088</td>\n",
       "      <td>-0.204941</td>\n",
       "      <td>-0.415862</td>\n",
       "      <td>0.331413</td>\n",
       "      <td>-0.405199</td>\n",
       "      <td>-1.233792</td>\n",
       "      <td>-0.836126</td>\n",
       "      <td>1.300514</td>\n",
       "      <td>-1.0</td>\n",
       "      <td>0</td>\n",
       "    </tr>\n",
       "    <tr>\n",
       "      <th>39</th>\n",
       "      <td>-1.193118</td>\n",
       "      <td>-0.988555</td>\n",
       "      <td>0.508531</td>\n",
       "      <td>0.620062</td>\n",
       "      <td>-0.611061</td>\n",
       "      <td>-1.571236</td>\n",
       "      <td>-1.577720</td>\n",
       "      <td>1.904019</td>\n",
       "      <td>-0.371435</td>\n",
       "      <td>-0.613088</td>\n",
       "      <td>-0.204941</td>\n",
       "      <td>-0.415862</td>\n",
       "      <td>0.331413</td>\n",
       "      <td>-0.405199</td>\n",
       "      <td>-1.193118</td>\n",
       "      <td>-0.835221</td>\n",
       "      <td>1.295077</td>\n",
       "      <td>-1.0</td>\n",
       "      <td>0</td>\n",
       "    </tr>\n",
       "    <tr>\n",
       "      <th>46</th>\n",
       "      <td>-1.098210</td>\n",
       "      <td>-1.341640</td>\n",
       "      <td>0.291580</td>\n",
       "      <td>1.018196</td>\n",
       "      <td>-0.611061</td>\n",
       "      <td>-1.571236</td>\n",
       "      <td>-1.577720</td>\n",
       "      <td>1.161513</td>\n",
       "      <td>-0.371435</td>\n",
       "      <td>-0.613088</td>\n",
       "      <td>-0.204941</td>\n",
       "      <td>-0.415862</td>\n",
       "      <td>0.331413</td>\n",
       "      <td>-0.405199</td>\n",
       "      <td>-1.098210</td>\n",
       "      <td>-0.847438</td>\n",
       "      <td>1.368488</td>\n",
       "      <td>-1.0</td>\n",
       "      <td>0</td>\n",
       "    </tr>\n",
       "    <tr>\n",
       "      <th>54</th>\n",
       "      <td>-0.989745</td>\n",
       "      <td>-0.988555</td>\n",
       "      <td>0.508565</td>\n",
       "      <td>1.473206</td>\n",
       "      <td>-0.611061</td>\n",
       "      <td>-1.571236</td>\n",
       "      <td>-1.577720</td>\n",
       "      <td>3.184744</td>\n",
       "      <td>-0.371435</td>\n",
       "      <td>-0.613088</td>\n",
       "      <td>-0.204941</td>\n",
       "      <td>-0.415862</td>\n",
       "      <td>0.331413</td>\n",
       "      <td>-0.405199</td>\n",
       "      <td>-0.989745</td>\n",
       "      <td>-0.835221</td>\n",
       "      <td>1.295077</td>\n",
       "      <td>-1.0</td>\n",
       "      <td>0</td>\n",
       "    </tr>\n",
       "    <tr>\n",
       "      <th>63</th>\n",
       "      <td>-0.867722</td>\n",
       "      <td>-1.119327</td>\n",
       "      <td>0.340357</td>\n",
       "      <td>-1.370605</td>\n",
       "      <td>-0.611061</td>\n",
       "      <td>-1.571236</td>\n",
       "      <td>-1.577720</td>\n",
       "      <td>1.892602</td>\n",
       "      <td>-0.371435</td>\n",
       "      <td>-0.613088</td>\n",
       "      <td>-0.204941</td>\n",
       "      <td>-0.415862</td>\n",
       "      <td>0.331413</td>\n",
       "      <td>-0.405199</td>\n",
       "      <td>-0.867722</td>\n",
       "      <td>-0.839746</td>\n",
       "      <td>1.322266</td>\n",
       "      <td>-1.0</td>\n",
       "      <td>0</td>\n",
       "    </tr>\n",
       "    <tr>\n",
       "      <th>185</th>\n",
       "      <td>0.786373</td>\n",
       "      <td>-1.346871</td>\n",
       "      <td>-1.145832</td>\n",
       "      <td>0.904443</td>\n",
       "      <td>4.506141</td>\n",
       "      <td>0.437813</td>\n",
       "      <td>0.403680</td>\n",
       "      <td>5.171880</td>\n",
       "      <td>5.955009</td>\n",
       "      <td>3.949430</td>\n",
       "      <td>-0.358625</td>\n",
       "      <td>4.813434</td>\n",
       "      <td>-1.859025</td>\n",
       "      <td>1.568358</td>\n",
       "      <td>0.786373</td>\n",
       "      <td>4.697391</td>\n",
       "      <td>1.906790</td>\n",
       "      <td>-1.0</td>\n",
       "      <td>-1</td>\n",
       "    </tr>\n",
       "    <tr>\n",
       "      <th>228</th>\n",
       "      <td>1.369374</td>\n",
       "      <td>-1.171636</td>\n",
       "      <td>-0.065231</td>\n",
       "      <td>0.961320</td>\n",
       "      <td>0.993007</td>\n",
       "      <td>0.157481</td>\n",
       "      <td>0.214975</td>\n",
       "      <td>1.912859</td>\n",
       "      <td>3.379243</td>\n",
       "      <td>0.682700</td>\n",
       "      <td>-0.356680</td>\n",
       "      <td>1.299934</td>\n",
       "      <td>-2.839042</td>\n",
       "      <td>3.525258</td>\n",
       "      <td>1.369374</td>\n",
       "      <td>1.924090</td>\n",
       "      <td>1.852336</td>\n",
       "      <td>-1.0</td>\n",
       "      <td>-1</td>\n",
       "    </tr>\n",
       "    <tr>\n",
       "      <th>233</th>\n",
       "      <td>1.437164</td>\n",
       "      <td>-1.315486</td>\n",
       "      <td>-0.805905</td>\n",
       "      <td>1.245701</td>\n",
       "      <td>1.249055</td>\n",
       "      <td>0.507896</td>\n",
       "      <td>0.450856</td>\n",
       "      <td>1.452598</td>\n",
       "      <td>1.300554</td>\n",
       "      <td>1.177532</td>\n",
       "      <td>-0.358177</td>\n",
       "      <td>1.227816</td>\n",
       "      <td>-1.028189</td>\n",
       "      <td>0.969086</td>\n",
       "      <td>1.437164</td>\n",
       "      <td>1.335427</td>\n",
       "      <td>0.543648</td>\n",
       "      <td>-1.0</td>\n",
       "      <td>-1</td>\n",
       "    </tr>\n",
       "    <tr>\n",
       "      <th>234</th>\n",
       "      <td>1.450722</td>\n",
       "      <td>-1.315486</td>\n",
       "      <td>-0.859846</td>\n",
       "      <td>1.302577</td>\n",
       "      <td>1.158685</td>\n",
       "      <td>0.391091</td>\n",
       "      <td>0.403680</td>\n",
       "      <td>1.140765</td>\n",
       "      <td>1.888009</td>\n",
       "      <td>0.980438</td>\n",
       "      <td>-0.358149</td>\n",
       "      <td>1.243442</td>\n",
       "      <td>-1.755835</td>\n",
       "      <td>1.640097</td>\n",
       "      <td>1.450722</td>\n",
       "      <td>1.496512</td>\n",
       "      <td>0.953385</td>\n",
       "      <td>-1.0</td>\n",
       "      <td>-1</td>\n",
       "    </tr>\n",
       "  </tbody>\n",
       "</table>\n",
       "</div>"
      ],
      "text/plain": [
       "        index     price  remotekey  shelf_order  no_reviews  \\\n",
       "0   -1.721886 -1.119432  -0.236987    -1.598110    2.668618   \n",
       "2   -1.694769 -1.250100  -0.189430    -1.484358    2.977382   \n",
       "4   -1.667653 -0.546520   0.109254    -1.370605    1.422265   \n",
       "5   -1.654095 -1.250100  -2.429240    -1.313729    3.421701   \n",
       "6   -1.640537 -1.333794  -1.291538    -1.256853    2.830531   \n",
       "7   -1.626978  0.055032  -2.343874    -1.199977    2.597075   \n",
       "8   -1.613420 -0.337284  -0.066045    -1.143101    1.904238   \n",
       "10  -1.586304 -1.302408   0.629700    -1.029348    0.036591   \n",
       "35  -1.247350 -0.988555   0.508518     0.392557   -0.611061   \n",
       "36  -1.233792 -1.014710   0.636703     0.449434   -0.611061   \n",
       "39  -1.193118 -0.988555   0.508531     0.620062   -0.611061   \n",
       "46  -1.098210 -1.341640   0.291580     1.018196   -0.611061   \n",
       "54  -0.989745 -0.988555   0.508565     1.473206   -0.611061   \n",
       "63  -0.867722 -1.119327   0.340357    -1.370605   -0.611061   \n",
       "185  0.786373 -1.346871  -1.145832     0.904443    4.506141   \n",
       "228  1.369374 -1.171636  -0.065231     0.961320    0.993007   \n",
       "233  1.437164 -1.315486  -0.805905     1.245701    1.249055   \n",
       "234  1.450722 -1.315486  -0.859846     1.302577    1.158685   \n",
       "\n",
       "     recommendation_percent  summary_star_rating  TOTAL_SALES  neg_reviews  \\\n",
       "0                  0.671424             0.639561     6.018125     0.667909   \n",
       "2                  0.157481             0.262152     2.832765     7.401053   \n",
       "4                  0.484535             0.592385     1.102339     0.667909   \n",
       "5                  0.461174             0.450856     7.397433     4.192642   \n",
       "6                  0.507896             0.498032     5.865769     2.204332   \n",
       "7                  0.741507             0.733913     1.713605    -0.281057   \n",
       "8                  0.741507             0.733913     2.106097    -0.145490   \n",
       "10                 0.554618             0.545209     1.782478     0.080454   \n",
       "35                -1.571236            -1.577720     4.637958    -0.371435   \n",
       "36                -1.571236            -1.577720     2.111253    -0.371435   \n",
       "39                -1.571236            -1.577720     1.904019    -0.371435   \n",
       "46                -1.571236            -1.577720     1.161513    -0.371435   \n",
       "54                -1.571236            -1.577720     3.184744    -0.371435   \n",
       "63                -1.571236            -1.577720     1.892602    -0.371435   \n",
       "185                0.437813             0.403680     5.171880     5.955009   \n",
       "228                0.157481             0.214975     1.912859     3.379243   \n",
       "233                0.507896             0.450856     1.452598     1.300554   \n",
       "234                0.391091             0.403680     1.140765     1.888009   \n",
       "\n",
       "     pos_reviews  price/Rvol  Rvol/%rec  posR/Rvol  negR/Rvol     index  \\\n",
       "0       2.871703   -0.357477   2.459782   0.140270  -0.064414 -1.721886   \n",
       "2       2.171390   -0.358157   3.790766  -3.211646   3.219358 -1.694769   \n",
       "4       1.445916   -0.352281   1.432704  -0.443502   0.280555 -1.667653   \n",
       "5       3.156861   -0.358220   3.592092  -1.353444   1.382670 -1.654095   \n",
       "6       2.670415   -0.358515   2.878351  -1.128468   0.701920 -1.640537   \n",
       "7       2.917831   -0.351696   2.296496   0.585585  -0.577176 -1.626978   \n",
       "8       2.150423   -0.352210   1.646444   0.562973  -0.467680 -1.613420   \n",
       "10      0.036903   -0.356826  -0.052449  -0.548965   0.611902 -1.586304   \n",
       "35     -0.613088   -0.204941  -0.415862   0.331413  -0.405199 -1.247350   \n",
       "36     -0.613088   -0.204941  -0.415862   0.331413  -0.405199 -1.233792   \n",
       "39     -0.613088   -0.204941  -0.415862   0.331413  -0.405199 -1.193118   \n",
       "46     -0.613088   -0.204941  -0.415862   0.331413  -0.405199 -1.098210   \n",
       "54     -0.613088   -0.204941  -0.415862   0.331413  -0.405199 -0.989745   \n",
       "63     -0.613088   -0.204941  -0.415862   0.331413  -0.405199 -0.867722   \n",
       "185     3.949430   -0.358625   4.813434  -1.859025   1.568358  0.786373   \n",
       "228     0.682700   -0.356680   1.299934  -2.839042   3.525258  1.369374   \n",
       "233     1.177532   -0.358177   1.227816  -1.028189   0.969086  1.437164   \n",
       "234     0.980438   -0.358149   1.243442  -1.755835   1.640097  1.450722   \n",
       "\n",
       "           c1        c2  y_true  db_clust  \n",
       "0    2.079133 -0.003404    -1.0        -1  \n",
       "2    4.191226  2.708138    -1.0        -1  \n",
       "4    1.276268  0.034421    -1.0        -1  \n",
       "5    3.545233  1.347360    -1.0        -1  \n",
       "6    2.623773  0.804359    -1.0        -1  \n",
       "7    1.808449 -0.640161    -1.0        -1  \n",
       "8    1.342560 -0.582239    -1.0        -1  \n",
       "10   0.167899  0.023763    -1.0         0  \n",
       "35  -0.835221  1.295077    -1.0         0  \n",
       "36  -0.836126  1.300514    -1.0         0  \n",
       "39  -0.835221  1.295077    -1.0         0  \n",
       "46  -0.847438  1.368488    -1.0         0  \n",
       "54  -0.835221  1.295077    -1.0         0  \n",
       "63  -0.839746  1.322266    -1.0         0  \n",
       "185  4.697391  1.906790    -1.0        -1  \n",
       "228  1.924090  1.852336    -1.0        -1  \n",
       "233  1.335427  0.543648    -1.0        -1  \n",
       "234  1.496512  0.953385    -1.0        -1  "
      ]
     },
     "metadata": {},
     "execution_count": 25
    }
   ],
   "metadata": {}
  },
  {
   "cell_type": "markdown",
   "source": [
    "10 is a nokia brick phone with fairly low number of reviews - who reviews this. All of the others are Samsungs with no reviews (median filler)\r\n"
   ],
   "metadata": {}
  },
  {
   "cell_type": "code",
   "execution_count": 26,
   "source": [
    "\r\n",
    "dbscan_model = DBSCAN(eps=0.6, min_samples=(len(desktops))/6)\r\n",
    "db_clust = dbscan_model.fit_predict(desktops[['no_reviews']])\r\n",
    "desktops['db_clust'] = pd.Series(db_clust, index=desktops.index)\r\n",
    "get_eval_scores(desktops['y_true'], desktops['db_clust'])"
   ],
   "outputs": [
    {
     "output_type": "execute_result",
     "data": {
      "text/plain": [
       "(1.0, 0.4, 0.5714285714285715)"
      ]
     },
     "metadata": {},
     "execution_count": 26
    }
   ],
   "metadata": {}
  },
  {
   "cell_type": "code",
   "execution_count": 27,
   "source": [
    "dbscan_model = DBSCAN(eps=0.95, min_samples=(len(desktops))/5)\r\n",
    "db_clust = dbscan_model.fit_predict(desktops[['no_reviews','Rvol/%rec']])\r\n",
    "desktops['db_clust'] = pd.Series(db_clust, index=desktops.index)\r\n",
    "get_eval_scores(desktops['y_true'], desktops['db_clust'])"
   ],
   "outputs": [
    {
     "output_type": "execute_result",
     "data": {
      "text/plain": [
       "(0.5, 0.6, 0.5454545454545454)"
      ]
     },
     "metadata": {},
     "execution_count": 27
    }
   ],
   "metadata": {}
  },
  {
   "cell_type": "code",
   "execution_count": 28,
   "source": [
    "desktops['db_clust'] = pd.Series(db_clust, index=desktops.index)\r\n",
    "f, axes = plt.subplots(1,3, figsize=(15,15))\r\n",
    "sns.scatterplot(x=desktops['no_reviews'], y=desktops['pos_reviews'], hue=desktops['db_clust'],ax=axes[0])\r\n",
    "sns.scatterplot(x=desktops['no_reviews'], y=desktops['Rvol/%rec'],hue=desktops['db_clust'], ax=axes[1])\r\n",
    "sns.scatterplot(x=desktops['pos_reviews'], y=desktops['Rvol/%rec'],hue=desktops['db_clust'], ax=axes[2])"
   ],
   "outputs": [
    {
     "output_type": "execute_result",
     "data": {
      "text/plain": [
       "<matplotlib.axes._subplots.AxesSubplot at 0x172f40dc9b0>"
      ]
     },
     "metadata": {},
     "execution_count": 28
    },
    {
     "output_type": "display_data",
     "data": {
      "image/png": "[encoded data removed]",
      "text/plain": [
       "<Figure size 1080x1080 with 3 Axes>"
      ]
     },
     "metadata": {
      "needs_background": "light"
     }
    }
   ],
   "metadata": {}
  },
  {
   "cell_type": "markdown",
   "source": [
    "## tablets"
   ],
   "metadata": {}
  },
  {
   "cell_type": "code",
   "execution_count": 29,
   "source": [
    "\r\n",
    "dbscan_model = DBSCAN(eps=1.2, min_samples=(len(tablets))/5)\r\n",
    "db_clust = dbscan_model.fit_predict(tablets[['no_reviews']])\r\n",
    "tablets['db_clust'] = pd.Series(db_clust, index=tablets.index)\r\n",
    "get_eval_scores(tablets['y_true'], tablets['db_clust'])"
   ],
   "outputs": [
    {
     "output_type": "execute_result",
     "data": {
      "text/plain": [
       "(1.0, 0.18181818181818182, 0.3076923076923077)"
      ]
     },
     "metadata": {},
     "execution_count": 29
    }
   ],
   "metadata": {}
  },
  {
   "cell_type": "code",
   "execution_count": 30,
   "source": [
    "dbscan_model = DBSCAN(eps=0.95, min_samples=(len(tablets))/5)\r\n",
    "db_clust = dbscan_model.fit_predict(tablets[['no_reviews','Rvol/%rec']])\r\n",
    "tablets['db_clust'] = pd.Series(db_clust, index=tablets.index)\r\n",
    "get_eval_scores(tablets['y_true'], tablets['db_clust'])"
   ],
   "outputs": [
    {
     "output_type": "execute_result",
     "data": {
      "text/plain": [
       "(0.6363636363636364, 0.6363636363636364, 0.6363636363636364)"
      ]
     },
     "metadata": {},
     "execution_count": 30
    }
   ],
   "metadata": {}
  },
  {
   "cell_type": "code",
   "execution_count": 31,
   "source": [
    "print(tablets.loc[tablets.db_clust==-1]['TOTAL_SALES'].mean())\r\n",
    "print(tablets.loc[tablets.db_clust==-0]['TOTAL_SALES'].mean())"
   ],
   "outputs": [
    {
     "output_type": "stream",
     "name": "stdout",
     "text": [
      "1.2792104284931283\n",
      "-0.19275773580033434\n"
     ]
    }
   ],
   "metadata": {}
  },
  {
   "cell_type": "code",
   "execution_count": 32,
   "source": [
    "tablets['db_clust'] = pd.Series(db_clust, index=tablets.index)\r\n",
    "f, axes = plt.subplots(1,3, figsize=(15,15))\r\n",
    "sns.scatterplot(x=tablets['no_reviews'], y=tablets['pos_reviews'], hue=tablets['db_clust'],ax=axes[0])\r\n",
    "sns.scatterplot(x=tablets['no_reviews'], y=tablets['Rvol/%rec'],hue=tablets['db_clust'], ax=axes[1])\r\n",
    "sns.scatterplot(x=tablets['pos_reviews'], y=tablets['Rvol/%rec'],hue=tablets['db_clust'], ax=axes[2])"
   ],
   "outputs": [
    {
     "output_type": "execute_result",
     "data": {
      "text/plain": [
       "<matplotlib.axes._subplots.AxesSubplot at 0x172f424e080>"
      ]
     },
     "metadata": {},
     "execution_count": 32
    },
    {
     "output_type": "display_data",
     "data": {
      "image/png": "[encoded data removed]",
      "text/plain": [
       "<Figure size 1080x1080 with 3 Axes>"
      ]
     },
     "metadata": {
      "needs_background": "light"
     }
    }
   ],
   "metadata": {}
  },
  {
   "cell_type": "code",
   "execution_count": null,
   "source": [],
   "outputs": [],
   "metadata": {}
  }
 ],
 "metadata": {
  "kernelspec": {
   "name": "python3",
   "display_name": "Python 3.7.0 64-bit ('base': conda)"
  },
  "language_info": {
   "codemirror_mode": {
    "name": "ipython",
    "version": 3
   },
   "file_extension": ".py",
   "mimetype": "text/x-python",
   "name": "python",
   "nbconvert_exporter": "python",
   "pygments_lexer": "ipython3",
   "version": "3.7.0"
  },
  "interpreter": {
   "hash": "ee264c1354800df28a0473499e9bea074eb80c2a88ae16a4d8af7f553f7ba238"
  }
 },
 "nbformat": 4,
 "nbformat_minor": 4
}