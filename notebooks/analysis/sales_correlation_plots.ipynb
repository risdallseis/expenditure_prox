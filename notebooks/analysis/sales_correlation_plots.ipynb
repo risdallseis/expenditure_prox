{
 "cells": [
  {
   "cell_type": "code",
   "execution_count": 19,
   "source": [
    "import pandas as pd\r\n",
    "import statsmodels\r\n",
    "import seaborn as sns\r\n",
    "import matplotlib.pyplot as plt\r\n",
    "import os\r\n",
    "os.chdir('../../../..')\r\n",
    "from modules.join_data import join_y\r\n",
    "from modules import preproc\r\n",
    "\r\n",
    "\r\n"
   ],
   "outputs": [],
   "metadata": {}
  },
  {
   "cell_type": "code",
   "execution_count": 11,
   "source": [
    "print(os.getcwd())\r\n",
    "os.ch"
   ],
   "outputs": [
    {
     "output_type": "stream",
     "name": "stdout",
     "text": [
      "c:\\Users\\Rory\\Desktop\\projects\\expenditure_prox\n"
     ]
    },
    {
     "output_type": "error",
     "ename": "AttributeError",
     "evalue": "module 'os' has no attribute 'ch'",
     "traceback": [
      "\u001b[1;31m---------------------------------------------------------------------------\u001b[0m",
      "\u001b[1;31mAttributeError\u001b[0m                            Traceback (most recent call last)",
      "\u001b[1;32m<ipython-input-11-2c29fae4399e>\u001b[0m in \u001b[0;36m<module>\u001b[1;34m()\u001b[0m\n\u001b[0;32m      1\u001b[0m \u001b[0mprint\u001b[0m\u001b[1;33m(\u001b[0m\u001b[0mos\u001b[0m\u001b[1;33m.\u001b[0m\u001b[0mgetcwd\u001b[0m\u001b[1;33m(\u001b[0m\u001b[1;33m)\u001b[0m\u001b[1;33m)\u001b[0m\u001b[1;33m\u001b[0m\u001b[0m\n\u001b[1;32m----> 2\u001b[1;33m \u001b[0mos\u001b[0m\u001b[1;33m.\u001b[0m\u001b[0mch\u001b[0m\u001b[1;33m\u001b[0m\u001b[0m\n\u001b[0m",
      "\u001b[1;31mAttributeError\u001b[0m: module 'os' has no attribute 'ch'"
     ]
    }
   ],
   "metadata": {}
  },
  {
   "cell_type": "code",
   "execution_count": 12,
   "source": [
    "# importing datasets\r\n",
    "laptops = pd.read_json('full_data/laptops.json')\r\n",
    "desktops = pd.read_json('full_data/desktops.json')\r\n",
    "tablets= pd.read_json('full_data/tablets.json')\r\n",
    "phones =  pd.read_json('full_data/smartphones.json')"
   ],
   "outputs": [],
   "metadata": {}
  },
  {
   "cell_type": "code",
   "execution_count": 14,
   "source": [
    "# joining datasets\r\n",
    "laptops = join_y(laptops, 'raw_data/laptops_sales.csv')\r\n",
    "desktops = join_y(desktops, 'raw_data/desktops_sales.csv')\r\n",
    "tablets = join_y(tablets, 'raw_data/tablet_sales.csv')\r\n",
    "phones = join_y(phones, 'raw_data/phone_sales.csv')"
   ],
   "outputs": [],
   "metadata": {}
  },
  {
   "cell_type": "code",
   "execution_count": 17,
   "source": [
    "def none_to_empty_list(text):\r\n",
    "    \"\"\"Turns nulls to empty list\r\n",
    "    \"\"\"\r\n",
    "    if text == None:\r\n",
    "        text = ['']\r\n",
    "    else:\r\n",
    "        text = text\r\n",
    "    return text"
   ],
   "outputs": [],
   "metadata": {}
  },
  {
   "cell_type": "code",
   "execution_count": 20,
   "source": [
    "## preprocessing\r\n",
    "# clean cols\r\n",
    "laptops = preproc.clean_cols(laptops)\r\n",
    "desktops = preproc.clean_cols(desktops)\r\n",
    "tablets = tablets.applymap(lambda x: none_to_empty_list(x))\r\n",
    "tablets = preproc.clean_cols(tablets)\r\n",
    "phones = preproc.clean_cols(phones)\r\n",
    "# fill empty lists\r\n",
    "laptops = preproc.fill_empty_lists(laptops)\r\n",
    "desktops = preproc.fill_empty_lists(desktops)\r\n",
    "tablets= preproc.fill_empty_lists(tablets)\r\n",
    "phones = preproc.fill_empty_lists(phones)\r\n",
    "\r\n",
    "# preproc reviews\r\n",
    "laptops = preproc.preprocess_reviews(laptops)\r\n",
    "desktops = preproc.preprocess_reviews(desktops)\r\n",
    "tablets = preproc.preprocess_reviews(tablets)\r\n",
    "phones = preproc.preprocess_reviews(phones)\r\n",
    "                                "
   ],
   "outputs": [
    {
     "output_type": "stream",
     "name": "stdout",
     "text": [
      "[nltk_data] Downloading package wordnet to\n",
      "[nltk_data]     C:\\Users\\Rory\\AppData\\Roaming\\nltk_data...\n",
      "[nltk_data]   Package wordnet is already up-to-date!\n",
      "[nltk_data] Downloading package stopwords to\n",
      "[nltk_data]     C:\\Users\\Rory\\AppData\\Roaming\\nltk_data...\n",
      "[nltk_data]   Package stopwords is already up-to-date!\n"
     ]
    },
    {
     "output_type": "stream",
     "name": "stderr",
     "text": [
      "c:\\Users\\Rory\\Desktop\\projects\\expenditure_prox\\modules\\preproc.py:157: SettingWithCopyWarning: \n",
      "A value is trying to be set on a copy of a slice from a DataFrame.\n",
      "Try using .loc[row_indexer,col_indexer] = value instead\n",
      "\n",
      "See the caveats in the documentation: https://pandas.pydata.org/pandas-docs/stable/user_guide/indexing.html#returning-a-view-versus-a-copy\n",
      "  df['text_preproc'] = df['review_text'].apply(lambda x: __remove_accented_chars(x))\n",
      "c:\\Users\\Rory\\Desktop\\projects\\expenditure_prox\\modules\\preproc.py:159: SettingWithCopyWarning: \n",
      "A value is trying to be set on a copy of a slice from a DataFrame.\n",
      "Try using .loc[row_indexer,col_indexer] = value instead\n",
      "\n",
      "See the caveats in the documentation: https://pandas.pydata.org/pandas-docs/stable/user_guide/indexing.html#returning-a-view-versus-a-copy\n",
      "  df['text_preproc'] = df['text_preproc'].apply(lambda x: __lower_text(x))\n",
      "c:\\Users\\Rory\\Desktop\\projects\\expenditure_prox\\modules\\preproc.py:161: SettingWithCopyWarning: \n",
      "A value is trying to be set on a copy of a slice from a DataFrame.\n",
      "Try using .loc[row_indexer,col_indexer] = value instead\n",
      "\n",
      "See the caveats in the documentation: https://pandas.pydata.org/pandas-docs/stable/user_guide/indexing.html#returning-a-view-versus-a-copy\n",
      "  df['text_preproc'] = df['text_preproc'].apply(lambda x: __remove_html(x))\n",
      "c:\\Users\\Rory\\Desktop\\projects\\expenditure_prox\\modules\\preproc.py:163: SettingWithCopyWarning: \n",
      "A value is trying to be set on a copy of a slice from a DataFrame.\n",
      "Try using .loc[row_indexer,col_indexer] = value instead\n",
      "\n",
      "See the caveats in the documentation: https://pandas.pydata.org/pandas-docs/stable/user_guide/indexing.html#returning-a-view-versus-a-copy\n",
      "  df['text_preproc'] = df['text_preproc'].apply(lambda x: __remove_spec_chars(x))\n",
      "c:\\Users\\Rory\\Desktop\\projects\\expenditure_prox\\modules\\preproc.py:165: SettingWithCopyWarning: \n",
      "A value is trying to be set on a copy of a slice from a DataFrame.\n",
      "Try using .loc[row_indexer,col_indexer] = value instead\n",
      "\n",
      "See the caveats in the documentation: https://pandas.pydata.org/pandas-docs/stable/user_guide/indexing.html#returning-a-view-versus-a-copy\n",
      "  df['text_preproc'] = df['text_preproc'].apply(lambda x: __expand_contractions(x))\n",
      "c:\\Users\\Rory\\Desktop\\projects\\expenditure_prox\\modules\\preproc.py:167: SettingWithCopyWarning: \n",
      "A value is trying to be set on a copy of a slice from a DataFrame.\n",
      "Try using .loc[row_indexer,col_indexer] = value instead\n",
      "\n",
      "See the caveats in the documentation: https://pandas.pydata.org/pandas-docs/stable/user_guide/indexing.html#returning-a-view-versus-a-copy\n",
      "  df['text_preproc'] = df['text_preproc'].apply(lambda x: __tokenise_reviews(x))\n",
      "c:\\Users\\Rory\\Desktop\\projects\\expenditure_prox\\modules\\preproc.py:170: SettingWithCopyWarning: \n",
      "A value is trying to be set on a copy of a slice from a DataFrame.\n",
      "Try using .loc[row_indexer,col_indexer] = value instead\n",
      "\n",
      "See the caveats in the documentation: https://pandas.pydata.org/pandas-docs/stable/user_guide/indexing.html#returning-a-view-versus-a-copy\n",
      "  df['text_preproc2'] = df['text_preproc'].apply(lambda x: __remove_stopwords(x))\n",
      "c:\\Users\\Rory\\Desktop\\projects\\expenditure_prox\\modules\\preproc.py:172: SettingWithCopyWarning: \n",
      "A value is trying to be set on a copy of a slice from a DataFrame.\n",
      "Try using .loc[row_indexer,col_indexer] = value instead\n",
      "\n",
      "See the caveats in the documentation: https://pandas.pydata.org/pandas-docs/stable/user_guide/indexing.html#returning-a-view-versus-a-copy\n",
      "  df['text_preproc2'] = df['text_preproc2'].apply(lambda x: __lemmatise_words(x))\n"
     ]
    },
    {
     "output_type": "stream",
     "name": "stdout",
     "text": [
      "[nltk_data] Downloading package wordnet to\n",
      "[nltk_data]     C:\\Users\\Rory\\AppData\\Roaming\\nltk_data...\n",
      "[nltk_data]   Package wordnet is already up-to-date!\n",
      "[nltk_data] Downloading package stopwords to\n",
      "[nltk_data]     C:\\Users\\Rory\\AppData\\Roaming\\nltk_data...\n",
      "[nltk_data]   Package stopwords is already up-to-date!\n",
      "[nltk_data] Downloading package wordnet to\n",
      "[nltk_data]     C:\\Users\\Rory\\AppData\\Roaming\\nltk_data...\n",
      "[nltk_data]   Package wordnet is already up-to-date!\n",
      "[nltk_data] Downloading package stopwords to\n",
      "[nltk_data]     C:\\Users\\Rory\\AppData\\Roaming\\nltk_data...\n",
      "[nltk_data]   Package stopwords is already up-to-date!\n",
      "[nltk_data] Downloading package wordnet to\n",
      "[nltk_data]     C:\\Users\\Rory\\AppData\\Roaming\\nltk_data...\n",
      "[nltk_data]   Package wordnet is already up-to-date!\n",
      "[nltk_data] Downloading package stopwords to\n",
      "[nltk_data]     C:\\Users\\Rory\\AppData\\Roaming\\nltk_data...\n",
      "[nltk_data]   Package stopwords is already up-to-date!\n"
     ]
    }
   ],
   "metadata": {}
  },
  {
   "cell_type": "code",
   "execution_count": 21,
   "source": [
    "# laptops\r\n",
    "sns.scatterplot(x=laptops['no_reviews'], y=laptops['TOTAL_SALES'])\r\n",
    "plt.xlim([0,200])"
   ],
   "outputs": [
    {
     "output_type": "execute_result",
     "data": {
      "text/plain": [
       "(0, 200)"
      ]
     },
     "metadata": {},
     "execution_count": 21
    },
    {
     "output_type": "display_data",
     "data": {
      "image/png": "[encoded data removed]",
      "text/plain": [
       "<Figure size 432x288 with 1 Axes>"
      ]
     },
     "metadata": {
      "needs_background": "light"
     }
    }
   ],
   "metadata": {}
  },
  {
   "cell_type": "code",
   "execution_count": 22,
   "source": [
    "import scipy\r\n",
    "print(scipy.stats.pearsonr(laptops['no_reviews'],laptops['TOTAL_SALES']))\r\n",
    "print(scipy.stats.pearsonr(laptops['price'],laptops['TOTAL_SALES']))"
   ],
   "outputs": [
    {
     "output_type": "stream",
     "name": "stdout",
     "text": [
      "(0.9055779949234491, 8.973899969096474e-43)\n",
      "(-0.2720782258761909, 0.0037071809365100666)\n"
     ]
    }
   ],
   "metadata": {}
  },
  {
   "cell_type": "code",
   "execution_count": 23,
   "source": [
    "laptops[['price','no_reviews','recommendation_percent','summary_star_rating','TOTAL_SALES']].corr()"
   ],
   "outputs": [
    {
     "output_type": "execute_result",
     "data": {
      "text/html": [
       "<div>\n",
       "<style scoped>\n",
       "    .dataframe tbody tr th:only-of-type {\n",
       "        vertical-align: middle;\n",
       "    }\n",
       "\n",
       "    .dataframe tbody tr th {\n",
       "        vertical-align: top;\n",
       "    }\n",
       "\n",
       "    .dataframe thead th {\n",
       "        text-align: right;\n",
       "    }\n",
       "</style>\n",
       "<table border=\"1\" class=\"dataframe\">\n",
       "  <thead>\n",
       "    <tr style=\"text-align: right;\">\n",
       "      <th></th>\n",
       "      <th>price</th>\n",
       "      <th>no_reviews</th>\n",
       "      <th>recommendation_percent</th>\n",
       "      <th>summary_star_rating</th>\n",
       "      <th>TOTAL_SALES</th>\n",
       "    </tr>\n",
       "  </thead>\n",
       "  <tbody>\n",
       "    <tr>\n",
       "      <th>price</th>\n",
       "      <td>1.000000</td>\n",
       "      <td>-0.150710</td>\n",
       "      <td>-0.213528</td>\n",
       "      <td>-0.202797</td>\n",
       "      <td>-0.272078</td>\n",
       "    </tr>\n",
       "    <tr>\n",
       "      <th>no_reviews</th>\n",
       "      <td>-0.150710</td>\n",
       "      <td>1.000000</td>\n",
       "      <td>0.192304</td>\n",
       "      <td>0.197432</td>\n",
       "      <td>0.905578</td>\n",
       "    </tr>\n",
       "    <tr>\n",
       "      <th>recommendation_percent</th>\n",
       "      <td>-0.213528</td>\n",
       "      <td>0.192304</td>\n",
       "      <td>1.000000</td>\n",
       "      <td>0.994372</td>\n",
       "      <td>0.194676</td>\n",
       "    </tr>\n",
       "    <tr>\n",
       "      <th>summary_star_rating</th>\n",
       "      <td>-0.202797</td>\n",
       "      <td>0.197432</td>\n",
       "      <td>0.994372</td>\n",
       "      <td>1.000000</td>\n",
       "      <td>0.199947</td>\n",
       "    </tr>\n",
       "    <tr>\n",
       "      <th>TOTAL_SALES</th>\n",
       "      <td>-0.272078</td>\n",
       "      <td>0.905578</td>\n",
       "      <td>0.194676</td>\n",
       "      <td>0.199947</td>\n",
       "      <td>1.000000</td>\n",
       "    </tr>\n",
       "  </tbody>\n",
       "</table>\n",
       "</div>"
      ],
      "text/plain": [
       "                           price  no_reviews  recommendation_percent  \\\n",
       "price                   1.000000   -0.150710               -0.213528   \n",
       "no_reviews             -0.150710    1.000000                0.192304   \n",
       "recommendation_percent -0.213528    0.192304                1.000000   \n",
       "summary_star_rating    -0.202797    0.197432                0.994372   \n",
       "TOTAL_SALES            -0.272078    0.905578                0.194676   \n",
       "\n",
       "                        summary_star_rating  TOTAL_SALES  \n",
       "price                             -0.202797    -0.272078  \n",
       "no_reviews                         0.197432     0.905578  \n",
       "recommendation_percent             0.994372     0.194676  \n",
       "summary_star_rating                1.000000     0.199947  \n",
       "TOTAL_SALES                        0.199947     1.000000  "
      ]
     },
     "metadata": {},
     "execution_count": 23
    }
   ],
   "metadata": {}
  },
  {
   "cell_type": "code",
   "execution_count": 24,
   "source": [
    "laptops.columns"
   ],
   "outputs": [
    {
     "output_type": "execute_result",
     "data": {
      "text/plain": [
       "Index(['product_name', 'price', 'urls', 'remotekey', 'shelf_order',\n",
       "       'item_category', 'no_reviews', 'recommendation_percent', 'review_date',\n",
       "       'review_rating', 'review_text', 'review_title', 'summary_star_rating',\n",
       "       'code', 'TOTAL_SALES', 'text_preproc', 'text_preproc2'],\n",
       "      dtype='object')"
      ]
     },
     "metadata": {},
     "execution_count": 24
    }
   ],
   "metadata": {}
  },
  {
   "cell_type": "code",
   "execution_count": 25,
   "source": [
    "# desktops\r\n",
    "\r\n",
    "sns.scatterplot(x=desktops['no_reviews'], y=desktops['TOTAL_SALES'])\r\n",
    "#plt.xlim([0,200])"
   ],
   "outputs": [
    {
     "output_type": "execute_result",
     "data": {
      "text/plain": [
       "<matplotlib.axes._subplots.AxesSubplot at 0x12de1de2e48>"
      ]
     },
     "metadata": {},
     "execution_count": 25
    },
    {
     "output_type": "display_data",
     "data": {
      "image/png": "[encoded data removed]",
      "text/plain": [
       "<Figure size 432x288 with 1 Axes>"
      ]
     },
     "metadata": {
      "needs_background": "light"
     }
    }
   ],
   "metadata": {}
  },
  {
   "cell_type": "code",
   "execution_count": 26,
   "source": [
    "print(scipy.stats.pearsonr(desktops['no_reviews'],desktops['TOTAL_SALES']))\r\n",
    "print(scipy.stats.pearsonr(desktops['price'],desktops['TOTAL_SALES']))"
   ],
   "outputs": [
    {
     "output_type": "stream",
     "name": "stdout",
     "text": [
      "(0.6019596990602754, 0.00026760099161089095)\n",
      "(-0.5661258559487619, 0.0007318686926298205)\n"
     ]
    }
   ],
   "metadata": {}
  },
  {
   "cell_type": "code",
   "execution_count": 27,
   "source": [
    "desktops[['price','no_reviews','recommendation_percent','summary_star_rating','TOTAL_SALES']].corr()"
   ],
   "outputs": [
    {
     "output_type": "execute_result",
     "data": {
      "text/html": [
       "<div>\n",
       "<style scoped>\n",
       "    .dataframe tbody tr th:only-of-type {\n",
       "        vertical-align: middle;\n",
       "    }\n",
       "\n",
       "    .dataframe tbody tr th {\n",
       "        vertical-align: top;\n",
       "    }\n",
       "\n",
       "    .dataframe thead th {\n",
       "        text-align: right;\n",
       "    }\n",
       "</style>\n",
       "<table border=\"1\" class=\"dataframe\">\n",
       "  <thead>\n",
       "    <tr style=\"text-align: right;\">\n",
       "      <th></th>\n",
       "      <th>price</th>\n",
       "      <th>no_reviews</th>\n",
       "      <th>recommendation_percent</th>\n",
       "      <th>summary_star_rating</th>\n",
       "      <th>TOTAL_SALES</th>\n",
       "    </tr>\n",
       "  </thead>\n",
       "  <tbody>\n",
       "    <tr>\n",
       "      <th>price</th>\n",
       "      <td>1.000000</td>\n",
       "      <td>-0.397231</td>\n",
       "      <td>-0.125063</td>\n",
       "      <td>-0.150560</td>\n",
       "      <td>-0.566126</td>\n",
       "    </tr>\n",
       "    <tr>\n",
       "      <th>no_reviews</th>\n",
       "      <td>-0.397231</td>\n",
       "      <td>1.000000</td>\n",
       "      <td>0.603911</td>\n",
       "      <td>0.615387</td>\n",
       "      <td>0.601960</td>\n",
       "    </tr>\n",
       "    <tr>\n",
       "      <th>recommendation_percent</th>\n",
       "      <td>-0.125063</td>\n",
       "      <td>0.603911</td>\n",
       "      <td>1.000000</td>\n",
       "      <td>0.994477</td>\n",
       "      <td>0.199026</td>\n",
       "    </tr>\n",
       "    <tr>\n",
       "      <th>summary_star_rating</th>\n",
       "      <td>-0.150560</td>\n",
       "      <td>0.615387</td>\n",
       "      <td>0.994477</td>\n",
       "      <td>1.000000</td>\n",
       "      <td>0.201446</td>\n",
       "    </tr>\n",
       "    <tr>\n",
       "      <th>TOTAL_SALES</th>\n",
       "      <td>-0.566126</td>\n",
       "      <td>0.601960</td>\n",
       "      <td>0.199026</td>\n",
       "      <td>0.201446</td>\n",
       "      <td>1.000000</td>\n",
       "    </tr>\n",
       "  </tbody>\n",
       "</table>\n",
       "</div>"
      ],
      "text/plain": [
       "                           price  no_reviews  recommendation_percent  \\\n",
       "price                   1.000000   -0.397231               -0.125063   \n",
       "no_reviews             -0.397231    1.000000                0.603911   \n",
       "recommendation_percent -0.125063    0.603911                1.000000   \n",
       "summary_star_rating    -0.150560    0.615387                0.994477   \n",
       "TOTAL_SALES            -0.566126    0.601960                0.199026   \n",
       "\n",
       "                        summary_star_rating  TOTAL_SALES  \n",
       "price                             -0.150560    -0.566126  \n",
       "no_reviews                         0.615387     0.601960  \n",
       "recommendation_percent             0.994477     0.199026  \n",
       "summary_star_rating                1.000000     0.201446  \n",
       "TOTAL_SALES                        0.201446     1.000000  "
      ]
     },
     "metadata": {},
     "execution_count": 27
    }
   ],
   "metadata": {}
  },
  {
   "cell_type": "code",
   "execution_count": 28,
   "source": [
    "# tablets\r\n",
    "sns.scatterplot(x=tablets['no_reviews'], y=tablets['TOTAL_SALES'])\r\n",
    "#plt.xlim([0,200])"
   ],
   "outputs": [
    {
     "output_type": "execute_result",
     "data": {
      "text/plain": [
       "<matplotlib.axes._subplots.AxesSubplot at 0x12de1de2dd8>"
      ]
     },
     "metadata": {},
     "execution_count": 28
    },
    {
     "output_type": "display_data",
     "data": {
      "image/png": "[encoded data removed]",
      "text/plain": [
       "<Figure size 432x288 with 1 Axes>"
      ]
     },
     "metadata": {
      "needs_background": "light"
     }
    }
   ],
   "metadata": {}
  },
  {
   "cell_type": "code",
   "execution_count": 29,
   "source": [
    "print(scipy.stats.pearsonr(tablets['no_reviews'],tablets['TOTAL_SALES']))\r\n",
    "print(scipy.stats.pearsonr(tablets['price'],tablets['TOTAL_SALES']))"
   ],
   "outputs": [
    {
     "output_type": "stream",
     "name": "stdout",
     "text": [
      "(0.49989599457465167, 9.565028266280317e-07)\n",
      "(-0.34383753588383004, 0.0011894829538713948)\n"
     ]
    }
   ],
   "metadata": {}
  },
  {
   "cell_type": "code",
   "execution_count": 30,
   "source": [
    "tablets[['price','no_reviews','recommendation_percent','summary_star_rating','TOTAL_SALES']].corr()"
   ],
   "outputs": [
    {
     "output_type": "execute_result",
     "data": {
      "text/html": [
       "<div>\n",
       "<style scoped>\n",
       "    .dataframe tbody tr th:only-of-type {\n",
       "        vertical-align: middle;\n",
       "    }\n",
       "\n",
       "    .dataframe tbody tr th {\n",
       "        vertical-align: top;\n",
       "    }\n",
       "\n",
       "    .dataframe thead th {\n",
       "        text-align: right;\n",
       "    }\n",
       "</style>\n",
       "<table border=\"1\" class=\"dataframe\">\n",
       "  <thead>\n",
       "    <tr style=\"text-align: right;\">\n",
       "      <th></th>\n",
       "      <th>price</th>\n",
       "      <th>no_reviews</th>\n",
       "      <th>recommendation_percent</th>\n",
       "      <th>summary_star_rating</th>\n",
       "      <th>TOTAL_SALES</th>\n",
       "    </tr>\n",
       "  </thead>\n",
       "  <tbody>\n",
       "    <tr>\n",
       "      <th>price</th>\n",
       "      <td>1.000000</td>\n",
       "      <td>-0.257500</td>\n",
       "      <td>0.118914</td>\n",
       "      <td>0.152881</td>\n",
       "      <td>-0.343838</td>\n",
       "    </tr>\n",
       "    <tr>\n",
       "      <th>no_reviews</th>\n",
       "      <td>-0.257500</td>\n",
       "      <td>1.000000</td>\n",
       "      <td>0.281621</td>\n",
       "      <td>0.254986</td>\n",
       "      <td>0.499896</td>\n",
       "    </tr>\n",
       "    <tr>\n",
       "      <th>recommendation_percent</th>\n",
       "      <td>0.118914</td>\n",
       "      <td>0.281621</td>\n",
       "      <td>1.000000</td>\n",
       "      <td>0.988050</td>\n",
       "      <td>-0.144294</td>\n",
       "    </tr>\n",
       "    <tr>\n",
       "      <th>summary_star_rating</th>\n",
       "      <td>0.152881</td>\n",
       "      <td>0.254986</td>\n",
       "      <td>0.988050</td>\n",
       "      <td>1.000000</td>\n",
       "      <td>-0.186605</td>\n",
       "    </tr>\n",
       "    <tr>\n",
       "      <th>TOTAL_SALES</th>\n",
       "      <td>-0.343838</td>\n",
       "      <td>0.499896</td>\n",
       "      <td>-0.144294</td>\n",
       "      <td>-0.186605</td>\n",
       "      <td>1.000000</td>\n",
       "    </tr>\n",
       "  </tbody>\n",
       "</table>\n",
       "</div>"
      ],
      "text/plain": [
       "                           price  no_reviews  recommendation_percent  \\\n",
       "price                   1.000000   -0.257500                0.118914   \n",
       "no_reviews             -0.257500    1.000000                0.281621   \n",
       "recommendation_percent  0.118914    0.281621                1.000000   \n",
       "summary_star_rating     0.152881    0.254986                0.988050   \n",
       "TOTAL_SALES            -0.343838    0.499896               -0.144294   \n",
       "\n",
       "                        summary_star_rating  TOTAL_SALES  \n",
       "price                              0.152881    -0.343838  \n",
       "no_reviews                         0.254986     0.499896  \n",
       "recommendation_percent             0.988050    -0.144294  \n",
       "summary_star_rating                1.000000    -0.186605  \n",
       "TOTAL_SALES                       -0.186605     1.000000  "
      ]
     },
     "metadata": {},
     "execution_count": 30
    }
   ],
   "metadata": {}
  },
  {
   "cell_type": "code",
   "execution_count": 31,
   "source": [
    "# phones\r\n",
    "sns.scatterplot(x=phones['no_reviews'], y=phones['TOTAL_SALES'])\r\n",
    "#plt.xlim([0,200])"
   ],
   "outputs": [
    {
     "output_type": "execute_result",
     "data": {
      "text/plain": [
       "<matplotlib.axes._subplots.AxesSubplot at 0x12ddc830438>"
      ]
     },
     "metadata": {},
     "execution_count": 31
    },
    {
     "output_type": "display_data",
     "data": {
      "image/png": "[encoded data removed]",
      "text/plain": [
       "<Figure size 432x288 with 1 Axes>"
      ]
     },
     "metadata": {
      "needs_background": "light"
     }
    }
   ],
   "metadata": {}
  },
  {
   "cell_type": "code",
   "execution_count": 32,
   "source": [
    "print(scipy.stats.pearsonr(phones['no_reviews'],phones['TOTAL_SALES']))\r\n",
    "print(scipy.stats.pearsonr(phones['price'],phones['TOTAL_SALES']))"
   ],
   "outputs": [
    {
     "output_type": "stream",
     "name": "stdout",
     "text": [
      "(0.45105711135275045, 3.487898081580861e-14)\n",
      "(-0.3543414213993321, 5.866274885763125e-09)\n"
     ]
    }
   ],
   "metadata": {}
  },
  {
   "cell_type": "code",
   "execution_count": 33,
   "source": [
    "phones[['price','no_reviews','recommendation_percent','summary_star_rating','TOTAL_SALES']].corr()"
   ],
   "outputs": [
    {
     "output_type": "execute_result",
     "data": {
      "text/html": [
       "<div>\n",
       "<style scoped>\n",
       "    .dataframe tbody tr th:only-of-type {\n",
       "        vertical-align: middle;\n",
       "    }\n",
       "\n",
       "    .dataframe tbody tr th {\n",
       "        vertical-align: top;\n",
       "    }\n",
       "\n",
       "    .dataframe thead th {\n",
       "        text-align: right;\n",
       "    }\n",
       "</style>\n",
       "<table border=\"1\" class=\"dataframe\">\n",
       "  <thead>\n",
       "    <tr style=\"text-align: right;\">\n",
       "      <th></th>\n",
       "      <th>price</th>\n",
       "      <th>no_reviews</th>\n",
       "      <th>recommendation_percent</th>\n",
       "      <th>summary_star_rating</th>\n",
       "      <th>TOTAL_SALES</th>\n",
       "    </tr>\n",
       "  </thead>\n",
       "  <tbody>\n",
       "    <tr>\n",
       "      <th>price</th>\n",
       "      <td>1.000000</td>\n",
       "      <td>0.030408</td>\n",
       "      <td>0.333129</td>\n",
       "      <td>0.349611</td>\n",
       "      <td>-0.354341</td>\n",
       "    </tr>\n",
       "    <tr>\n",
       "      <th>no_reviews</th>\n",
       "      <td>0.030408</td>\n",
       "      <td>1.000000</td>\n",
       "      <td>0.341049</td>\n",
       "      <td>0.356328</td>\n",
       "      <td>0.451057</td>\n",
       "    </tr>\n",
       "    <tr>\n",
       "      <th>recommendation_percent</th>\n",
       "      <td>0.333129</td>\n",
       "      <td>0.341049</td>\n",
       "      <td>1.000000</td>\n",
       "      <td>0.997047</td>\n",
       "      <td>-0.061885</td>\n",
       "    </tr>\n",
       "    <tr>\n",
       "      <th>summary_star_rating</th>\n",
       "      <td>0.349611</td>\n",
       "      <td>0.356328</td>\n",
       "      <td>0.997047</td>\n",
       "      <td>1.000000</td>\n",
       "      <td>-0.063449</td>\n",
       "    </tr>\n",
       "    <tr>\n",
       "      <th>TOTAL_SALES</th>\n",
       "      <td>-0.354341</td>\n",
       "      <td>0.451057</td>\n",
       "      <td>-0.061885</td>\n",
       "      <td>-0.063449</td>\n",
       "      <td>1.000000</td>\n",
       "    </tr>\n",
       "  </tbody>\n",
       "</table>\n",
       "</div>"
      ],
      "text/plain": [
       "                           price  no_reviews  recommendation_percent  \\\n",
       "price                   1.000000    0.030408                0.333129   \n",
       "no_reviews              0.030408    1.000000                0.341049   \n",
       "recommendation_percent  0.333129    0.341049                1.000000   \n",
       "summary_star_rating     0.349611    0.356328                0.997047   \n",
       "TOTAL_SALES            -0.354341    0.451057               -0.061885   \n",
       "\n",
       "                        summary_star_rating  TOTAL_SALES  \n",
       "price                              0.349611    -0.354341  \n",
       "no_reviews                         0.356328     0.451057  \n",
       "recommendation_percent             0.997047    -0.061885  \n",
       "summary_star_rating                1.000000    -0.063449  \n",
       "TOTAL_SALES                       -0.063449     1.000000  "
      ]
     },
     "metadata": {},
     "execution_count": 33
    }
   ],
   "metadata": {}
  },
  {
   "cell_type": "code",
   "execution_count": 34,
   "source": [
    "phones.loc[phones['TOTAL_SALES']>40000]"
   ],
   "outputs": [
    {
     "output_type": "execute_result",
     "data": {
      "text/html": [
       "<div>\n",
       "<style scoped>\n",
       "    .dataframe tbody tr th:only-of-type {\n",
       "        vertical-align: middle;\n",
       "    }\n",
       "\n",
       "    .dataframe tbody tr th {\n",
       "        vertical-align: top;\n",
       "    }\n",
       "\n",
       "    .dataframe thead th {\n",
       "        text-align: right;\n",
       "    }\n",
       "</style>\n",
       "<table border=\"1\" class=\"dataframe\">\n",
       "  <thead>\n",
       "    <tr style=\"text-align: right;\">\n",
       "      <th></th>\n",
       "      <th>product_name</th>\n",
       "      <th>price</th>\n",
       "      <th>urls</th>\n",
       "      <th>remotekey</th>\n",
       "      <th>shelf_order</th>\n",
       "      <th>item_category</th>\n",
       "      <th>no_reviews</th>\n",
       "      <th>recommendation_percent</th>\n",
       "      <th>review_date</th>\n",
       "      <th>review_rating</th>\n",
       "      <th>review_text</th>\n",
       "      <th>review_title</th>\n",
       "      <th>summary_star_rating</th>\n",
       "      <th>code</th>\n",
       "      <th>TOTAL_SALES</th>\n",
       "      <th>text_preproc</th>\n",
       "      <th>text_preproc2</th>\n",
       "    </tr>\n",
       "  </thead>\n",
       "  <tbody>\n",
       "    <tr>\n",
       "      <th>0</th>\n",
       "      <td>sim free motorola g8 power lite 64gb mobile ph...</td>\n",
       "      <td>99.95</td>\n",
       "      <td>https://www.argos.co.uk/product/7126877?clickP...</td>\n",
       "      <td>7126877</td>\n",
       "      <td>1</td>\n",
       "      <td>[Experience the power to be your creative best...</td>\n",
       "      <td>871</td>\n",
       "      <td>96</td>\n",
       "      <td>[1 August 2021, 1 August 2021, 1 August 2021, ...</td>\n",
       "      <td>[5, 5, 2, 5, 5, 5, 4, 5, 3, 5, 4, 5, 5, 5, 5, ...</td>\n",
       "      <td>[I'm very pleased with the phone. It arrived q...</td>\n",
       "      <td>[Overall a lovely phone, Brilliant, Difficult ...</td>\n",
       "      <td>4.7</td>\n",
       "      <td>2303179732635262459831782148741979332223786223...</td>\n",
       "      <td>52704</td>\n",
       "      <td>[[i, m, very, pleased, with, the, phone, it, a...</td>\n",
       "      <td>[[pleased, phone, arrived, quickly, lot, great...</td>\n",
       "    </tr>\n",
       "    <tr>\n",
       "      <th>5</th>\n",
       "      <td>sim free alcatel 1c mobile phone black</td>\n",
       "      <td>49.99</td>\n",
       "      <td>https://www.argos.co.uk/product/1952085?clickP...</td>\n",
       "      <td>1952085</td>\n",
       "      <td>6</td>\n",
       "      <td>[Alcatel 1C, is the best deal for an 18:9 disp...</td>\n",
       "      <td>1071</td>\n",
       "      <td>87</td>\n",
       "      <td>[31 July 2021, 31 July 2021, 31 July 2021, 30 ...</td>\n",
       "      <td>[3, 4, 5, 5, 5, 5, 5, 5, 5, 5, 3, 5, 2, 3, 5, ...</td>\n",
       "      <td>[The phone does what it is support to do and i...</td>\n",
       "      <td>[Good for a child's first phone, Simple to use...</td>\n",
       "      <td>4.3</td>\n",
       "      <td>6523362733424390017607564743466362116793130797...</td>\n",
       "      <td>63939</td>\n",
       "      <td>[[the, phone, does, what, it, is, support, to,...</td>\n",
       "      <td>[[phone, support, good, price, thing, like, ba...</td>\n",
       "    </tr>\n",
       "    <tr>\n",
       "      <th>6</th>\n",
       "      <td>sim free nokia 105 mobile phone black</td>\n",
       "      <td>17.99</td>\n",
       "      <td>https://www.argos.co.uk/product/4637620?clickP...</td>\n",
       "      <td>4637620</td>\n",
       "      <td>7</td>\n",
       "      <td>[Talk to everyone with the latest Nokia 105. W...</td>\n",
       "      <td>914</td>\n",
       "      <td>89</td>\n",
       "      <td>[30 July 2021, 30 July 2021, 30 July 2021, 30 ...</td>\n",
       "      <td>[5, 5, 3, 4, 5, 5, 5, 5, 4, 4, 5, 5, 1, 2, 1, ...</td>\n",
       "      <td>[Needed as an emergency phone and is great for...</td>\n",
       "      <td>[Good for the Price, Great product, Phone work...</td>\n",
       "      <td>4.4</td>\n",
       "      <td>5849412132309916829220345124034463633224670657...</td>\n",
       "      <td>51463</td>\n",
       "      <td>[[needed, as, an, emergency, phone, and, is, g...</td>\n",
       "      <td>[[needed, emergency, phone, great, purpose, ph...</td>\n",
       "    </tr>\n",
       "    <tr>\n",
       "      <th>35</th>\n",
       "      <td>sim free samsung galaxy a12 64gb mobile phone ...</td>\n",
       "      <td>149.99</td>\n",
       "      <td>https://www.argos.co.uk/product/8886635?clickP...</td>\n",
       "      <td>8886635</td>\n",
       "      <td>36</td>\n",
       "      <td>[Tap into an unforgettable viewing experience ...</td>\n",
       "      <td>0</td>\n",
       "      <td>0</td>\n",
       "      <td>0</td>\n",
       "      <td>0</td>\n",
       "      <td>0</td>\n",
       "      <td>0</td>\n",
       "      <td>0.0</td>\n",
       "      <td>4462311512265498974656112752638448649577476511...</td>\n",
       "      <td>41462</td>\n",
       "      <td>[]</td>\n",
       "      <td>[]</td>\n",
       "    </tr>\n",
       "    <tr>\n",
       "      <th>185</th>\n",
       "      <td>sim free alba mobile phone black</td>\n",
       "      <td>12.99</td>\n",
       "      <td>https://www.argos.co.uk/product/4981558?clickP...</td>\n",
       "      <td>4981558</td>\n",
       "      <td>45</td>\n",
       "      <td>[Simple to set up and use, light weight, robus...</td>\n",
       "      <td>1359</td>\n",
       "      <td>86</td>\n",
       "      <td>[25 June 2021, 23 June 2021, 10 June 2021, 9 J...</td>\n",
       "      <td>[5, 2, 5, 2, 5, 1, 2, 5, 3, 4, 5, 5, 4, 5, 5, ...</td>\n",
       "      <td>[Bought this for my daughter it is such good q...</td>\n",
       "      <td>[Perfect, Not great, Basic but easy to use., N...</td>\n",
       "      <td>4.2</td>\n",
       "      <td>4265621254144453889325147033289654510607247352...</td>\n",
       "      <td>45811</td>\n",
       "      <td>[[bought, this, for, my, daughter, it, is, suc...</td>\n",
       "      <td>[[bought, daughter, good, quality, money], [aw...</td>\n",
       "    </tr>\n",
       "  </tbody>\n",
       "</table>\n",
       "</div>"
      ],
      "text/plain": [
       "                                          product_name   price  \\\n",
       "0    sim free motorola g8 power lite 64gb mobile ph...   99.95   \n",
       "5               sim free alcatel 1c mobile phone black   49.99   \n",
       "6                sim free nokia 105 mobile phone black   17.99   \n",
       "35   sim free samsung galaxy a12 64gb mobile phone ...  149.99   \n",
       "185                   sim free alba mobile phone black   12.99   \n",
       "\n",
       "                                                  urls  remotekey  \\\n",
       "0    https://www.argos.co.uk/product/7126877?clickP...    7126877   \n",
       "5    https://www.argos.co.uk/product/1952085?clickP...    1952085   \n",
       "6    https://www.argos.co.uk/product/4637620?clickP...    4637620   \n",
       "35   https://www.argos.co.uk/product/8886635?clickP...    8886635   \n",
       "185  https://www.argos.co.uk/product/4981558?clickP...    4981558   \n",
       "\n",
       "     shelf_order                                      item_category  \\\n",
       "0              1  [Experience the power to be your creative best...   \n",
       "5              6  [Alcatel 1C, is the best deal for an 18:9 disp...   \n",
       "6              7  [Talk to everyone with the latest Nokia 105. W...   \n",
       "35            36  [Tap into an unforgettable viewing experience ...   \n",
       "185           45  [Simple to set up and use, light weight, robus...   \n",
       "\n",
       "     no_reviews  recommendation_percent  \\\n",
       "0           871                      96   \n",
       "5          1071                      87   \n",
       "6           914                      89   \n",
       "35            0                       0   \n",
       "185        1359                      86   \n",
       "\n",
       "                                           review_date  \\\n",
       "0    [1 August 2021, 1 August 2021, 1 August 2021, ...   \n",
       "5    [31 July 2021, 31 July 2021, 31 July 2021, 30 ...   \n",
       "6    [30 July 2021, 30 July 2021, 30 July 2021, 30 ...   \n",
       "35                                                   0   \n",
       "185  [25 June 2021, 23 June 2021, 10 June 2021, 9 J...   \n",
       "\n",
       "                                         review_rating  \\\n",
       "0    [5, 5, 2, 5, 5, 5, 4, 5, 3, 5, 4, 5, 5, 5, 5, ...   \n",
       "5    [3, 4, 5, 5, 5, 5, 5, 5, 5, 5, 3, 5, 2, 3, 5, ...   \n",
       "6    [5, 5, 3, 4, 5, 5, 5, 5, 4, 4, 5, 5, 1, 2, 1, ...   \n",
       "35                                                   0   \n",
       "185  [5, 2, 5, 2, 5, 1, 2, 5, 3, 4, 5, 5, 4, 5, 5, ...   \n",
       "\n",
       "                                           review_text  \\\n",
       "0    [I'm very pleased with the phone. It arrived q...   \n",
       "5    [The phone does what it is support to do and i...   \n",
       "6    [Needed as an emergency phone and is great for...   \n",
       "35                                                   0   \n",
       "185  [Bought this for my daughter it is such good q...   \n",
       "\n",
       "                                          review_title  summary_star_rating  \\\n",
       "0    [Overall a lovely phone, Brilliant, Difficult ...                  4.7   \n",
       "5    [Good for a child's first phone, Simple to use...                  4.3   \n",
       "6    [Good for the Price, Great product, Phone work...                  4.4   \n",
       "35                                                   0                  0.0   \n",
       "185  [Perfect, Not great, Basic but easy to use., N...                  4.2   \n",
       "\n",
       "                                                  code  TOTAL_SALES  \\\n",
       "0    2303179732635262459831782148741979332223786223...        52704   \n",
       "5    6523362733424390017607564743466362116793130797...        63939   \n",
       "6    5849412132309916829220345124034463633224670657...        51463   \n",
       "35   4462311512265498974656112752638448649577476511...        41462   \n",
       "185  4265621254144453889325147033289654510607247352...        45811   \n",
       "\n",
       "                                          text_preproc  \\\n",
       "0    [[i, m, very, pleased, with, the, phone, it, a...   \n",
       "5    [[the, phone, does, what, it, is, support, to,...   \n",
       "6    [[needed, as, an, emergency, phone, and, is, g...   \n",
       "35                                                  []   \n",
       "185  [[bought, this, for, my, daughter, it, is, suc...   \n",
       "\n",
       "                                         text_preproc2  \n",
       "0    [[pleased, phone, arrived, quickly, lot, great...  \n",
       "5    [[phone, support, good, price, thing, like, ba...  \n",
       "6    [[needed, emergency, phone, great, purpose, ph...  \n",
       "35                                                  []  \n",
       "185  [[bought, daughter, good, quality, money], [aw...  "
      ]
     },
     "metadata": {},
     "execution_count": 34
    }
   ],
   "metadata": {}
  },
  {
   "cell_type": "markdown",
   "source": [
    "# Feature: Price"
   ],
   "metadata": {}
  },
  {
   "cell_type": "code",
   "execution_count": 39,
   "source": [
    "f, axes = plt.subplots(2,2, figsize=(15,15))\r\n",
    "sns.scatterplot(x=laptops['price'].dropna(), y=laptops['TOTAL_SALES'], ax=axes[0,0])\r\n",
    "axes[0,0].set_title('LAPTOPS')\r\n",
    "sns.scatterplot(x=phones['price'].dropna(), y=phones['TOTAL_SALES'], ax=axes[0,1])\r\n",
    "axes[0,1].set_title('PHONES')\r\n",
    "sns.scatterplot(x=tablets['price'].dropna(), y=tablets['TOTAL_SALES'], ax=axes[1,0])\r\n",
    "axes[1,0].set_title('TABLETS')\r\n",
    "sns.scatterplot(x=desktops['price'].dropna(), y=desktops['TOTAL_SALES'], ax=axes[1,1])\r\n",
    "axes[1,1].set_title('DESKTOPS')"
   ],
   "outputs": [
    {
     "output_type": "execute_result",
     "data": {
      "text/plain": [
       "Text(0.5,1,'DESKTOPS')"
      ]
     },
     "metadata": {},
     "execution_count": 39
    },
    {
     "output_type": "display_data",
     "data": {
      "image/png": "[encoded data removed]",
      "text/plain": [
       "<Figure size 1080x1080 with 4 Axes>"
      ]
     },
     "metadata": {
      "needs_background": "light"
     }
    }
   ],
   "metadata": {}
  },
  {
   "cell_type": "markdown",
   "source": [
    "**For all categories higher priced products tend to have very low sales. Perhaps removing outliers here could better align clusters.**"
   ],
   "metadata": {}
  }
 ],
 "metadata": {
  "kernelspec": {
   "name": "python3",
   "display_name": "Python 3.7.0 64-bit ('base': conda)"
  },
  "language_info": {
   "codemirror_mode": {
    "name": "ipython",
    "version": 3
   },
   "file_extension": ".py",
   "mimetype": "text/x-python",
   "name": "python",
   "nbconvert_exporter": "python",
   "pygments_lexer": "ipython3",
   "version": "3.7.0"
  },
  "interpreter": {
   "hash": "ee264c1354800df28a0473499e9bea074eb80c2a88ae16a4d8af7f553f7ba238"
  }
 },
 "nbformat": 4,
 "nbformat_minor": 4
}