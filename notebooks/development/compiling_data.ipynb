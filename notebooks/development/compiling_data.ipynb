{
 "cells": [
  {
   "cell_type": "code",
   "execution_count": 1,
   "metadata": {},
   "outputs": [],
   "source": [
    "import pandas as pd\n",
    "from join_data import compile_data"
   ]
  },
  {
   "cell_type": "code",
   "execution_count": 2,
   "metadata": {},
   "outputs": [],
   "source": [
    "# desktops\n",
    "compile_data('C:\\\\Users\\\\Administrator\\\\expenditure_prox\\\\desktops\\\\*','desktops')"
   ]
  },
  {
   "cell_type": "code",
   "execution_count": 31,
   "metadata": {},
   "outputs": [],
   "source": [
    "# laptops\n",
    "compile_data('C:\\\\Users\\\\Administrator\\\\expenditure_prox\\\\laptops\\\\*','laptops')"
   ]
  },
  {
   "cell_type": "code",
   "execution_count": 2,
   "metadata": {},
   "outputs": [],
   "source": [
    "# tablets\n",
    "compile_data('C:\\\\Users\\\\Administrator\\\\expenditure_prox\\\\tablets\\\\*','tablets')"
   ]
  },
  {
   "cell_type": "code",
   "execution_count": 3,
   "metadata": {},
   "outputs": [],
   "source": [
    "# smartphones\n",
    "compile_data('C:\\\\Users\\\\Administrator\\\\expenditure_prox\\\\smartphones\\\\*','smartphones')"
   ]
  }
 ],
 "metadata": {
  "kernelspec": {
   "display_name": "Python 3",
   "language": "python",
   "name": "python3"
  },
  "language_info": {
   "codemirror_mode": {
    "name": "ipython",
    "version": 3
   },
   "file_extension": ".py",
   "mimetype": "text/x-python",
   "name": "python",
   "nbconvert_exporter": "python",
   "pygments_lexer": "ipython3",
   "version": "3.7.4"
  }
 },
 "nbformat": 4,
 "nbformat_minor": 4
}
