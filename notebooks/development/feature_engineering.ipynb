{
 "cells": [
  {
   "cell_type": "code",
   "execution_count": 1,
   "source": [
    "import pandas as pd\r\n",
    "import numpy as np\r\n",
    "\r\n",
    "\r\n",
    "import os\r\n",
    "os.chdir('../../')\r\n",
    "from modules import preproc\r\n",
    "from modules.join_data import join_y\r\n",
    "pd.set_option('display.max_rows',150)\r\n",
    "pd.set_option('display.max_columns',50)\r\n"
   ],
   "outputs": [],
   "metadata": {}
  },
  {
   "cell_type": "code",
   "execution_count": null,
   "source": [
    "ls"
   ],
   "outputs": [],
   "metadata": {}
  },
  {
   "cell_type": "code",
   "execution_count": 2,
   "source": [
    "df = pd.read_json('full_data/laptops.json')\r\n",
    "df = join_y(df, 'raw_data/laptops_sales.csv')\r\n",
    "df = preproc.clean_cols(df)\r\n",
    "df = preproc.fill_empty_lists(df)\r\n",
    "df = preproc.preprocess_reviews(df)"
   ],
   "outputs": [
    {
     "output_type": "stream",
     "name": "stderr",
     "text": [
      "[nltk_data] Downloading package wordnet to\n",
      "[nltk_data]     C:\\Users\\Rory\\AppData\\Roaming\\nltk_data...\n",
      "[nltk_data]   Package wordnet is already up-to-date!\n",
      "[nltk_data] Downloading package stopwords to\n",
      "[nltk_data]     C:\\Users\\Rory\\AppData\\Roaming\\nltk_data...\n",
      "[nltk_data]   Package stopwords is already up-to-date!\n",
      "c:\\Users\\Rory\\Desktop\\projects\\expenditure_prox\\modules\\preproc.py:157: SettingWithCopyWarning: \n",
      "A value is trying to be set on a copy of a slice from a DataFrame.\n",
      "Try using .loc[row_indexer,col_indexer] = value instead\n",
      "\n",
      "See the caveats in the documentation: https://pandas.pydata.org/pandas-docs/stable/user_guide/indexing.html#returning-a-view-versus-a-copy\n",
      "  df['text_preproc'] = df['review_text'].apply(lambda x: __remove_accented_chars(x))\n",
      "c:\\Users\\Rory\\Desktop\\projects\\expenditure_prox\\modules\\preproc.py:159: SettingWithCopyWarning: \n",
      "A value is trying to be set on a copy of a slice from a DataFrame.\n",
      "Try using .loc[row_indexer,col_indexer] = value instead\n",
      "\n",
      "See the caveats in the documentation: https://pandas.pydata.org/pandas-docs/stable/user_guide/indexing.html#returning-a-view-versus-a-copy\n",
      "  df['text_preproc'] = df['text_preproc'].apply(lambda x: __lower_text(x))\n",
      "c:\\Users\\Rory\\Desktop\\projects\\expenditure_prox\\modules\\preproc.py:161: SettingWithCopyWarning: \n",
      "A value is trying to be set on a copy of a slice from a DataFrame.\n",
      "Try using .loc[row_indexer,col_indexer] = value instead\n",
      "\n",
      "See the caveats in the documentation: https://pandas.pydata.org/pandas-docs/stable/user_guide/indexing.html#returning-a-view-versus-a-copy\n",
      "  df['text_preproc'] = df['text_preproc'].apply(lambda x: __remove_html(x))\n",
      "c:\\Users\\Rory\\Desktop\\projects\\expenditure_prox\\modules\\preproc.py:163: SettingWithCopyWarning: \n",
      "A value is trying to be set on a copy of a slice from a DataFrame.\n",
      "Try using .loc[row_indexer,col_indexer] = value instead\n",
      "\n",
      "See the caveats in the documentation: https://pandas.pydata.org/pandas-docs/stable/user_guide/indexing.html#returning-a-view-versus-a-copy\n",
      "  df['text_preproc'] = df['text_preproc'].apply(lambda x: __remove_spec_chars(x))\n",
      "c:\\Users\\Rory\\Desktop\\projects\\expenditure_prox\\modules\\preproc.py:165: SettingWithCopyWarning: \n",
      "A value is trying to be set on a copy of a slice from a DataFrame.\n",
      "Try using .loc[row_indexer,col_indexer] = value instead\n",
      "\n",
      "See the caveats in the documentation: https://pandas.pydata.org/pandas-docs/stable/user_guide/indexing.html#returning-a-view-versus-a-copy\n",
      "  df['text_preproc'] = df['text_preproc'].apply(lambda x: __expand_contractions(x))\n",
      "c:\\Users\\Rory\\Desktop\\projects\\expenditure_prox\\modules\\preproc.py:167: SettingWithCopyWarning: \n",
      "A value is trying to be set on a copy of a slice from a DataFrame.\n",
      "Try using .loc[row_indexer,col_indexer] = value instead\n",
      "\n",
      "See the caveats in the documentation: https://pandas.pydata.org/pandas-docs/stable/user_guide/indexing.html#returning-a-view-versus-a-copy\n",
      "  df['text_preproc'] = df['text_preproc'].apply(lambda x: __tokenise_reviews(x))\n",
      "c:\\Users\\Rory\\Desktop\\projects\\expenditure_prox\\modules\\preproc.py:170: SettingWithCopyWarning: \n",
      "A value is trying to be set on a copy of a slice from a DataFrame.\n",
      "Try using .loc[row_indexer,col_indexer] = value instead\n",
      "\n",
      "See the caveats in the documentation: https://pandas.pydata.org/pandas-docs/stable/user_guide/indexing.html#returning-a-view-versus-a-copy\n",
      "  df['text_preproc2'] = df['text_preproc'].apply(lambda x: __remove_stopwords(x))\n",
      "c:\\Users\\Rory\\Desktop\\projects\\expenditure_prox\\modules\\preproc.py:172: SettingWithCopyWarning: \n",
      "A value is trying to be set on a copy of a slice from a DataFrame.\n",
      "Try using .loc[row_indexer,col_indexer] = value instead\n",
      "\n",
      "See the caveats in the documentation: https://pandas.pydata.org/pandas-docs/stable/user_guide/indexing.html#returning-a-view-versus-a-copy\n",
      "  df['text_preproc2'] = df['text_preproc2'].apply(lambda x: __lemmatise_words(x))\n"
     ]
    }
   ],
   "metadata": {}
  },
  {
   "cell_type": "code",
   "execution_count": null,
   "source": [
    "df"
   ],
   "outputs": [],
   "metadata": {}
  },
  {
   "cell_type": "code",
   "execution_count": 3,
   "source": [
    "def no_negative_reviews(list_scores):\r\n",
    "    \"\"\"Gets number of negative reviews\"\"\"\r\n",
    "    no_reviews = 0\r\n",
    "    if isinstance(list_scores, list):   \r\n",
    "        for item in list_scores:\r\n",
    "            item = int(item)\r\n",
    "            if item < 3:\r\n",
    "                no_reviews += 1\r\n",
    "\r\n",
    "    return no_reviews\r\n",
    " \r\n",
    "    \r\n",
    "def no_positive_reviews(list_scores):\r\n",
    "    \"\"\"Gets number of positive reviews\"\"\"\r\n",
    "    no_reviews = 0\r\n",
    "    if isinstance(list_scores, list):   \r\n",
    "        for item in list_scores:\r\n",
    "            item = int(item)\r\n",
    "            if item > 3:\r\n",
    "                no_reviews += 1\r\n",
    "\r\n",
    "    return no_reviews      "
   ],
   "outputs": [],
   "metadata": {}
  },
  {
   "cell_type": "code",
   "execution_count": null,
   "source": [],
   "outputs": [],
   "metadata": {}
  },
  {
   "cell_type": "code",
   "execution_count": null,
   "source": [],
   "outputs": [],
   "metadata": {}
  },
  {
   "cell_type": "code",
   "execution_count": 4,
   "source": [
    "def generate_features(df):\r\n",
    "    \"\"\"Generates some features after prepro\"\"\"\r\n",
    "    df['neg_reviews'] = df['review_rating'].apply(lambda x: no_negative_reviews(x))\r\n",
    "    df['pos_reviews'] = df['review_rating'].apply(lambda x: no_positive_reviews(x))\r\n",
    "    df['Rvol/price'] = df['no_reviews']/df['price']\r\n",
    "    df['Rvol/%rec'] = df['no_reviews']/df['recommendation_percent']\r\n",
    "    df.loc[(df['neg_reviews'] ==0), 'neg_reviews'] = 1\r\n",
    "    df['Rvol/posR'] = df['no_reviews']/df['pos_reviews']\r\n",
    "    df['Rvol/negR'] = df['no_reviews']/df['neg_reviews']\r\n",
    "    \r\n",
    "    return df\r\n"
   ],
   "outputs": [],
   "metadata": {}
  },
  {
   "cell_type": "code",
   "execution_count": 5,
   "source": [
    "from modules import feature_eng\r\n",
    "df = generate_features(df)\r\n"
   ],
   "outputs": [],
   "metadata": {}
  },
  {
   "cell_type": "code",
   "execution_count": null,
   "source": [
    "df.columns"
   ],
   "outputs": [],
   "metadata": {}
  },
  {
   "cell_type": "code",
   "execution_count": 6,
   "source": [
    "df['Rvol/negR'] = df['Rvol/negR'].replace(np.inf, df['Rvol/negR'].median())"
   ],
   "outputs": [],
   "metadata": {}
  },
  {
   "cell_type": "code",
   "execution_count": 10,
   "source": [
    "df['Rvol/negR']"
   ],
   "outputs": [
    {
     "output_type": "execute_result",
     "data": {
      "text/plain": [
       "0      17.000000\n",
       "1      41.000000\n",
       "2       6.000000\n",
       "10     13.000000\n",
       "18     26.000000\n",
       "20      0.000000\n",
       "26      2.000000\n",
       "27     16.500000\n",
       "28     24.428571\n",
       "29     43.000000\n",
       "30     12.000000\n",
       "31     38.000000\n",
       "32     12.000000\n",
       "33     11.000000\n",
       "34     17.000000\n",
       "35      4.000000\n",
       "36      9.000000\n",
       "37     39.000000\n",
       "38     22.000000\n",
       "39     49.454545\n",
       "40     19.200000\n",
       "41      0.000000\n",
       "42     11.000000\n",
       "43      7.000000\n",
       "44      5.000000\n",
       "45     25.000000\n",
       "46      0.000000\n",
       "47      0.000000\n",
       "48     17.000000\n",
       "49      0.000000\n",
       "50      0.000000\n",
       "51     18.500000\n",
       "52     15.000000\n",
       "53      8.000000\n",
       "54      5.000000\n",
       "55     15.000000\n",
       "56      3.000000\n",
       "57      3.000000\n",
       "58     27.000000\n",
       "59     22.000000\n",
       "60     12.000000\n",
       "61      0.000000\n",
       "62      2.000000\n",
       "63     20.000000\n",
       "64     13.000000\n",
       "65      1.000000\n",
       "66     20.000000\n",
       "67     24.000000\n",
       "68      0.000000\n",
       "69     16.000000\n",
       "70     19.000000\n",
       "71     22.000000\n",
       "72      4.000000\n",
       "73      1.000000\n",
       "74     23.000000\n",
       "75     23.000000\n",
       "76     19.500000\n",
       "77      4.000000\n",
       "78     11.000000\n",
       "79      4.000000\n",
       "80     10.000000\n",
       "81      8.000000\n",
       "82      0.000000\n",
       "83      0.000000\n",
       "84     14.000000\n",
       "85      1.000000\n",
       "86      0.000000\n",
       "87      6.000000\n",
       "88      1.000000\n",
       "89      0.000000\n",
       "90      5.000000\n",
       "91      7.000000\n",
       "92      3.000000\n",
       "93      7.000000\n",
       "94      0.000000\n",
       "95      0.000000\n",
       "96      0.000000\n",
       "97     14.000000\n",
       "98      2.000000\n",
       "99      0.000000\n",
       "100     4.000000\n",
       "101     6.000000\n",
       "102     9.000000\n",
       "103     8.000000\n",
       "104    20.000000\n",
       "105     1.000000\n",
       "106     2.000000\n",
       "107     2.000000\n",
       "108     0.000000\n",
       "109     0.000000\n",
       "110     1.000000\n",
       "111     0.000000\n",
       "112     9.000000\n",
       "113    15.000000\n",
       "114     0.000000\n",
       "115     0.000000\n",
       "116    16.666667\n",
       "117    25.250000\n",
       "118    77.500000\n",
       "119    13.000000\n",
       "120     9.250000\n",
       "121     0.000000\n",
       "122     0.000000\n",
       "123     6.000000\n",
       "124     6.000000\n",
       "125    47.000000\n",
       "126    19.000000\n",
       "127     5.000000\n",
       "128    11.500000\n",
       "129    19.000000\n",
       "130    68.000000\n",
       "131    23.000000\n",
       "Name: Rvol/negR, dtype: float64"
      ]
     },
     "metadata": {},
     "execution_count": 10
    }
   ],
   "metadata": {}
  },
  {
   "cell_type": "code",
   "execution_count": 7,
   "source": [
    "# PUTTING NULLS AS 0 (no reviews)\r\n",
    "from sklearn.datasets import make_regression\r\n",
    "from sklearn.linear_model import LinearRegression\r\n",
    "from matplotlib import pyplot\r\n",
    "from sklearn.preprocessing import StandardScaler\r\n",
    " \r\n",
    "\r\n",
    "# define dataset\r\n",
    "X = df[['pos_reviews','neg_reviews', 'Rvol/price', 'Rvol/%rec', 'Rvol/posR', \r\n",
    "        'Rvol/negR','price','no_reviews','recommendation_percent','summary_star_rating', 'TOTAL_SALES']]\r\n",
    "\r\n",
    "X = X.dropna()\r\n",
    "Y=X['TOTAL_SALES']\r\n",
    "X = X.drop(['TOTAL_SALES'], axis=1)\r\n",
    "\r\n",
    "\r\n",
    "Xs = StandardScaler().fit_transform(X)\r\n",
    "\r\n",
    "\r\n",
    "# define the model\r\n",
    "model = LinearRegression()\r\n",
    "# fit the model\r\n",
    "model.fit(Xs, Y)\r\n",
    "# get importance\r\n",
    "importance = model.coef_\r\n",
    "# summarize feature importance\r\n",
    "for i,v in enumerate(importance):\r\n",
    "\tprint('Feature: %0d, Score: %.5f' % (i,v))\r\n",
    "# plot feature importance\r\n",
    "pyplot.bar([x for x in range(len(importance))], importance)\r\n",
    "#pyplot.show()"
   ],
   "outputs": [
    {
     "output_type": "stream",
     "name": "stdout",
     "text": [
      "Feature: 0, Score: -17076.31123\n",
      "Feature: 1, Score: 950.32398\n",
      "Feature: 2, Score: 990.90212\n",
      "Feature: 3, Score: -32246.07985\n",
      "Feature: 4, Score: -246.61169\n",
      "Feature: 5, Score: 149.33631\n",
      "Feature: 6, Score: -111.66448\n",
      "Feature: 7, Score: 49676.16905\n",
      "Feature: 8, Score: -488.42947\n",
      "Feature: 9, Score: 93.99346\n"
     ]
    },
    {
     "output_type": "execute_result",
     "data": {
      "text/plain": [
       "<BarContainer object of 10 artists>"
      ]
     },
     "metadata": {},
     "execution_count": 7
    },
    {
     "output_type": "display_data",
     "data": {
      "image/png": "[encoded data removed]",
      "text/plain": [
       "<Figure size 432x288 with 1 Axes>"
      ]
     },
     "metadata": {
      "needs_background": "light"
     }
    }
   ],
   "metadata": {}
  },
  {
   "cell_type": "code",
   "execution_count": null,
   "source": [
    "X.columns"
   ],
   "outputs": [],
   "metadata": {}
  },
  {
   "cell_type": "markdown",
   "source": [
    "**This shows that features are in order of importance: no_review, Rvol/%rec, pos_reviews.**"
   ],
   "metadata": {}
  },
  {
   "cell_type": "code",
   "execution_count": null,
   "source": [
    "from sklearn.decomposition import PCA\r\n",
    "pca = PCA(n_components=2)\r\n",
    "X = df[['pos_reviews','neg_reviews', 'price/Rvol', 'Rvol/%rec', 'posR/Rvol', \r\n",
    "        'negR/Rvol','price','no_reviews','recommendation_percent','summary_star_rating','TOTAL_SALES','product_name']]\r\n",
    "\r\n",
    "X=X.loc[X.no_reviews !=0]\r\n",
    "sales=X['TOTAL_SALES']\r\n",
    "names = X['product_name']"
   ],
   "outputs": [],
   "metadata": {}
  },
  {
   "cell_type": "code",
   "execution_count": null,
   "source": [
    "X = X.drop(['TOTAL_SALES','product_name'], axis=1)\r\n",
    "Xs = StandardScaler().fit_transform(X)\r\n",
    "pC = pca.fit_transform(Xs)\r\n",
    "df_pc = pd.DataFrame(data = pC, columns = ['c1','c2'])\r\n",
    "df_pc.reset_index(drop=True, inplace=True)\r\n",
    "sales.reset_index(drop=True, inplace=True)\r\n",
    "names.reset_index(drop=True, inplace=True)\r\n",
    "fdf = pd.concat([df_pc, sales,names], axis=1, ignore_index=True)"
   ],
   "outputs": [],
   "metadata": {}
  },
  {
   "cell_type": "code",
   "execution_count": null,
   "source": [
    "import matplotlib.pyplot as plt\r\n",
    "fig = plt.figure(figsize = (8,8))\r\n",
    "ax = fig.add_subplot(1,1,1) \r\n",
    "ax.set_xlabel('Principal Component 1', fontsize = 15)\r\n",
    "ax.set_ylabel('Principal Component 2', fontsize = 15)\r\n",
    "ax.set_title('2 component PCA', fontsize = 20)\r\n",
    "ax.scatter(fdf[:][0], fdf[:][1])\r\n",
    "\r\n",
    "ax.grid()"
   ],
   "outputs": [],
   "metadata": {}
  },
  {
   "cell_type": "code",
   "execution_count": null,
   "source": [
    "fdf.loc[fdf[:][0]>5]"
   ],
   "outputs": [],
   "metadata": {}
  },
  {
   "cell_type": "code",
   "execution_count": null,
   "source": [
    "df.loc[(df.product_name=='hp slim 15.6in i5 8gb 256gb fhd laptop norton 360')]"
   ],
   "outputs": [],
   "metadata": {}
  },
  {
   "cell_type": "code",
   "execution_count": null,
   "source": [
    "df.loc[(df.product_name.str.startswith('apple macbook pro touch 2019 16in i7 16gb 512g'))]"
   ],
   "outputs": [],
   "metadata": {}
  },
  {
   "cell_type": "code",
   "execution_count": null,
   "source": [],
   "outputs": [],
   "metadata": {}
  }
 ],
 "metadata": {
  "kernelspec": {
   "name": "python3",
   "display_name": "Python 3.7.1 64-bit ('python': conda)"
  },
  "language_info": {
   "codemirror_mode": {
    "name": "ipython",
    "version": 3
   },
   "file_extension": ".py",
   "mimetype": "text/x-python",
   "name": "python",
   "nbconvert_exporter": "python",
   "pygments_lexer": "ipython3",
   "version": "3.7.1"
  },
  "interpreter": {
   "hash": "38732f702c168daece91da0b819133eff6b2bd5a56dee60ae54fa52b475b30a8"
  }
 },
 "nbformat": 4,
 "nbformat_minor": 4
}