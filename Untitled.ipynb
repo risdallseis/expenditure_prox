{
 "cells": [
  {
   "cell_type": "code",
   "execution_count": 4,
   "metadata": {},
   "outputs": [],
   "source": [
    "import pandas as pd\n",
    "import os\n",
    "import glob"
   ]
  },
  {
   "cell_type": "code",
   "execution_count": 5,
   "metadata": {},
   "outputs": [
    {
     "data": {
      "text/plain": [
       "'C:\\\\Users\\\\Administrator\\\\expenditure_proxies'"
      ]
     },
     "execution_count": 5,
     "metadata": {},
     "output_type": "execute_result"
    }
   ],
   "source": [
    "os.getcwd()"
   ]
  },
  {
   "cell_type": "code",
   "execution_count": 92,
   "metadata": {},
   "outputs": [
    {
     "name": "stdout",
     "output_type": "stream",
     "text": [
      "['C:\\\\Users\\\\Administrator\\\\expenditure_proxies\\\\sample_data\\\\21-06-23_092826__argos-laptops_attributes.json', 'C:\\\\Users\\\\Administrator\\\\expenditure_proxies\\\\sample_data\\\\21-06-23_093206__argos-laptops.json', 'C:\\\\Users\\\\Administrator\\\\expenditure_proxies\\\\sample_data\\\\21-06-23_093216__argos-laptops_attributes.json', 'C:\\\\Users\\\\Administrator\\\\expenditure_proxies\\\\sample_data\\\\21-06-23_093226__argos-laptops_attributes.json', 'C:\\\\Users\\\\Administrator\\\\expenditure_proxies\\\\sample_data\\\\21-06-23_093245__argos-laptops_attributes.json', 'C:\\\\Users\\\\Administrator\\\\expenditure_proxies\\\\sample_data\\\\21-06-23_093305__argos-laptops_attributes.json', 'C:\\\\Users\\\\Administrator\\\\expenditure_proxies\\\\sample_data\\\\21-06-23_093318__argos-laptops_attributes.json']\n"
     ]
    }
   ],
   "source": [
    "def get_filepaths(\n",
    "    directory,\n",
    "    wildcard,\n",
    "):\n",
    "    \"\"\"\n",
    "    \"\"\"\n",
    "    if wildcard=None:     \n",
    "        paths = glob.glob(directory)\n",
    "    if wildcard !=None:\n",
    "        paths = glob.glob(directory)\n",
    "print(glob.glob('C:\\\\Users\\\\Administrator\\\\expenditure_proxies\\\\sample_data\\\\a*'))"
   ]
  },
  {
   "cell_type": "code",
   "execution_count": 90,
   "metadata": {},
   "outputs": [
    {
     "ename": "AttributeError",
     "evalue": "module 'os' has no attribute 'isfile'",
     "output_type": "error",
     "traceback": [
      "\u001b[1;31m---------------------------------------------------------------------------\u001b[0m",
      "\u001b[1;31mAttributeError\u001b[0m                            Traceback (most recent call last)",
      "\u001b[1;32m<ipython-input-90-d351f7091a1a>\u001b[0m in \u001b[0;36m<module>\u001b[1;34m\u001b[0m\n\u001b[0;32m      1\u001b[0m \u001b[0mmypath\u001b[0m\u001b[1;33m=\u001b[0m\u001b[1;34m'C:\\\\Users\\\\Administrator\\\\expenditure_proxies\\\\sample_data'\u001b[0m\u001b[1;33m\u001b[0m\u001b[1;33m\u001b[0m\u001b[0m\n\u001b[1;32m----> 2\u001b[1;33m \u001b[0monlyfiles\u001b[0m \u001b[1;33m=\u001b[0m \u001b[1;33m[\u001b[0m\u001b[0mf\u001b[0m \u001b[1;32mfor\u001b[0m \u001b[0mf\u001b[0m \u001b[1;32min\u001b[0m \u001b[0mos\u001b[0m\u001b[1;33m.\u001b[0m\u001b[0mlistdir\u001b[0m\u001b[1;33m(\u001b[0m\u001b[0mmypath\u001b[0m\u001b[1;33m)\u001b[0m \u001b[1;32mif\u001b[0m \u001b[0mos\u001b[0m\u001b[1;33m.\u001b[0m\u001b[0misfile\u001b[0m\u001b[1;33m(\u001b[0m\u001b[0mjoin\u001b[0m\u001b[1;33m(\u001b[0m\u001b[0mmypath\u001b[0m\u001b[1;33m,\u001b[0m \u001b[0mf\u001b[0m\u001b[1;33m)\u001b[0m\u001b[1;33m)\u001b[0m\u001b[1;33m]\u001b[0m\u001b[1;33m\u001b[0m\u001b[1;33m\u001b[0m\u001b[0m\n\u001b[0m",
      "\u001b[1;32m<ipython-input-90-d351f7091a1a>\u001b[0m in \u001b[0;36m<listcomp>\u001b[1;34m(.0)\u001b[0m\n\u001b[0;32m      1\u001b[0m \u001b[0mmypath\u001b[0m\u001b[1;33m=\u001b[0m\u001b[1;34m'C:\\\\Users\\\\Administrator\\\\expenditure_proxies\\\\sample_data'\u001b[0m\u001b[1;33m\u001b[0m\u001b[1;33m\u001b[0m\u001b[0m\n\u001b[1;32m----> 2\u001b[1;33m \u001b[0monlyfiles\u001b[0m \u001b[1;33m=\u001b[0m \u001b[1;33m[\u001b[0m\u001b[0mf\u001b[0m \u001b[1;32mfor\u001b[0m \u001b[0mf\u001b[0m \u001b[1;32min\u001b[0m \u001b[0mos\u001b[0m\u001b[1;33m.\u001b[0m\u001b[0mlistdir\u001b[0m\u001b[1;33m(\u001b[0m\u001b[0mmypath\u001b[0m\u001b[1;33m)\u001b[0m \u001b[1;32mif\u001b[0m \u001b[0mos\u001b[0m\u001b[1;33m.\u001b[0m\u001b[0misfile\u001b[0m\u001b[1;33m(\u001b[0m\u001b[0mjoin\u001b[0m\u001b[1;33m(\u001b[0m\u001b[0mmypath\u001b[0m\u001b[1;33m,\u001b[0m \u001b[0mf\u001b[0m\u001b[1;33m)\u001b[0m\u001b[1;33m)\u001b[0m\u001b[1;33m]\u001b[0m\u001b[1;33m\u001b[0m\u001b[1;33m\u001b[0m\u001b[0m\n\u001b[0m",
      "\u001b[1;31mAttributeError\u001b[0m: module 'os' has no attribute 'isfile'"
     ]
    }
   ],
   "source": [
    "mypath='C:\\\\Users\\\\Administrator\\\\expenditure_proxies\\\\sample_data'\n",
    "onlyfiles = [f for f in os.listdir(mypath) if os.isfile(join(mypath, f))]"
   ]
  },
  {
   "cell_type": "code",
   "execution_count": 54,
   "metadata": {},
   "outputs": [],
   "source": [
    "shelf_df = pd.read_json(\n",
    "    'C:\\\\Users\\\\Administrator\\\\expenditure_proxies\\\\sample_data\\\\21-06-23_093206__argos-laptops.json'\n",
    ")"
   ]
  },
  {
   "cell_type": "code",
   "execution_count": 83,
   "metadata": {},
   "outputs": [],
   "source": [
    "att_df1 = pd.read_json(\n",
    "    'C:\\\\Users\\\\Administrator\\\\expenditure_proxies\\\\sample_data\\\\21-06-23_093226__argos-laptops_attributes.json',\n",
    "    orient='index'\n",
    ")\n",
    "att_df1.reset_index(inplace=True)\n",
    "att_df1['remotekey'] = att_df1['remotekey'].str[0][0].replace('/','')\n",
    "att_df1['remotekey'] = att_df1['remotekey'].astype('int64')"
   ]
  },
  {
   "cell_type": "code",
   "execution_count": 87,
   "metadata": {},
   "outputs": [],
   "source": [
    "df = pd.merge(shelf_df,att_df1, on='remotekey', how='outer')"
   ]
  },
  {
   "cell_type": "code",
   "execution_count": 88,
   "metadata": {},
   "outputs": [
    {
     "data": {
      "text/html": [
       "<div>\n",
       "<style scoped>\n",
       "    .dataframe tbody tr th:only-of-type {\n",
       "        vertical-align: middle;\n",
       "    }\n",
       "\n",
       "    .dataframe tbody tr th {\n",
       "        vertical-align: top;\n",
       "    }\n",
       "\n",
       "    .dataframe thead th {\n",
       "        text-align: right;\n",
       "    }\n",
       "</style>\n",
       "<table border=\"1\" class=\"dataframe\">\n",
       "  <thead>\n",
       "    <tr style=\"text-align: right;\">\n",
       "      <th></th>\n",
       "      <th>product_name</th>\n",
       "      <th>urls</th>\n",
       "      <th>remotekey</th>\n",
       "      <th>shelf_order</th>\n",
       "      <th>index</th>\n",
       "      <th>no_reviews</th>\n",
       "      <th>recommendation_percent</th>\n",
       "      <th>review_date</th>\n",
       "      <th>review_rating</th>\n",
       "      <th>review_text</th>\n",
       "      <th>review_title</th>\n",
       "      <th>summary_star_rating</th>\n",
       "    </tr>\n",
       "  </thead>\n",
       "  <tbody>\n",
       "    <tr>\n",
       "      <td>0</td>\n",
       "      <td>hp pav 15.6in r7 8gb 512gb gtx1660ti gaming la...</td>\n",
       "      <td>https://www.argos.co.uk/product/8095330</td>\n",
       "      <td>8095330</td>\n",
       "      <td>1</td>\n",
       "      <td>NaN</td>\n",
       "      <td>NaN</td>\n",
       "      <td>NaN</td>\n",
       "      <td>NaN</td>\n",
       "      <td>NaN</td>\n",
       "      <td>NaN</td>\n",
       "      <td>NaN</td>\n",
       "      <td>NaN</td>\n",
       "    </tr>\n",
       "    <tr>\n",
       "      <td>1</td>\n",
       "      <td>hp omen 15.6in i7 16gb 1tb ssd rtx2060 fhd gam...</td>\n",
       "      <td>https://www.argos.co.uk/product/8848068</td>\n",
       "      <td>8848068</td>\n",
       "      <td>2</td>\n",
       "      <td>NaN</td>\n",
       "      <td>NaN</td>\n",
       "      <td>NaN</td>\n",
       "      <td>NaN</td>\n",
       "      <td>NaN</td>\n",
       "      <td>NaN</td>\n",
       "      <td>NaN</td>\n",
       "      <td>NaN</td>\n",
       "    </tr>\n",
       "    <tr>\n",
       "      <td>2</td>\n",
       "      <td>hp pavilion 17.3in i5 8gb 1tb 512gb gtx1650ti ...</td>\n",
       "      <td>https://www.argos.co.uk/product/9304295</td>\n",
       "      <td>9304295</td>\n",
       "      <td>3</td>\n",
       "      <td>NaN</td>\n",
       "      <td>NaN</td>\n",
       "      <td>NaN</td>\n",
       "      <td>NaN</td>\n",
       "      <td>NaN</td>\n",
       "      <td>NaN</td>\n",
       "      <td>NaN</td>\n",
       "      <td>NaN</td>\n",
       "    </tr>\n",
       "    <tr>\n",
       "      <td>3</td>\n",
       "      <td>lenovo ideapad l340 15in i5 8gb 128gb gtx1650 ...</td>\n",
       "      <td>https://www.argos.co.uk/product/8947794</td>\n",
       "      <td>8947794</td>\n",
       "      <td>4</td>\n",
       "      <td>NaN</td>\n",
       "      <td>NaN</td>\n",
       "      <td>NaN</td>\n",
       "      <td>NaN</td>\n",
       "      <td>NaN</td>\n",
       "      <td>NaN</td>\n",
       "      <td>NaN</td>\n",
       "      <td>NaN</td>\n",
       "    </tr>\n",
       "    <tr>\n",
       "      <td>4</td>\n",
       "      <td>asus tuf f15 15.6in i7 8gb 512gb rtx3060 gamin...</td>\n",
       "      <td>https://www.argos.co.uk/product/9361575</td>\n",
       "      <td>9361575</td>\n",
       "      <td>5</td>\n",
       "      <td>NaN</td>\n",
       "      <td>NaN</td>\n",
       "      <td>NaN</td>\n",
       "      <td>NaN</td>\n",
       "      <td>NaN</td>\n",
       "      <td>NaN</td>\n",
       "      <td>NaN</td>\n",
       "      <td>NaN</td>\n",
       "    </tr>\n",
       "    <tr>\n",
       "      <td>5</td>\n",
       "      <td>predator helios 300 i7 16gb 1tb 256gb rtx2060 ...</td>\n",
       "      <td>https://www.argos.co.uk/product/8741859</td>\n",
       "      <td>8741859</td>\n",
       "      <td>6</td>\n",
       "      <td>874/1859</td>\n",
       "      <td>[20 reviews, Recommended this product]</td>\n",
       "      <td>[100%]</td>\n",
       "      <td>[21 May 2021, 27 April 2021, 7 April 2021, 2 A...</td>\n",
       "      <td>[5, 5, 4, 5, 5, 5, 5, 5, 5, 5, 3, 4, 5, 4, 5, ...</td>\n",
       "      <td>[this laptop sends you a lot of emotions once ...</td>\n",
       "      <td>[Predator Helios 300 i7 16GB 1TB 256GB RTX 206...</td>\n",
       "      <td>[4.8]</td>\n",
       "    </tr>\n",
       "    <tr>\n",
       "      <td>6</td>\n",
       "      <td>acer nitro 5 15.6in i7 8gb 512gb gtx1660ti gam...</td>\n",
       "      <td>https://www.argos.co.uk/product/8732466</td>\n",
       "      <td>8732466</td>\n",
       "      <td>7</td>\n",
       "      <td>NaN</td>\n",
       "      <td>NaN</td>\n",
       "      <td>NaN</td>\n",
       "      <td>NaN</td>\n",
       "      <td>NaN</td>\n",
       "      <td>NaN</td>\n",
       "      <td>NaN</td>\n",
       "      <td>NaN</td>\n",
       "    </tr>\n",
       "  </tbody>\n",
       "</table>\n",
       "</div>"
      ],
      "text/plain": [
       "                                        product_name  \\\n",
       "0  hp pav 15.6in r7 8gb 512gb gtx1660ti gaming la...   \n",
       "1  hp omen 15.6in i7 16gb 1tb ssd rtx2060 fhd gam...   \n",
       "2  hp pavilion 17.3in i5 8gb 1tb 512gb gtx1650ti ...   \n",
       "3  lenovo ideapad l340 15in i5 8gb 128gb gtx1650 ...   \n",
       "4  asus tuf f15 15.6in i7 8gb 512gb rtx3060 gamin...   \n",
       "5  predator helios 300 i7 16gb 1tb 256gb rtx2060 ...   \n",
       "6  acer nitro 5 15.6in i7 8gb 512gb gtx1660ti gam...   \n",
       "\n",
       "                                      urls  remotekey  shelf_order     index  \\\n",
       "0  https://www.argos.co.uk/product/8095330    8095330            1       NaN   \n",
       "1  https://www.argos.co.uk/product/8848068    8848068            2       NaN   \n",
       "2  https://www.argos.co.uk/product/9304295    9304295            3       NaN   \n",
       "3  https://www.argos.co.uk/product/8947794    8947794            4       NaN   \n",
       "4  https://www.argos.co.uk/product/9361575    9361575            5       NaN   \n",
       "5  https://www.argos.co.uk/product/8741859    8741859            6  874/1859   \n",
       "6  https://www.argos.co.uk/product/8732466    8732466            7       NaN   \n",
       "\n",
       "                               no_reviews recommendation_percent  \\\n",
       "0                                     NaN                    NaN   \n",
       "1                                     NaN                    NaN   \n",
       "2                                     NaN                    NaN   \n",
       "3                                     NaN                    NaN   \n",
       "4                                     NaN                    NaN   \n",
       "5  [20 reviews, Recommended this product]                 [100%]   \n",
       "6                                     NaN                    NaN   \n",
       "\n",
       "                                         review_date  \\\n",
       "0                                                NaN   \n",
       "1                                                NaN   \n",
       "2                                                NaN   \n",
       "3                                                NaN   \n",
       "4                                                NaN   \n",
       "5  [21 May 2021, 27 April 2021, 7 April 2021, 2 A...   \n",
       "6                                                NaN   \n",
       "\n",
       "                                       review_rating  \\\n",
       "0                                                NaN   \n",
       "1                                                NaN   \n",
       "2                                                NaN   \n",
       "3                                                NaN   \n",
       "4                                                NaN   \n",
       "5  [5, 5, 4, 5, 5, 5, 5, 5, 5, 5, 3, 4, 5, 4, 5, ...   \n",
       "6                                                NaN   \n",
       "\n",
       "                                         review_text  \\\n",
       "0                                                NaN   \n",
       "1                                                NaN   \n",
       "2                                                NaN   \n",
       "3                                                NaN   \n",
       "4                                                NaN   \n",
       "5  [this laptop sends you a lot of emotions once ...   \n",
       "6                                                NaN   \n",
       "\n",
       "                                        review_title summary_star_rating  \n",
       "0                                                NaN                 NaN  \n",
       "1                                                NaN                 NaN  \n",
       "2                                                NaN                 NaN  \n",
       "3                                                NaN                 NaN  \n",
       "4                                                NaN                 NaN  \n",
       "5  [Predator Helios 300 i7 16GB 1TB 256GB RTX 206...               [4.8]  \n",
       "6                                                NaN                 NaN  "
      ]
     },
     "execution_count": 88,
     "metadata": {},
     "output_type": "execute_result"
    }
   ],
   "source": [
    "df"
   ]
  },
  {
   "cell_type": "code",
   "execution_count": null,
   "metadata": {},
   "outputs": [],
   "source": []
  }
 ],
 "metadata": {
  "kernelspec": {
   "display_name": "Python 3",
   "language": "python",
   "name": "python3"
  },
  "language_info": {
   "codemirror_mode": {
    "name": "ipython",
    "version": 3
   },
   "file_extension": ".py",
   "mimetype": "text/x-python",
   "name": "python",
   "nbconvert_exporter": "python",
   "pygments_lexer": "ipython3",
   "version": "3.7.4"
  }
 },
 "nbformat": 4,
 "nbformat_minor": 2
}
