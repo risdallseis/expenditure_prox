{
 "cells": [
  {
   "cell_type": "code",
   "execution_count": 1,
   "metadata": {},
   "outputs": [],
   "source": [
    "import pandas as pd\n",
    "import seaborn as sns\n",
    "import matplotlib.pyplot as plt\n",
    "from join_data import join_y\n",
    "import preproc\n",
    "import statsmodels\n"
   ]
  },
  {
   "cell_type": "code",
   "execution_count": 2,
   "metadata": {},
   "outputs": [],
   "source": [
    "# importing datasets\n",
    "laptops = pd.read_json('C:\\\\Users\\\\Administrator\\\\expenditure_prox\\\\laptops.json')\n",
    "desktops = pd.read_json('C:\\\\Users\\\\Administrator\\\\expenditure_prox\\\\desktops.json')\n",
    "tablets= pd.read_json('C:\\\\Users\\\\Administrator\\\\expenditure_prox\\\\tablets.json')\n",
    "phones =  pd.read_json('C:\\\\Users\\\\Administrator\\\\expenditure_prox\\\\smartphones.json')"
   ]
  },
  {
   "cell_type": "code",
   "execution_count": 3,
   "metadata": {},
   "outputs": [],
   "source": [
    "# joining datasets\n",
    "laptops = join_y(laptops, 'laptops_sales.csv')\n",
    "desktops = join_y(desktops, 'desktops_sales.csv')\n",
    "tablets = join_y(tablets, 'tablet_sales.csv')\n",
    "phones = join_y(phones, 'phone_sales.csv')"
   ]
  },
  {
   "cell_type": "code",
   "execution_count": 4,
   "metadata": {},
   "outputs": [],
   "source": [
    "def none_to_empty_list(text):\n",
    "    \"\"\"Turns nulls to empty list\n",
    "    \"\"\"\n",
    "    if text == None:\n",
    "        text = ['']\n",
    "    else:\n",
    "        text = text\n",
    "    return text"
   ]
  },
  {
   "cell_type": "code",
   "execution_count": 5,
   "metadata": {},
   "outputs": [
    {
     "name": "stderr",
     "output_type": "stream",
     "text": [
      "[nltk_data] Downloading package wordnet to\n",
      "[nltk_data]     C:\\Users\\Administrator\\AppData\\Roaming\\nltk_data...\n",
      "[nltk_data]   Package wordnet is already up-to-date!\n",
      "[nltk_data] Downloading package stopwords to\n",
      "[nltk_data]     C:\\Users\\Administrator\\AppData\\Roaming\\nltk_data...\n",
      "[nltk_data]   Package stopwords is already up-to-date!\n",
      "C:\\Users\\Administrator\\expenditure_prox\\preproc.py:157: SettingWithCopyWarning: \n",
      "A value is trying to be set on a copy of a slice from a DataFrame.\n",
      "Try using .loc[row_indexer,col_indexer] = value instead\n",
      "\n",
      "See the caveats in the documentation: http://pandas.pydata.org/pandas-docs/stable/user_guide/indexing.html#returning-a-view-versus-a-copy\n",
      "  df['text_preproc'] = df['review_text'].apply(lambda x: __remove_accented_chars(x))\n",
      "C:\\Users\\Administrator\\expenditure_prox\\preproc.py:159: SettingWithCopyWarning: \n",
      "A value is trying to be set on a copy of a slice from a DataFrame.\n",
      "Try using .loc[row_indexer,col_indexer] = value instead\n",
      "\n",
      "See the caveats in the documentation: http://pandas.pydata.org/pandas-docs/stable/user_guide/indexing.html#returning-a-view-versus-a-copy\n",
      "  df['text_preproc'] = df['text_preproc'].apply(lambda x: __lower_text(x))\n",
      "C:\\Users\\Administrator\\expenditure_prox\\preproc.py:161: SettingWithCopyWarning: \n",
      "A value is trying to be set on a copy of a slice from a DataFrame.\n",
      "Try using .loc[row_indexer,col_indexer] = value instead\n",
      "\n",
      "See the caveats in the documentation: http://pandas.pydata.org/pandas-docs/stable/user_guide/indexing.html#returning-a-view-versus-a-copy\n",
      "  df['text_preproc'] = df['text_preproc'].apply(lambda x: __remove_html(x))\n",
      "C:\\Users\\Administrator\\expenditure_prox\\preproc.py:163: SettingWithCopyWarning: \n",
      "A value is trying to be set on a copy of a slice from a DataFrame.\n",
      "Try using .loc[row_indexer,col_indexer] = value instead\n",
      "\n",
      "See the caveats in the documentation: http://pandas.pydata.org/pandas-docs/stable/user_guide/indexing.html#returning-a-view-versus-a-copy\n",
      "  df['text_preproc'] = df['text_preproc'].apply(lambda x: __remove_spec_chars(x))\n",
      "C:\\Users\\Administrator\\expenditure_prox\\preproc.py:165: SettingWithCopyWarning: \n",
      "A value is trying to be set on a copy of a slice from a DataFrame.\n",
      "Try using .loc[row_indexer,col_indexer] = value instead\n",
      "\n",
      "See the caveats in the documentation: http://pandas.pydata.org/pandas-docs/stable/user_guide/indexing.html#returning-a-view-versus-a-copy\n",
      "  df['text_preproc'] = df['text_preproc'].apply(lambda x: __expand_contractions(x))\n",
      "C:\\Users\\Administrator\\expenditure_prox\\preproc.py:167: SettingWithCopyWarning: \n",
      "A value is trying to be set on a copy of a slice from a DataFrame.\n",
      "Try using .loc[row_indexer,col_indexer] = value instead\n",
      "\n",
      "See the caveats in the documentation: http://pandas.pydata.org/pandas-docs/stable/user_guide/indexing.html#returning-a-view-versus-a-copy\n",
      "  df['text_preproc'] = df['text_preproc'].apply(lambda x: __tokenise_reviews(x))\n",
      "C:\\Users\\Administrator\\expenditure_prox\\preproc.py:170: SettingWithCopyWarning: \n",
      "A value is trying to be set on a copy of a slice from a DataFrame.\n",
      "Try using .loc[row_indexer,col_indexer] = value instead\n",
      "\n",
      "See the caveats in the documentation: http://pandas.pydata.org/pandas-docs/stable/user_guide/indexing.html#returning-a-view-versus-a-copy\n",
      "  df['text_preproc2'] = df['text_preproc'].apply(lambda x: __remove_stopwords(x))\n",
      "C:\\Users\\Administrator\\expenditure_prox\\preproc.py:172: SettingWithCopyWarning: \n",
      "A value is trying to be set on a copy of a slice from a DataFrame.\n",
      "Try using .loc[row_indexer,col_indexer] = value instead\n",
      "\n",
      "See the caveats in the documentation: http://pandas.pydata.org/pandas-docs/stable/user_guide/indexing.html#returning-a-view-versus-a-copy\n",
      "  df['text_preproc2'] = df['text_preproc2'].apply(lambda x: __lemmatise_words(x))\n",
      "[nltk_data] Downloading package wordnet to\n",
      "[nltk_data]     C:\\Users\\Administrator\\AppData\\Roaming\\nltk_data...\n",
      "[nltk_data]   Package wordnet is already up-to-date!\n",
      "[nltk_data] Downloading package stopwords to\n",
      "[nltk_data]     C:\\Users\\Administrator\\AppData\\Roaming\\nltk_data...\n",
      "[nltk_data]   Package stopwords is already up-to-date!\n",
      "[nltk_data] Downloading package wordnet to\n",
      "[nltk_data]     C:\\Users\\Administrator\\AppData\\Roaming\\nltk_data...\n",
      "[nltk_data]   Package wordnet is already up-to-date!\n",
      "[nltk_data] Downloading package stopwords to\n",
      "[nltk_data]     C:\\Users\\Administrator\\AppData\\Roaming\\nltk_data...\n",
      "[nltk_data]   Package stopwords is already up-to-date!\n",
      "[nltk_data] Downloading package wordnet to\n",
      "[nltk_data]     C:\\Users\\Administrator\\AppData\\Roaming\\nltk_data...\n",
      "[nltk_data]   Package wordnet is already up-to-date!\n",
      "[nltk_data] Downloading package stopwords to\n",
      "[nltk_data]     C:\\Users\\Administrator\\AppData\\Roaming\\nltk_data...\n",
      "[nltk_data]   Package stopwords is already up-to-date!\n"
     ]
    }
   ],
   "source": [
    "## preprocessing\n",
    "# clean cols\n",
    "laptops = preproc.clean_cols(laptops)\n",
    "desktops = preproc.clean_cols(desktops)\n",
    "tablets = tablets.applymap(lambda x: none_to_empty_list(x))\n",
    "tablets = preproc.clean_cols(tablets)\n",
    "phones = preproc.clean_cols(phones)\n",
    "# fill empty lists\n",
    "laptops = preproc.fill_empty_lists(laptops)\n",
    "desktops = preproc.fill_empty_lists(desktops)\n",
    "tablets= preproc.fill_empty_lists(tablets)\n",
    "phones = preproc.fill_empty_lists(phones)\n",
    "\n",
    "# preproc reviews\n",
    "laptops = preproc.preprocess_reviews(laptops)\n",
    "desktops = preproc.preprocess_reviews(desktops)\n",
    "tablets = preproc.preprocess_reviews(tablets)\n",
    "phones = preproc.preprocess_reviews(phones)\n",
    "                                "
   ]
  },
  {
   "cell_type": "code",
   "execution_count": 8,
   "metadata": {},
   "outputs": [
    {
     "data": {
      "text/plain": [
       "(0, 200)"
      ]
     },
     "execution_count": 8,
     "metadata": {},
     "output_type": "execute_result"
    },
    {
     "data": {
      "image/png": "[encoded data removed]",
      "text/plain": [
       "<Figure size 432x288 with 1 Axes>"
      ]
     },
     "metadata": {
      "needs_background": "light"
     },
     "output_type": "display_data"
    }
   ],
   "source": [
    "# laptops\n",
    "sns.scatterplot(x=laptops['no_reviews'], y=laptops['TOTAL_SALES'])\n",
    "plt.xlim([0,200])"
   ]
  },
  {
   "cell_type": "code",
   "execution_count": 18,
   "metadata": {},
   "outputs": [
    {
     "name": "stdout",
     "output_type": "stream",
     "text": [
      "(0.905577994923449, 8.973899969097057e-43)\n",
      "(-0.2720782258761909, 0.0037071809365100666)\n"
     ]
    }
   ],
   "source": [
    "import scipy\n",
    "print(scipy.stats.pearsonr(laptops['no_reviews'],laptops['TOTAL_SALES']))\n",
    "print(scipy.stats.pearsonr(laptops['price'],laptops['TOTAL_SALES']))"
   ]
  },
  {
   "cell_type": "code",
   "execution_count": 24,
   "metadata": {},
   "outputs": [
    {
     "data": {
      "text/html": [
       "<div>\n",
       "<style scoped>\n",
       "    .dataframe tbody tr th:only-of-type {\n",
       "        vertical-align: middle;\n",
       "    }\n",
       "\n",
       "    .dataframe tbody tr th {\n",
       "        vertical-align: top;\n",
       "    }\n",
       "\n",
       "    .dataframe thead th {\n",
       "        text-align: right;\n",
       "    }\n",
       "</style>\n",
       "<table border=\"1\" class=\"dataframe\">\n",
       "  <thead>\n",
       "    <tr style=\"text-align: right;\">\n",
       "      <th></th>\n",
       "      <th>price</th>\n",
       "      <th>no_reviews</th>\n",
       "      <th>recommendation_percent</th>\n",
       "      <th>summary_star_rating</th>\n",
       "      <th>TOTAL_SALES</th>\n",
       "    </tr>\n",
       "  </thead>\n",
       "  <tbody>\n",
       "    <tr>\n",
       "      <td>price</td>\n",
       "      <td>1.000000</td>\n",
       "      <td>-0.150710</td>\n",
       "      <td>-0.213528</td>\n",
       "      <td>-0.202797</td>\n",
       "      <td>-0.272078</td>\n",
       "    </tr>\n",
       "    <tr>\n",
       "      <td>no_reviews</td>\n",
       "      <td>-0.150710</td>\n",
       "      <td>1.000000</td>\n",
       "      <td>0.192304</td>\n",
       "      <td>0.197432</td>\n",
       "      <td>0.905578</td>\n",
       "    </tr>\n",
       "    <tr>\n",
       "      <td>recommendation_percent</td>\n",
       "      <td>-0.213528</td>\n",
       "      <td>0.192304</td>\n",
       "      <td>1.000000</td>\n",
       "      <td>0.994372</td>\n",
       "      <td>0.194676</td>\n",
       "    </tr>\n",
       "    <tr>\n",
       "      <td>summary_star_rating</td>\n",
       "      <td>-0.202797</td>\n",
       "      <td>0.197432</td>\n",
       "      <td>0.994372</td>\n",
       "      <td>1.000000</td>\n",
       "      <td>0.199947</td>\n",
       "    </tr>\n",
       "    <tr>\n",
       "      <td>TOTAL_SALES</td>\n",
       "      <td>-0.272078</td>\n",
       "      <td>0.905578</td>\n",
       "      <td>0.194676</td>\n",
       "      <td>0.199947</td>\n",
       "      <td>1.000000</td>\n",
       "    </tr>\n",
       "  </tbody>\n",
       "</table>\n",
       "</div>"
      ],
      "text/plain": [
       "                           price  no_reviews  recommendation_percent  \\\n",
       "price                   1.000000   -0.150710               -0.213528   \n",
       "no_reviews             -0.150710    1.000000                0.192304   \n",
       "recommendation_percent -0.213528    0.192304                1.000000   \n",
       "summary_star_rating    -0.202797    0.197432                0.994372   \n",
       "TOTAL_SALES            -0.272078    0.905578                0.194676   \n",
       "\n",
       "                        summary_star_rating  TOTAL_SALES  \n",
       "price                             -0.202797    -0.272078  \n",
       "no_reviews                         0.197432     0.905578  \n",
       "recommendation_percent             0.994372     0.194676  \n",
       "summary_star_rating                1.000000     0.199947  \n",
       "TOTAL_SALES                        0.199947     1.000000  "
      ]
     },
     "execution_count": 24,
     "metadata": {},
     "output_type": "execute_result"
    }
   ],
   "source": [
    "laptops[['price','no_reviews','recommendation_percent','summary_star_rating','TOTAL_SALES']].corr()"
   ]
  },
  {
   "cell_type": "code",
   "execution_count": 19,
   "metadata": {},
   "outputs": [
    {
     "data": {
      "text/plain": [
       "Index(['product_name', 'price', 'urls', 'remotekey', 'shelf_order',\n",
       "       'item_category', 'no_reviews', 'recommendation_percent', 'review_date',\n",
       "       'review_rating', 'review_text', 'review_title', 'summary_star_rating',\n",
       "       'code', 'TOTAL_SALES', 'text_preproc', 'text_preproc2'],\n",
       "      dtype='object')"
      ]
     },
     "execution_count": 19,
     "metadata": {},
     "output_type": "execute_result"
    }
   ],
   "source": [
    "laptops.columns"
   ]
  },
  {
   "cell_type": "code",
   "execution_count": 9,
   "metadata": {},
   "outputs": [
    {
     "data": {
      "text/plain": [
       "<matplotlib.axes._subplots.AxesSubplot at 0x289a65ae0c8>"
      ]
     },
     "execution_count": 9,
     "metadata": {},
     "output_type": "execute_result"
    },
    {
     "data": {
      "image/png": "[encoded data removed]",
      "text/plain": [
       "<Figure size 432x288 with 1 Axes>"
      ]
     },
     "metadata": {
      "needs_background": "light"
     },
     "output_type": "display_data"
    }
   ],
   "source": [
    "# desktops\n",
    "\n",
    "sns.scatterplot(x=desktops['no_reviews'], y=desktops['TOTAL_SALES'])\n",
    "#plt.xlim([0,200])"
   ]
  },
  {
   "cell_type": "code",
   "execution_count": 17,
   "metadata": {},
   "outputs": [
    {
     "name": "stdout",
     "output_type": "stream",
     "text": [
      "(0.6019596990602754, 0.00026760099161089095)\n",
      "(-0.5661258559487619, 0.0007318686926298205)\n"
     ]
    }
   ],
   "source": [
    "print(scipy.stats.pearsonr(desktops['no_reviews'],desktops['TOTAL_SALES']))\n",
    "print(scipy.stats.pearsonr(desktops['price'],desktops['TOTAL_SALES']))"
   ]
  },
  {
   "cell_type": "code",
   "execution_count": 25,
   "metadata": {},
   "outputs": [
    {
     "data": {
      "text/html": [
       "<div>\n",
       "<style scoped>\n",
       "    .dataframe tbody tr th:only-of-type {\n",
       "        vertical-align: middle;\n",
       "    }\n",
       "\n",
       "    .dataframe tbody tr th {\n",
       "        vertical-align: top;\n",
       "    }\n",
       "\n",
       "    .dataframe thead th {\n",
       "        text-align: right;\n",
       "    }\n",
       "</style>\n",
       "<table border=\"1\" class=\"dataframe\">\n",
       "  <thead>\n",
       "    <tr style=\"text-align: right;\">\n",
       "      <th></th>\n",
       "      <th>price</th>\n",
       "      <th>no_reviews</th>\n",
       "      <th>recommendation_percent</th>\n",
       "      <th>summary_star_rating</th>\n",
       "      <th>TOTAL_SALES</th>\n",
       "    </tr>\n",
       "  </thead>\n",
       "  <tbody>\n",
       "    <tr>\n",
       "      <td>price</td>\n",
       "      <td>1.000000</td>\n",
       "      <td>-0.397231</td>\n",
       "      <td>-0.125063</td>\n",
       "      <td>-0.150560</td>\n",
       "      <td>-0.566126</td>\n",
       "    </tr>\n",
       "    <tr>\n",
       "      <td>no_reviews</td>\n",
       "      <td>-0.397231</td>\n",
       "      <td>1.000000</td>\n",
       "      <td>0.603911</td>\n",
       "      <td>0.615387</td>\n",
       "      <td>0.601960</td>\n",
       "    </tr>\n",
       "    <tr>\n",
       "      <td>recommendation_percent</td>\n",
       "      <td>-0.125063</td>\n",
       "      <td>0.603911</td>\n",
       "      <td>1.000000</td>\n",
       "      <td>0.994477</td>\n",
       "      <td>0.199026</td>\n",
       "    </tr>\n",
       "    <tr>\n",
       "      <td>summary_star_rating</td>\n",
       "      <td>-0.150560</td>\n",
       "      <td>0.615387</td>\n",
       "      <td>0.994477</td>\n",
       "      <td>1.000000</td>\n",
       "      <td>0.201446</td>\n",
       "    </tr>\n",
       "    <tr>\n",
       "      <td>TOTAL_SALES</td>\n",
       "      <td>-0.566126</td>\n",
       "      <td>0.601960</td>\n",
       "      <td>0.199026</td>\n",
       "      <td>0.201446</td>\n",
       "      <td>1.000000</td>\n",
       "    </tr>\n",
       "  </tbody>\n",
       "</table>\n",
       "</div>"
      ],
      "text/plain": [
       "                           price  no_reviews  recommendation_percent  \\\n",
       "price                   1.000000   -0.397231               -0.125063   \n",
       "no_reviews             -0.397231    1.000000                0.603911   \n",
       "recommendation_percent -0.125063    0.603911                1.000000   \n",
       "summary_star_rating    -0.150560    0.615387                0.994477   \n",
       "TOTAL_SALES            -0.566126    0.601960                0.199026   \n",
       "\n",
       "                        summary_star_rating  TOTAL_SALES  \n",
       "price                             -0.150560    -0.566126  \n",
       "no_reviews                         0.615387     0.601960  \n",
       "recommendation_percent             0.994477     0.199026  \n",
       "summary_star_rating                1.000000     0.201446  \n",
       "TOTAL_SALES                        0.201446     1.000000  "
      ]
     },
     "execution_count": 25,
     "metadata": {},
     "output_type": "execute_result"
    }
   ],
   "source": [
    "desktops[['price','no_reviews','recommendation_percent','summary_star_rating','TOTAL_SALES']].corr()"
   ]
  },
  {
   "cell_type": "code",
   "execution_count": 10,
   "metadata": {},
   "outputs": [
    {
     "data": {
      "text/plain": [
       "<matplotlib.axes._subplots.AxesSubplot at 0x289a664f7c8>"
      ]
     },
     "execution_count": 10,
     "metadata": {},
     "output_type": "execute_result"
    },
    {
     "data": {
      "image/png": "[encoded data removed]",
      "text/plain": [
       "<Figure size 432x288 with 1 Axes>"
      ]
     },
     "metadata": {
      "needs_background": "light"
     },
     "output_type": "display_data"
    }
   ],
   "source": [
    "# tablets\n",
    "sns.scatterplot(x=tablets['no_reviews'], y=tablets['TOTAL_SALES'])\n",
    "#plt.xlim([0,200])"
   ]
  },
  {
   "cell_type": "code",
   "execution_count": 16,
   "metadata": {},
   "outputs": [
    {
     "name": "stdout",
     "output_type": "stream",
     "text": [
      "(0.49989599457465167, 9.565028266280317e-07)\n",
      "(-0.34383753588383004, 0.0011894829538713948)\n"
     ]
    }
   ],
   "source": [
    "print(scipy.stats.pearsonr(tablets['no_reviews'],tablets['TOTAL_SALES']))\n",
    "print(scipy.stats.pearsonr(tablets['price'],tablets['TOTAL_SALES']))"
   ]
  },
  {
   "cell_type": "code",
   "execution_count": 27,
   "metadata": {},
   "outputs": [
    {
     "data": {
      "text/html": [
       "<div>\n",
       "<style scoped>\n",
       "    .dataframe tbody tr th:only-of-type {\n",
       "        vertical-align: middle;\n",
       "    }\n",
       "\n",
       "    .dataframe tbody tr th {\n",
       "        vertical-align: top;\n",
       "    }\n",
       "\n",
       "    .dataframe thead th {\n",
       "        text-align: right;\n",
       "    }\n",
       "</style>\n",
       "<table border=\"1\" class=\"dataframe\">\n",
       "  <thead>\n",
       "    <tr style=\"text-align: right;\">\n",
       "      <th></th>\n",
       "      <th>price</th>\n",
       "      <th>no_reviews</th>\n",
       "      <th>recommendation_percent</th>\n",
       "      <th>summary_star_rating</th>\n",
       "      <th>TOTAL_SALES</th>\n",
       "    </tr>\n",
       "  </thead>\n",
       "  <tbody>\n",
       "    <tr>\n",
       "      <td>price</td>\n",
       "      <td>1.000000</td>\n",
       "      <td>-0.257500</td>\n",
       "      <td>0.118914</td>\n",
       "      <td>0.152881</td>\n",
       "      <td>-0.343838</td>\n",
       "    </tr>\n",
       "    <tr>\n",
       "      <td>no_reviews</td>\n",
       "      <td>-0.257500</td>\n",
       "      <td>1.000000</td>\n",
       "      <td>0.281621</td>\n",
       "      <td>0.254986</td>\n",
       "      <td>0.499896</td>\n",
       "    </tr>\n",
       "    <tr>\n",
       "      <td>recommendation_percent</td>\n",
       "      <td>0.118914</td>\n",
       "      <td>0.281621</td>\n",
       "      <td>1.000000</td>\n",
       "      <td>0.988050</td>\n",
       "      <td>-0.144294</td>\n",
       "    </tr>\n",
       "    <tr>\n",
       "      <td>summary_star_rating</td>\n",
       "      <td>0.152881</td>\n",
       "      <td>0.254986</td>\n",
       "      <td>0.988050</td>\n",
       "      <td>1.000000</td>\n",
       "      <td>-0.186605</td>\n",
       "    </tr>\n",
       "    <tr>\n",
       "      <td>TOTAL_SALES</td>\n",
       "      <td>-0.343838</td>\n",
       "      <td>0.499896</td>\n",
       "      <td>-0.144294</td>\n",
       "      <td>-0.186605</td>\n",
       "      <td>1.000000</td>\n",
       "    </tr>\n",
       "  </tbody>\n",
       "</table>\n",
       "</div>"
      ],
      "text/plain": [
       "                           price  no_reviews  recommendation_percent  \\\n",
       "price                   1.000000   -0.257500                0.118914   \n",
       "no_reviews             -0.257500    1.000000                0.281621   \n",
       "recommendation_percent  0.118914    0.281621                1.000000   \n",
       "summary_star_rating     0.152881    0.254986                0.988050   \n",
       "TOTAL_SALES            -0.343838    0.499896               -0.144294   \n",
       "\n",
       "                        summary_star_rating  TOTAL_SALES  \n",
       "price                              0.152881    -0.343838  \n",
       "no_reviews                         0.254986     0.499896  \n",
       "recommendation_percent             0.988050    -0.144294  \n",
       "summary_star_rating                1.000000    -0.186605  \n",
       "TOTAL_SALES                       -0.186605     1.000000  "
      ]
     },
     "execution_count": 27,
     "metadata": {},
     "output_type": "execute_result"
    }
   ],
   "source": [
    "tablets[['price','no_reviews','recommendation_percent','summary_star_rating','TOTAL_SALES']].corr()"
   ]
  },
  {
   "cell_type": "code",
   "execution_count": 11,
   "metadata": {},
   "outputs": [
    {
     "data": {
      "text/plain": [
       "<matplotlib.axes._subplots.AxesSubplot at 0x289a6754ec8>"
      ]
     },
     "execution_count": 11,
     "metadata": {},
     "output_type": "execute_result"
    },
    {
     "data": {
      "image/png": "[encoded data removed]",
      "text/plain": [
       "<Figure size 432x288 with 1 Axes>"
      ]
     },
     "metadata": {
      "needs_background": "light"
     },
     "output_type": "display_data"
    }
   ],
   "source": [
    "# phones\n",
    "sns.scatterplot(x=phones['no_reviews'], y=phones['TOTAL_SALES'])\n",
    "#plt.xlim([0,200])"
   ]
  },
  {
   "cell_type": "code",
   "execution_count": 14,
   "metadata": {},
   "outputs": [
    {
     "name": "stdout",
     "output_type": "stream",
     "text": [
      "(0.4510571113527504, 3.487898081580861e-14)\n",
      "(-0.3543414213993321, 5.866274885763125e-09)\n"
     ]
    }
   ],
   "source": [
    "print(scipy.stats.pearsonr(phones['no_reviews'],phones['TOTAL_SALES']))\n",
    "print(scipy.stats.pearsonr(phones['price'],phones['TOTAL_SALES']))"
   ]
  },
  {
   "cell_type": "code",
   "execution_count": 28,
   "metadata": {},
   "outputs": [
    {
     "data": {
      "text/html": [
       "<div>\n",
       "<style scoped>\n",
       "    .dataframe tbody tr th:only-of-type {\n",
       "        vertical-align: middle;\n",
       "    }\n",
       "\n",
       "    .dataframe tbody tr th {\n",
       "        vertical-align: top;\n",
       "    }\n",
       "\n",
       "    .dataframe thead th {\n",
       "        text-align: right;\n",
       "    }\n",
       "</style>\n",
       "<table border=\"1\" class=\"dataframe\">\n",
       "  <thead>\n",
       "    <tr style=\"text-align: right;\">\n",
       "      <th></th>\n",
       "      <th>price</th>\n",
       "      <th>no_reviews</th>\n",
       "      <th>recommendation_percent</th>\n",
       "      <th>summary_star_rating</th>\n",
       "      <th>TOTAL_SALES</th>\n",
       "    </tr>\n",
       "  </thead>\n",
       "  <tbody>\n",
       "    <tr>\n",
       "      <td>price</td>\n",
       "      <td>1.000000</td>\n",
       "      <td>0.030408</td>\n",
       "      <td>0.333129</td>\n",
       "      <td>0.349611</td>\n",
       "      <td>-0.354341</td>\n",
       "    </tr>\n",
       "    <tr>\n",
       "      <td>no_reviews</td>\n",
       "      <td>0.030408</td>\n",
       "      <td>1.000000</td>\n",
       "      <td>0.341049</td>\n",
       "      <td>0.356328</td>\n",
       "      <td>0.451057</td>\n",
       "    </tr>\n",
       "    <tr>\n",
       "      <td>recommendation_percent</td>\n",
       "      <td>0.333129</td>\n",
       "      <td>0.341049</td>\n",
       "      <td>1.000000</td>\n",
       "      <td>0.997047</td>\n",
       "      <td>-0.061885</td>\n",
       "    </tr>\n",
       "    <tr>\n",
       "      <td>summary_star_rating</td>\n",
       "      <td>0.349611</td>\n",
       "      <td>0.356328</td>\n",
       "      <td>0.997047</td>\n",
       "      <td>1.000000</td>\n",
       "      <td>-0.063449</td>\n",
       "    </tr>\n",
       "    <tr>\n",
       "      <td>TOTAL_SALES</td>\n",
       "      <td>-0.354341</td>\n",
       "      <td>0.451057</td>\n",
       "      <td>-0.061885</td>\n",
       "      <td>-0.063449</td>\n",
       "      <td>1.000000</td>\n",
       "    </tr>\n",
       "  </tbody>\n",
       "</table>\n",
       "</div>"
      ],
      "text/plain": [
       "                           price  no_reviews  recommendation_percent  \\\n",
       "price                   1.000000    0.030408                0.333129   \n",
       "no_reviews              0.030408    1.000000                0.341049   \n",
       "recommendation_percent  0.333129    0.341049                1.000000   \n",
       "summary_star_rating     0.349611    0.356328                0.997047   \n",
       "TOTAL_SALES            -0.354341    0.451057               -0.061885   \n",
       "\n",
       "                        summary_star_rating  TOTAL_SALES  \n",
       "price                              0.349611    -0.354341  \n",
       "no_reviews                         0.356328     0.451057  \n",
       "recommendation_percent             0.997047    -0.061885  \n",
       "summary_star_rating                1.000000    -0.063449  \n",
       "TOTAL_SALES                       -0.063449     1.000000  "
      ]
     },
     "execution_count": 28,
     "metadata": {},
     "output_type": "execute_result"
    }
   ],
   "source": [
    "phones[['price','no_reviews','recommendation_percent','summary_star_rating','TOTAL_SALES']].corr()"
   ]
  },
  {
   "cell_type": "code",
   "execution_count": 20,
   "metadata": {},
   "outputs": [
    {
     "data": {
      "text/html": [
       "<div>\n",
       "<style scoped>\n",
       "    .dataframe tbody tr th:only-of-type {\n",
       "        vertical-align: middle;\n",
       "    }\n",
       "\n",
       "    .dataframe tbody tr th {\n",
       "        vertical-align: top;\n",
       "    }\n",
       "\n",
       "    .dataframe thead th {\n",
       "        text-align: right;\n",
       "    }\n",
       "</style>\n",
       "<table border=\"1\" class=\"dataframe\">\n",
       "  <thead>\n",
       "    <tr style=\"text-align: right;\">\n",
       "      <th></th>\n",
       "      <th>product_name</th>\n",
       "      <th>price</th>\n",
       "      <th>urls</th>\n",
       "      <th>remotekey</th>\n",
       "      <th>shelf_order</th>\n",
       "      <th>item_category</th>\n",
       "      <th>no_reviews</th>\n",
       "      <th>recommendation_percent</th>\n",
       "      <th>review_date</th>\n",
       "      <th>review_rating</th>\n",
       "      <th>review_text</th>\n",
       "      <th>review_title</th>\n",
       "      <th>summary_star_rating</th>\n",
       "      <th>code</th>\n",
       "      <th>TOTAL_SALES</th>\n",
       "      <th>text_preproc</th>\n",
       "      <th>text_preproc2</th>\n",
       "    </tr>\n",
       "  </thead>\n",
       "  <tbody>\n",
       "    <tr>\n",
       "      <td>0</td>\n",
       "      <td>sim free motorola g8 power lite 64gb mobile ph...</td>\n",
       "      <td>99.95</td>\n",
       "      <td>https://www.argos.co.uk/product/7126877?clickP...</td>\n",
       "      <td>7126877</td>\n",
       "      <td>1</td>\n",
       "      <td>[Experience the power to be your creative best...</td>\n",
       "      <td>871</td>\n",
       "      <td>96</td>\n",
       "      <td>[1 August 2021, 1 August 2021, 1 August 2021, ...</td>\n",
       "      <td>[5, 5, 2, 5, 5, 5, 4, 5, 3, 5, 4, 5, 5, 5, 5, ...</td>\n",
       "      <td>[I'm very pleased with the phone. It arrived q...</td>\n",
       "      <td>[Overall a lovely phone, Brilliant, Difficult ...</td>\n",
       "      <td>4.7</td>\n",
       "      <td>2303179732635262459831782148741979332223786223...</td>\n",
       "      <td>52704</td>\n",
       "      <td>[[i, m, very, pleased, with, the, phone, it, a...</td>\n",
       "      <td>[[pleased, phone, arrived, quickly, lot, great...</td>\n",
       "    </tr>\n",
       "    <tr>\n",
       "      <td>5</td>\n",
       "      <td>sim free alcatel 1c mobile phone black</td>\n",
       "      <td>49.99</td>\n",
       "      <td>https://www.argos.co.uk/product/1952085?clickP...</td>\n",
       "      <td>1952085</td>\n",
       "      <td>6</td>\n",
       "      <td>[Alcatel 1C, is the best deal for an 18:9 disp...</td>\n",
       "      <td>1071</td>\n",
       "      <td>87</td>\n",
       "      <td>[31 July 2021, 31 July 2021, 31 July 2021, 30 ...</td>\n",
       "      <td>[3, 4, 5, 5, 5, 5, 5, 5, 5, 5, 3, 5, 2, 3, 5, ...</td>\n",
       "      <td>[The phone does what it is support to do and i...</td>\n",
       "      <td>[Good for a child's first phone, Simple to use...</td>\n",
       "      <td>4.3</td>\n",
       "      <td>6523362733424390017607564743466362116793130797...</td>\n",
       "      <td>63939</td>\n",
       "      <td>[[the, phone, does, what, it, is, support, to,...</td>\n",
       "      <td>[[phone, support, good, price, thing, like, ba...</td>\n",
       "    </tr>\n",
       "    <tr>\n",
       "      <td>6</td>\n",
       "      <td>sim free nokia 105 mobile phone black</td>\n",
       "      <td>17.99</td>\n",
       "      <td>https://www.argos.co.uk/product/4637620?clickP...</td>\n",
       "      <td>4637620</td>\n",
       "      <td>7</td>\n",
       "      <td>[Talk to everyone with the latest Nokia 105. W...</td>\n",
       "      <td>914</td>\n",
       "      <td>89</td>\n",
       "      <td>[30 July 2021, 30 July 2021, 30 July 2021, 30 ...</td>\n",
       "      <td>[5, 5, 3, 4, 5, 5, 5, 5, 4, 4, 5, 5, 1, 2, 1, ...</td>\n",
       "      <td>[Needed as an emergency phone and is great for...</td>\n",
       "      <td>[Good for the Price, Great product, Phone work...</td>\n",
       "      <td>4.4</td>\n",
       "      <td>5849412132309916829220345124034463633224670657...</td>\n",
       "      <td>51463</td>\n",
       "      <td>[[needed, as, an, emergency, phone, and, is, g...</td>\n",
       "      <td>[[needed, emergency, phone, great, purpose, ph...</td>\n",
       "    </tr>\n",
       "    <tr>\n",
       "      <td>35</td>\n",
       "      <td>sim free samsung galaxy a12 64gb mobile phone ...</td>\n",
       "      <td>149.99</td>\n",
       "      <td>https://www.argos.co.uk/product/8886635?clickP...</td>\n",
       "      <td>8886635</td>\n",
       "      <td>36</td>\n",
       "      <td>[Tap into an unforgettable viewing experience ...</td>\n",
       "      <td>0</td>\n",
       "      <td>0</td>\n",
       "      <td>0</td>\n",
       "      <td>0</td>\n",
       "      <td>0</td>\n",
       "      <td>0</td>\n",
       "      <td>0.0</td>\n",
       "      <td>4462311512265498974656112752638448649577476511...</td>\n",
       "      <td>41462</td>\n",
       "      <td>[]</td>\n",
       "      <td>[]</td>\n",
       "    </tr>\n",
       "    <tr>\n",
       "      <td>185</td>\n",
       "      <td>sim free alba mobile phone black</td>\n",
       "      <td>12.99</td>\n",
       "      <td>https://www.argos.co.uk/product/4981558?clickP...</td>\n",
       "      <td>4981558</td>\n",
       "      <td>45</td>\n",
       "      <td>[Simple to set up and use, light weight, robus...</td>\n",
       "      <td>1359</td>\n",
       "      <td>86</td>\n",
       "      <td>[25 June 2021, 23 June 2021, 10 June 2021, 9 J...</td>\n",
       "      <td>[5, 2, 5, 2, 5, 1, 2, 5, 3, 4, 5, 5, 4, 5, 5, ...</td>\n",
       "      <td>[Bought this for my daughter it is such good q...</td>\n",
       "      <td>[Perfect, Not great, Basic but easy to use., N...</td>\n",
       "      <td>4.2</td>\n",
       "      <td>4265621254144453889325147033289654510607247352...</td>\n",
       "      <td>45811</td>\n",
       "      <td>[[bought, this, for, my, daughter, it, is, suc...</td>\n",
       "      <td>[[bought, daughter, good, quality, money], [aw...</td>\n",
       "    </tr>\n",
       "  </tbody>\n",
       "</table>\n",
       "</div>"
      ],
      "text/plain": [
       "                                          product_name   price  \\\n",
       "0    sim free motorola g8 power lite 64gb mobile ph...   99.95   \n",
       "5               sim free alcatel 1c mobile phone black   49.99   \n",
       "6                sim free nokia 105 mobile phone black   17.99   \n",
       "35   sim free samsung galaxy a12 64gb mobile phone ...  149.99   \n",
       "185                   sim free alba mobile phone black   12.99   \n",
       "\n",
       "                                                  urls  remotekey  \\\n",
       "0    https://www.argos.co.uk/product/7126877?clickP...    7126877   \n",
       "5    https://www.argos.co.uk/product/1952085?clickP...    1952085   \n",
       "6    https://www.argos.co.uk/product/4637620?clickP...    4637620   \n",
       "35   https://www.argos.co.uk/product/8886635?clickP...    8886635   \n",
       "185  https://www.argos.co.uk/product/4981558?clickP...    4981558   \n",
       "\n",
       "     shelf_order                                      item_category  \\\n",
       "0              1  [Experience the power to be your creative best...   \n",
       "5              6  [Alcatel 1C, is the best deal for an 18:9 disp...   \n",
       "6              7  [Talk to everyone with the latest Nokia 105. W...   \n",
       "35            36  [Tap into an unforgettable viewing experience ...   \n",
       "185           45  [Simple to set up and use, light weight, robus...   \n",
       "\n",
       "     no_reviews  recommendation_percent  \\\n",
       "0           871                      96   \n",
       "5          1071                      87   \n",
       "6           914                      89   \n",
       "35            0                       0   \n",
       "185        1359                      86   \n",
       "\n",
       "                                           review_date  \\\n",
       "0    [1 August 2021, 1 August 2021, 1 August 2021, ...   \n",
       "5    [31 July 2021, 31 July 2021, 31 July 2021, 30 ...   \n",
       "6    [30 July 2021, 30 July 2021, 30 July 2021, 30 ...   \n",
       "35                                                   0   \n",
       "185  [25 June 2021, 23 June 2021, 10 June 2021, 9 J...   \n",
       "\n",
       "                                         review_rating  \\\n",
       "0    [5, 5, 2, 5, 5, 5, 4, 5, 3, 5, 4, 5, 5, 5, 5, ...   \n",
       "5    [3, 4, 5, 5, 5, 5, 5, 5, 5, 5, 3, 5, 2, 3, 5, ...   \n",
       "6    [5, 5, 3, 4, 5, 5, 5, 5, 4, 4, 5, 5, 1, 2, 1, ...   \n",
       "35                                                   0   \n",
       "185  [5, 2, 5, 2, 5, 1, 2, 5, 3, 4, 5, 5, 4, 5, 5, ...   \n",
       "\n",
       "                                           review_text  \\\n",
       "0    [I'm very pleased with the phone. It arrived q...   \n",
       "5    [The phone does what it is support to do and i...   \n",
       "6    [Needed as an emergency phone and is great for...   \n",
       "35                                                   0   \n",
       "185  [Bought this for my daughter it is such good q...   \n",
       "\n",
       "                                          review_title  summary_star_rating  \\\n",
       "0    [Overall a lovely phone, Brilliant, Difficult ...                  4.7   \n",
       "5    [Good for a child's first phone, Simple to use...                  4.3   \n",
       "6    [Good for the Price, Great product, Phone work...                  4.4   \n",
       "35                                                   0                  0.0   \n",
       "185  [Perfect, Not great, Basic but easy to use., N...                  4.2   \n",
       "\n",
       "                                                  code  TOTAL_SALES  \\\n",
       "0    2303179732635262459831782148741979332223786223...        52704   \n",
       "5    6523362733424390017607564743466362116793130797...        63939   \n",
       "6    5849412132309916829220345124034463633224670657...        51463   \n",
       "35   4462311512265498974656112752638448649577476511...        41462   \n",
       "185  4265621254144453889325147033289654510607247352...        45811   \n",
       "\n",
       "                                          text_preproc  \\\n",
       "0    [[i, m, very, pleased, with, the, phone, it, a...   \n",
       "5    [[the, phone, does, what, it, is, support, to,...   \n",
       "6    [[needed, as, an, emergency, phone, and, is, g...   \n",
       "35                                                  []   \n",
       "185  [[bought, this, for, my, daughter, it, is, suc...   \n",
       "\n",
       "                                         text_preproc2  \n",
       "0    [[pleased, phone, arrived, quickly, lot, great...  \n",
       "5    [[phone, support, good, price, thing, like, ba...  \n",
       "6    [[needed, emergency, phone, great, purpose, ph...  \n",
       "35                                                  []  \n",
       "185  [[bought, daughter, good, quality, money], [aw...  "
      ]
     },
     "execution_count": 20,
     "metadata": {},
     "output_type": "execute_result"
    }
   ],
   "source": [
    "phones.loc[phones['TOTAL_SALES']>40000]"
   ]
  },
  {
   "cell_type": "code",
   "execution_count": null,
   "metadata": {},
   "outputs": [],
   "source": []
  }
 ],
 "metadata": {
  "kernelspec": {
   "display_name": "Python 3",
   "language": "python",
   "name": "python3"
  },
  "language_info": {
   "codemirror_mode": {
    "name": "ipython",
    "version": 3
   },
   "file_extension": ".py",
   "mimetype": "text/x-python",
   "name": "python",
   "nbconvert_exporter": "python",
   "pygments_lexer": "ipython3",
   "version": "3.7.4"
  }
 },
 "nbformat": 4,
 "nbformat_minor": 4
}
