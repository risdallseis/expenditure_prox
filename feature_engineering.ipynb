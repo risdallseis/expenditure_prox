{
 "cells": [
  {
   "cell_type": "code",
   "execution_count": 1,
   "source": [
    "import pandas as pd\r\n",
    "import numpy as np\r\n",
    "import preproc\r\n",
    "from join_data import join_y\r\n",
    "pd.set_option('display.max_rows',150)\r\n",
    "pd.set_option('display.max_columns',50)\r\n"
   ],
   "outputs": [],
   "metadata": {}
  },
  {
   "cell_type": "code",
   "execution_count": 2,
   "source": [
    "df = pd.read_json('laptops.json')\r\n",
    "df = join_y(df, 'laptops_sales.csv')\r\n",
    "df = preproc.clean_cols(df)\r\n",
    "df = preproc.fill_empty_lists(df)\r\n",
    "df = preproc.preprocess_reviews(df)"
   ],
   "outputs": [
    {
     "output_type": "stream",
     "name": "stderr",
     "text": [
      "[nltk_data] Downloading package wordnet to\n",
      "[nltk_data]     C:\\Users\\Rory\\AppData\\Roaming\\nltk_data...\n",
      "[nltk_data]   Unzipping corpora\\wordnet.zip.\n",
      "[nltk_data] Downloading package stopwords to\n",
      "[nltk_data]     C:\\Users\\Rory\\AppData\\Roaming\\nltk_data...\n",
      "[nltk_data]   Package stopwords is already up-to-date!\n",
      "c:\\Users\\Rory\\Desktop\\projects\\expenditure_prox\\preproc.py:157: SettingWithCopyWarning: \n",
      "A value is trying to be set on a copy of a slice from a DataFrame.\n",
      "Try using .loc[row_indexer,col_indexer] = value instead\n",
      "\n",
      "See the caveats in the documentation: https://pandas.pydata.org/pandas-docs/stable/user_guide/indexing.html#returning-a-view-versus-a-copy\n",
      "  df['text_preproc'] = df['review_text'].apply(lambda x: __remove_accented_chars(x))\n",
      "c:\\Users\\Rory\\Desktop\\projects\\expenditure_prox\\preproc.py:159: SettingWithCopyWarning: \n",
      "A value is trying to be set on a copy of a slice from a DataFrame.\n",
      "Try using .loc[row_indexer,col_indexer] = value instead\n",
      "\n",
      "See the caveats in the documentation: https://pandas.pydata.org/pandas-docs/stable/user_guide/indexing.html#returning-a-view-versus-a-copy\n",
      "  df['text_preproc'] = df['text_preproc'].apply(lambda x: __lower_text(x))\n",
      "c:\\Users\\Rory\\Desktop\\projects\\expenditure_prox\\preproc.py:161: SettingWithCopyWarning: \n",
      "A value is trying to be set on a copy of a slice from a DataFrame.\n",
      "Try using .loc[row_indexer,col_indexer] = value instead\n",
      "\n",
      "See the caveats in the documentation: https://pandas.pydata.org/pandas-docs/stable/user_guide/indexing.html#returning-a-view-versus-a-copy\n",
      "  df['text_preproc'] = df['text_preproc'].apply(lambda x: __remove_html(x))\n",
      "c:\\Users\\Rory\\Desktop\\projects\\expenditure_prox\\preproc.py:163: SettingWithCopyWarning: \n",
      "A value is trying to be set on a copy of a slice from a DataFrame.\n",
      "Try using .loc[row_indexer,col_indexer] = value instead\n",
      "\n",
      "See the caveats in the documentation: https://pandas.pydata.org/pandas-docs/stable/user_guide/indexing.html#returning-a-view-versus-a-copy\n",
      "  df['text_preproc'] = df['text_preproc'].apply(lambda x: __remove_spec_chars(x))\n",
      "c:\\Users\\Rory\\Desktop\\projects\\expenditure_prox\\preproc.py:165: SettingWithCopyWarning: \n",
      "A value is trying to be set on a copy of a slice from a DataFrame.\n",
      "Try using .loc[row_indexer,col_indexer] = value instead\n",
      "\n",
      "See the caveats in the documentation: https://pandas.pydata.org/pandas-docs/stable/user_guide/indexing.html#returning-a-view-versus-a-copy\n",
      "  df['text_preproc'] = df['text_preproc'].apply(lambda x: __expand_contractions(x))\n",
      "c:\\Users\\Rory\\Desktop\\projects\\expenditure_prox\\preproc.py:167: SettingWithCopyWarning: \n",
      "A value is trying to be set on a copy of a slice from a DataFrame.\n",
      "Try using .loc[row_indexer,col_indexer] = value instead\n",
      "\n",
      "See the caveats in the documentation: https://pandas.pydata.org/pandas-docs/stable/user_guide/indexing.html#returning-a-view-versus-a-copy\n",
      "  df['text_preproc'] = df['text_preproc'].apply(lambda x: __tokenise_reviews(x))\n",
      "c:\\Users\\Rory\\Desktop\\projects\\expenditure_prox\\preproc.py:170: SettingWithCopyWarning: \n",
      "A value is trying to be set on a copy of a slice from a DataFrame.\n",
      "Try using .loc[row_indexer,col_indexer] = value instead\n",
      "\n",
      "See the caveats in the documentation: https://pandas.pydata.org/pandas-docs/stable/user_guide/indexing.html#returning-a-view-versus-a-copy\n",
      "  df['text_preproc2'] = df['text_preproc'].apply(lambda x: __remove_stopwords(x))\n",
      "c:\\Users\\Rory\\Desktop\\projects\\expenditure_prox\\preproc.py:172: SettingWithCopyWarning: \n",
      "A value is trying to be set on a copy of a slice from a DataFrame.\n",
      "Try using .loc[row_indexer,col_indexer] = value instead\n",
      "\n",
      "See the caveats in the documentation: https://pandas.pydata.org/pandas-docs/stable/user_guide/indexing.html#returning-a-view-versus-a-copy\n",
      "  df['text_preproc2'] = df['text_preproc2'].apply(lambda x: __lemmatise_words(x))\n"
     ]
    }
   ],
   "metadata": {}
  },
  {
   "cell_type": "code",
   "execution_count": null,
   "source": [
    "df"
   ],
   "outputs": [],
   "metadata": {}
  },
  {
   "cell_type": "code",
   "execution_count": 55,
   "source": [
    "def no_negative_reviews(list_scores):\r\n",
    "    \"\"\"Gets number of negative reviews\"\"\"\r\n",
    "    no_reviews = 0\r\n",
    "    if isinstance(list_scores, list):   \r\n",
    "        for item in list_scores:\r\n",
    "            item = int(item)\r\n",
    "            if item < 3:\r\n",
    "                no_reviews += 1\r\n",
    "\r\n",
    "    return no_reviews\r\n",
    " \r\n",
    "    \r\n",
    "def no_positive_reviews(list_scores):\r\n",
    "    \"\"\"Gets number of positive reviews\"\"\"\r\n",
    "    no_reviews = 0\r\n",
    "    if isinstance(list_scores, list):   \r\n",
    "        for item in list_scores:\r\n",
    "            item = int(item)\r\n",
    "            if item > 3:\r\n",
    "                no_reviews += 1\r\n",
    "\r\n",
    "    return no_reviews      "
   ],
   "outputs": [],
   "metadata": {}
  },
  {
   "cell_type": "code",
   "execution_count": 56,
   "source": [
    "def generate_features(df):\r\n",
    "    \"\"\"Generates some features after prepro\"\"\"\r\n",
    "    df['neg_reviews'] = df['review_rating'].apply(lambda x: no_negative_reviews(x))\r\n",
    "    df['pos_reviews'] = df['review_rating'].apply(lambda x: no_positive_reviews(x))\r\n",
    "    df['price/Rvol'] = df['price']/df['no_reviews']\r\n",
    "    df['Rvol/%rec'] = df['no_reviews']/df['recommendation_percent']\r\n",
    "    df['posR/Rvol'] = df['pos_reviews']/df['no_reviews']\r\n",
    "    df['negR/Rvol'] = df['neg_reviews']/df['no_reviews']\r\n",
    "    \r\n",
    "    return df\r\n"
   ],
   "outputs": [],
   "metadata": {}
  },
  {
   "cell_type": "code",
   "execution_count": 57,
   "source": [
    "df = generate_features(df)"
   ],
   "outputs": [],
   "metadata": {}
  },
  {
   "cell_type": "code",
   "execution_count": 122,
   "source": [
    "# PUTTING NULLS AS 0 (no reviews)\r\n",
    "from sklearn.datasets import make_regression\r\n",
    "from sklearn.linear_model import LinearRegression\r\n",
    "from matplotlib import pyplot\r\n",
    "from sklearn.preprocessing import StandardScaler\r\n",
    " \r\n",
    "\r\n",
    "# define dataset\r\n",
    "X = df[['pos_reviews','neg_reviews', 'price/Rvol', 'Rvol/%rec', 'posR/Rvol', \r\n",
    "        'negR/Rvol','price','no_reviews','recommendation_percent','summary_star_rating','TOTAL_SALES']]\r\n",
    "\r\n",
    "X = X.dropna()\r\n",
    "Y=X['TOTAL_SALES']\r\n",
    "X = X.drop(['TOTAL_SALES'], axis=1)\r\n",
    "Xs = StandardScaler().fit_transform(X)\r\n",
    "\r\n",
    "\r\n",
    "# define the model\r\n",
    "model = LinearRegression()\r\n",
    "# fit the model\r\n",
    "model.fit(Xs, Y)\r\n",
    "# get importance\r\n",
    "importance = model.coef_\r\n",
    "# summarize feature importance\r\n",
    "for i,v in enumerate(importance):\r\n",
    "\tprint('Feature: %0d, Score: %.5f' % (i,v))\r\n",
    "# plot feature importance\r\n",
    "pyplot.bar([x for x in range(len(importance))], importance)\r\n",
    "pyplot.show()"
   ],
   "outputs": [
    {
     "output_type": "stream",
     "name": "stdout",
     "text": [
      "Feature: 0, Score: -24270.19173\n",
      "Feature: 1, Score: 926.05084\n",
      "Feature: 2, Score: -44.81509\n",
      "Feature: 3, Score: -34924.01298\n",
      "Feature: 4, Score: 349.22367\n",
      "Feature: 5, Score: 13.11535\n",
      "Feature: 6, Score: -213.24328\n",
      "Feature: 7, Score: 60573.09451\n",
      "Feature: 8, Score: -484.53429\n",
      "Feature: 9, Score: 118.61089\n"
     ]
    },
    {
     "output_type": "display_data",
     "data": {
      "image/png": "[encoded data removed]",
      "text/plain": [
       "<Figure size 432x288 with 1 Axes>"
      ]
     },
     "metadata": {
      "needs_background": "light"
     }
    }
   ],
   "metadata": {}
  },
  {
   "cell_type": "code",
   "execution_count": 83,
   "source": [
    "X.columns"
   ],
   "outputs": [
    {
     "output_type": "execute_result",
     "data": {
      "text/plain": [
       "Index(['pos_reviews', 'neg_reviews', 'price/Rvol', 'Rvol/%rec', 'posR/Rvol',\n",
       "       'negR/Rvol', 'price', 'no_reviews', 'recommendation_percent',\n",
       "       'summary_star_rating'],\n",
       "      dtype='object')"
      ]
     },
     "metadata": {},
     "execution_count": 83
    }
   ],
   "metadata": {}
  },
  {
   "cell_type": "markdown",
   "source": [
    "**This shows that features are in order of importance: no_review, Rvol/%rec, pos_reviews.**"
   ],
   "metadata": {}
  },
  {
   "cell_type": "code",
   "execution_count": 185,
   "source": [
    "from sklearn.decomposition import PCA\r\n",
    "pca = PCA(n_components=2)\r\n",
    "X = df[['pos_reviews','neg_reviews', 'price/Rvol', 'Rvol/%rec', 'posR/Rvol', \r\n",
    "        'negR/Rvol','price','no_reviews','recommendation_percent','summary_star_rating','TOTAL_SALES','product_name']]\r\n",
    "\r\n",
    "X=X.loc[X.no_reviews !=0]\r\n",
    "sales=X['TOTAL_SALES']\r\n",
    "names = X['product_name']"
   ],
   "outputs": [],
   "metadata": {}
  },
  {
   "cell_type": "code",
   "execution_count": 186,
   "source": [
    "X = X.drop(['TOTAL_SALES','product_name'], axis=1)\r\n",
    "Xs = StandardScaler().fit_transform(X)\r\n",
    "pC = pca.fit_transform(Xs)\r\n",
    "df_pc = pd.DataFrame(data = pC, columns = ['c1','c2'])\r\n",
    "df_pc.reset_index(drop=True, inplace=True)\r\n",
    "sales.reset_index(drop=True, inplace=True)\r\n",
    "names.reset_index(drop=True, inplace=True)\r\n",
    "fdf = pd.concat([df_pc, sales,names], axis=1, ignore_index=True)"
   ],
   "outputs": [],
   "metadata": {}
  },
  {
   "cell_type": "code",
   "execution_count": 187,
   "source": [
    "import matplotlib.pyplot as plt\r\n",
    "fig = plt.figure(figsize = (8,8))\r\n",
    "ax = fig.add_subplot(1,1,1) \r\n",
    "ax.set_xlabel('Principal Component 1', fontsize = 15)\r\n",
    "ax.set_ylabel('Principal Component 2', fontsize = 15)\r\n",
    "ax.set_title('2 component PCA', fontsize = 20)\r\n",
    "ax.scatter(fdf[:][0], fdf[:][1])\r\n",
    "\r\n",
    "ax.grid()"
   ],
   "outputs": [
    {
     "output_type": "display_data",
     "data": {
      "image/png": "[encoded data removed]",
      "text/plain": [
       "<Figure size 576x576 with 1 Axes>"
      ]
     },
     "metadata": {
      "needs_background": "light"
     }
    }
   ],
   "metadata": {}
  },
  {
   "cell_type": "code",
   "execution_count": 189,
   "source": [
    "fdf.loc[fdf[:][0]>5]"
   ],
   "outputs": [
    {
     "output_type": "execute_result",
     "data": {
      "text/html": [
       "<div>\n",
       "<style scoped>\n",
       "    .dataframe tbody tr th:only-of-type {\n",
       "        vertical-align: middle;\n",
       "    }\n",
       "\n",
       "    .dataframe tbody tr th {\n",
       "        vertical-align: top;\n",
       "    }\n",
       "\n",
       "    .dataframe thead th {\n",
       "        text-align: right;\n",
       "    }\n",
       "</style>\n",
       "<table border=\"1\" class=\"dataframe\">\n",
       "  <thead>\n",
       "    <tr style=\"text-align: right;\">\n",
       "      <th></th>\n",
       "      <th>0</th>\n",
       "      <th>1</th>\n",
       "      <th>2</th>\n",
       "      <th>3</th>\n",
       "    </tr>\n",
       "  </thead>\n",
       "  <tbody>\n",
       "    <tr>\n",
       "      <td>18</td>\n",
       "      <td>12.503289</td>\n",
       "      <td>-7.831043</td>\n",
       "      <td>18554</td>\n",
       "      <td>hp slim 15.6in i5 8gb 256gb fhd laptop norton 360</td>\n",
       "    </tr>\n",
       "    <tr>\n",
       "      <td>63</td>\n",
       "      <td>5.448866</td>\n",
       "      <td>12.113591</td>\n",
       "      <td>256</td>\n",
       "      <td>apple macbook pro touch 2019 16in i7 16gb 512g...</td>\n",
       "    </tr>\n",
       "  </tbody>\n",
       "</table>\n",
       "</div>"
      ],
      "text/plain": [
       "            0          1      2  \\\n",
       "18  12.503289  -7.831043  18554   \n",
       "63   5.448866  12.113591    256   \n",
       "\n",
       "                                                    3  \n",
       "18  hp slim 15.6in i5 8gb 256gb fhd laptop norton 360  \n",
       "63  apple macbook pro touch 2019 16in i7 16gb 512g...  "
      ]
     },
     "metadata": {},
     "execution_count": 189
    }
   ],
   "metadata": {}
  },
  {
   "cell_type": "code",
   "execution_count": 192,
   "source": [
    "df.loc[(df.product_name=='hp slim 15.6in i5 8gb 256gb fhd laptop norton 360')]"
   ],
   "outputs": [
    {
     "output_type": "execute_result",
     "data": {
      "text/html": [
       "<div>\n",
       "<style scoped>\n",
       "    .dataframe tbody tr th:only-of-type {\n",
       "        vertical-align: middle;\n",
       "    }\n",
       "\n",
       "    .dataframe tbody tr th {\n",
       "        vertical-align: top;\n",
       "    }\n",
       "\n",
       "    .dataframe thead th {\n",
       "        text-align: right;\n",
       "    }\n",
       "</style>\n",
       "<table border=\"1\" class=\"dataframe\">\n",
       "  <thead>\n",
       "    <tr style=\"text-align: right;\">\n",
       "      <th></th>\n",
       "      <th>product_name</th>\n",
       "      <th>price</th>\n",
       "      <th>urls</th>\n",
       "      <th>remotekey</th>\n",
       "      <th>shelf_order</th>\n",
       "      <th>item_category</th>\n",
       "      <th>no_reviews</th>\n",
       "      <th>recommendation_percent</th>\n",
       "      <th>review_date</th>\n",
       "      <th>review_rating</th>\n",
       "      <th>review_text</th>\n",
       "      <th>review_title</th>\n",
       "      <th>summary_star_rating</th>\n",
       "      <th>code</th>\n",
       "      <th>TOTAL_SALES</th>\n",
       "      <th>text_preproc</th>\n",
       "      <th>text_preproc2</th>\n",
       "      <th>pos_reviews</th>\n",
       "      <th>neg_reviews</th>\n",
       "      <th>price/Rvol</th>\n",
       "      <th>Rvol/%rec</th>\n",
       "      <th>posR/Rvol</th>\n",
       "      <th>negR/Rvol</th>\n",
       "    </tr>\n",
       "  </thead>\n",
       "  <tbody>\n",
       "    <tr>\n",
       "      <td>39</td>\n",
       "      <td>hp slim 15.6in i5 8gb 256gb fhd laptop norton 360</td>\n",
       "      <td>539.99</td>\n",
       "      <td>https://www.argos.co.uk/product/5029976?clickP...</td>\n",
       "      <td>5029976</td>\n",
       "      <td>27</td>\n",
       "      <td>[Redefine the laptop experience with 10th Gen ...</td>\n",
       "      <td>544</td>\n",
       "      <td>96</td>\n",
       "      <td>[2 August 2021, 31 July 2021, 30 July 2021, 30...</td>\n",
       "      <td>[1, 5, 5, 4, 5, 3, 5, 5, 5, 4, 4, 5, 5, 5, 5, ...</td>\n",
       "      <td>[Bought having seen good reviews. Just need a ...</td>\n",
       "      <td>[Worst laptop I have ever owned, Great, Great ...</td>\n",
       "      <td>4.7</td>\n",
       "      <td>2654329461836246552429230649472743154243885931...</td>\n",
       "      <td>18554</td>\n",
       "      <td>[[bought, having, seen, good, reviews, just, n...</td>\n",
       "      <td>[[bought, seen, good, review, need, laptop, wo...</td>\n",
       "      <td>521</td>\n",
       "      <td>11</td>\n",
       "      <td>0.992629</td>\n",
       "      <td>5.666667</td>\n",
       "      <td>0.957721</td>\n",
       "      <td>0.020221</td>\n",
       "    </tr>\n",
       "  </tbody>\n",
       "</table>\n",
       "</div>"
      ],
      "text/plain": [
       "                                         product_name   price  \\\n",
       "39  hp slim 15.6in i5 8gb 256gb fhd laptop norton 360  539.99   \n",
       "\n",
       "                                                 urls  remotekey  shelf_order  \\\n",
       "39  https://www.argos.co.uk/product/5029976?clickP...    5029976           27   \n",
       "\n",
       "                                        item_category  no_reviews  \\\n",
       "39  [Redefine the laptop experience with 10th Gen ...         544   \n",
       "\n",
       "    recommendation_percent                                        review_date  \\\n",
       "39                      96  [2 August 2021, 31 July 2021, 30 July 2021, 30...   \n",
       "\n",
       "                                        review_rating  \\\n",
       "39  [1, 5, 5, 4, 5, 3, 5, 5, 5, 4, 4, 5, 5, 5, 5, ...   \n",
       "\n",
       "                                          review_text  \\\n",
       "39  [Bought having seen good reviews. Just need a ...   \n",
       "\n",
       "                                         review_title  summary_star_rating  \\\n",
       "39  [Worst laptop I have ever owned, Great, Great ...                  4.7   \n",
       "\n",
       "                                                 code  TOTAL_SALES  \\\n",
       "39  2654329461836246552429230649472743154243885931...        18554   \n",
       "\n",
       "                                         text_preproc  \\\n",
       "39  [[bought, having, seen, good, reviews, just, n...   \n",
       "\n",
       "                                        text_preproc2  pos_reviews  \\\n",
       "39  [[bought, seen, good, review, need, laptop, wo...          521   \n",
       "\n",
       "    neg_reviews  price/Rvol  Rvol/%rec  posR/Rvol  negR/Rvol  \n",
       "39           11    0.992629   5.666667   0.957721   0.020221  "
      ]
     },
     "metadata": {},
     "execution_count": 192
    }
   ],
   "metadata": {}
  },
  {
   "cell_type": "code",
   "execution_count": 194,
   "source": [
    "df.loc[(df.product_name.str.startswith('apple macbook pro touch 2019 16in i7 16gb 512g'))]"
   ],
   "outputs": [
    {
     "output_type": "execute_result",
     "data": {
      "text/html": [
       "<div>\n",
       "<style scoped>\n",
       "    .dataframe tbody tr th:only-of-type {\n",
       "        vertical-align: middle;\n",
       "    }\n",
       "\n",
       "    .dataframe tbody tr th {\n",
       "        vertical-align: top;\n",
       "    }\n",
       "\n",
       "    .dataframe thead th {\n",
       "        text-align: right;\n",
       "    }\n",
       "</style>\n",
       "<table border=\"1\" class=\"dataframe\">\n",
       "  <thead>\n",
       "    <tr style=\"text-align: right;\">\n",
       "      <th></th>\n",
       "      <th>product_name</th>\n",
       "      <th>price</th>\n",
       "      <th>urls</th>\n",
       "      <th>remotekey</th>\n",
       "      <th>shelf_order</th>\n",
       "      <th>item_category</th>\n",
       "      <th>no_reviews</th>\n",
       "      <th>recommendation_percent</th>\n",
       "      <th>review_date</th>\n",
       "      <th>review_rating</th>\n",
       "      <th>review_text</th>\n",
       "      <th>review_title</th>\n",
       "      <th>summary_star_rating</th>\n",
       "      <th>code</th>\n",
       "      <th>TOTAL_SALES</th>\n",
       "      <th>text_preproc</th>\n",
       "      <th>text_preproc2</th>\n",
       "      <th>pos_reviews</th>\n",
       "      <th>neg_reviews</th>\n",
       "      <th>price/Rvol</th>\n",
       "      <th>Rvol/%rec</th>\n",
       "      <th>posR/Rvol</th>\n",
       "      <th>negR/Rvol</th>\n",
       "    </tr>\n",
       "  </thead>\n",
       "  <tbody>\n",
       "    <tr>\n",
       "      <td>98</td>\n",
       "      <td>apple macbook pro touch 2019 16in i7 16gb 512g...</td>\n",
       "      <td>2399.0</td>\n",
       "      <td>https://www.argos.co.uk/product/1953242?clickP...</td>\n",
       "      <td>1953242</td>\n",
       "      <td>55</td>\n",
       "      <td>[Designed for those who defy limits and change...</td>\n",
       "      <td>2</td>\n",
       "      <td>50</td>\n",
       "      <td>[28 July 2020, 13 May 2020]</td>\n",
       "      <td>[5, 1]</td>\n",
       "      <td>[Price paid was the lowest I could find so it ...</td>\n",
       "      <td>[MacBook Pro was the best deal available, Mass...</td>\n",
       "      <td>3.0</td>\n",
       "      <td>6551191647453675436524832534716290356555346838...</td>\n",
       "      <td>256</td>\n",
       "      <td>[[price, paid, was, the, lowest, i, could, fin...</td>\n",
       "      <td>[[price, paid, lowest, could, find, best, deal...</td>\n",
       "      <td>1</td>\n",
       "      <td>1</td>\n",
       "      <td>1199.5</td>\n",
       "      <td>0.04</td>\n",
       "      <td>0.5</td>\n",
       "      <td>0.5</td>\n",
       "    </tr>\n",
       "  </tbody>\n",
       "</table>\n",
       "</div>"
      ],
      "text/plain": [
       "                                         product_name   price  \\\n",
       "98  apple macbook pro touch 2019 16in i7 16gb 512g...  2399.0   \n",
       "\n",
       "                                                 urls  remotekey  shelf_order  \\\n",
       "98  https://www.argos.co.uk/product/1953242?clickP...    1953242           55   \n",
       "\n",
       "                                        item_category  no_reviews  \\\n",
       "98  [Designed for those who defy limits and change...           2   \n",
       "\n",
       "    recommendation_percent                  review_date review_rating  \\\n",
       "98                      50  [28 July 2020, 13 May 2020]        [5, 1]   \n",
       "\n",
       "                                          review_text  \\\n",
       "98  [Price paid was the lowest I could find so it ...   \n",
       "\n",
       "                                         review_title  summary_star_rating  \\\n",
       "98  [MacBook Pro was the best deal available, Mass...                  3.0   \n",
       "\n",
       "                                                 code  TOTAL_SALES  \\\n",
       "98  6551191647453675436524832534716290356555346838...          256   \n",
       "\n",
       "                                         text_preproc  \\\n",
       "98  [[price, paid, was, the, lowest, i, could, fin...   \n",
       "\n",
       "                                        text_preproc2  pos_reviews  \\\n",
       "98  [[price, paid, lowest, could, find, best, deal...            1   \n",
       "\n",
       "    neg_reviews  price/Rvol  Rvol/%rec  posR/Rvol  negR/Rvol  \n",
       "98            1      1199.5       0.04        0.5        0.5  "
      ]
     },
     "metadata": {},
     "execution_count": 194
    }
   ],
   "metadata": {}
  },
  {
   "cell_type": "code",
   "execution_count": null,
   "source": [],
   "outputs": [],
   "metadata": {}
  }
 ],
 "metadata": {
  "kernelspec": {
   "name": "python3",
   "display_name": "Python 3.7.1 64-bit ('python': conda)"
  },
  "language_info": {
   "codemirror_mode": {
    "name": "ipython",
    "version": 3
   },
   "file_extension": ".py",
   "mimetype": "text/x-python",
   "name": "python",
   "nbconvert_exporter": "python",
   "pygments_lexer": "ipython3",
   "version": "3.7.1"
  },
  "interpreter": {
   "hash": "38732f702c168daece91da0b819133eff6b2bd5a56dee60ae54fa52b475b30a8"
  }
 },
 "nbformat": 4,
 "nbformat_minor": 4
}