{
 "cells": [
  {
   "cell_type": "code",
   "execution_count": 1,
   "metadata": {},
   "outputs": [],
   "source": [
    "import pandas as pd"
   ]
  },
  {
   "cell_type": "code",
   "execution_count": 121,
   "metadata": {},
   "outputs": [],
   "source": [
    "df = pd.read_json('C:\\\\Users\\\\Administrator\\\\expenditure_prox\\\\sample_data\\\\gaming_laptops.json')\n",
    "df.dropna(inplace=True)"
   ]
  },
  {
   "cell_type": "code",
   "execution_count": 49,
   "metadata": {},
   "outputs": [],
   "source": [
    "import unidecode\n",
    "def remove_accented_chars(text):\n",
    "    \"\"\"remove accented characters from text, e.g. café\"\"\"\n",
    "    new_list = []\n",
    "    for item in text:\n",
    "        text = unidecode.unidecode(item)\n",
    "        new_list.append(text)\n",
    "        \n",
    "    return new_list"
   ]
  },
  {
   "cell_type": "code",
   "execution_count": 60,
   "metadata": {},
   "outputs": [],
   "source": [
    "import contractions\n",
    "def expand_contractions(text):\n",
    "    \"\"\"expand shortened words, e.g. don't to do not\"\"\"\n",
    "    new_list = []\n",
    "    for item in text:\n",
    "        newtext = contractions.fix(item)\n",
    "        new_list.append(newtext)\n",
    "        \n",
    "    return new_list"
   ]
  },
  {
   "cell_type": "code",
   "execution_count": 61,
   "metadata": {},
   "outputs": [],
   "source": [
    "df['review_text_rac'] = df['review_text_rac'].apply(lambda x: expand_contractions(x))"
   ]
  },
  {
   "cell_type": "code",
   "execution_count": 67,
   "metadata": {},
   "outputs": [],
   "source": [
    "def lower_text(text):\n",
    "    \"\"\"Lowers cases all text\n",
    "    \"\"\"\n",
    "    new_list = []\n",
    "    for item in text:\n",
    "        newtext = item.lower()\n",
    "        new_list.append(newtext)\n",
    "        \n",
    "    return new_list"
   ]
  },
  {
   "cell_type": "code",
   "execution_count": 68,
   "metadata": {},
   "outputs": [],
   "source": [
    "df['review_text_rac'] = df['review_text_rac'].apply(lambda x: lower_text(x))"
   ]
  },
  {
   "cell_type": "code",
   "execution_count": 74,
   "metadata": {},
   "outputs": [],
   "source": [
    "import re\n",
    "\n",
    "def remove_spec_chars(text):\n",
    "    \"\"\"Removes special characters from text\n",
    "    \"\"\"\n",
    "    new_list = []\n",
    "    for item in text:\n",
    "        new_list.append(re.sub('[^A-Za-z0-9]+', ' ', item))\n",
    "    \n",
    "    return new_list\n"
   ]
  },
  {
   "cell_type": "code",
   "execution_count": 100,
   "metadata": {},
   "outputs": [],
   "source": [
    "def remove_html(text):\n",
    "    \"\"\"Removes any html in text\n",
    "    \"\"\"\n",
    "    new_list = []\n",
    "    for item in text:\n",
    "        new_list.append(re.sub(r\"'<.*?>'\", \"\", item))\n",
    "        \n",
    "    return new_list"
   ]
  },
  {
   "cell_type": "code",
   "execution_count": 75,
   "metadata": {},
   "outputs": [],
   "source": [
    "df['review_text_rac'] = df['review_text_rac'].apply(lambda x: remove_spec_chars(x))"
   ]
  },
  {
   "cell_type": "code",
   "execution_count": 101,
   "metadata": {},
   "outputs": [],
   "source": [
    "df['review_text_rac'] = df['review_text_rac'].apply(lambda x: remove_html(x))"
   ]
  },
  {
   "cell_type": "code",
   "execution_count": 96,
   "metadata": {},
   "outputs": [
    {
     "name": "stderr",
     "output_type": "stream",
     "text": [
      "[nltk_data] Downloading package stopwords to\n",
      "[nltk_data]     C:\\Users\\Administrator\\AppData\\Roaming\\nltk_data...\n",
      "[nltk_data]   Package stopwords is already up-to-date!\n"
     ]
    }
   ],
   "source": [
    "\n",
    "from nltk.corpus import stopwords\n",
    "\n",
    "#stopwords = set(\", \".join(stopwords.words('english')))"
   ]
  },
  {
   "cell_type": "code",
   "execution_count": 97,
   "metadata": {},
   "outputs": [],
   "source": [
    "stopwords = stopwords.words('english')\n",
    "stopwords2remove = ['again','no','not','should']"
   ]
  },
  {
   "cell_type": "code",
   "execution_count": 98,
   "metadata": {},
   "outputs": [],
   "source": [
    "for word in stopwords2remove:\n",
    "    stopwords.remove(word)"
   ]
  },
  {
   "cell_type": "code",
   "execution_count": 170,
   "metadata": {},
   "outputs": [],
   "source": [
    "def remove_stopwords(text):\n",
    "    \"\"\"\n",
    "    \"\"\"\n",
    "    nltk.download('stopwords')\n",
    "    stopwords = stopwords.words('english')\n",
    "    stopwords2remove = ['again','no','not','should']\n",
    "    \n",
    "    new_list = []\n",
    "    for item in text:\n",
    "        temp_list = [word for word in item if word not in stopwords]\n",
    "        new_list.append(temp_list)\n",
    "        \n",
    "    return new_list"
   ]
  },
  {
   "cell_type": "code",
   "execution_count": 174,
   "metadata": {},
   "outputs": [
    {
     "data": {
      "text/plain": [
       "0    [[bought, laptop, rather, recently, good, far]...\n",
       "1    [[really, like, laptop, downside, charging, do...\n",
       "3    [[brilliant, laptop, able, work, play, games, ...\n",
       "5    [[laptop, sends, lot, emotions, unpack, looks,...\n",
       "6    [[battery, draining, fast, even, not, playing,...\n",
       "Name: tokenised, dtype: object"
      ]
     },
     "execution_count": 174,
     "metadata": {},
     "output_type": "execute_result"
    }
   ],
   "source": [
    "df['tokenised'].apply(lambda x: remove_stopwords(x, stopwords))"
   ]
  },
  {
   "cell_type": "code",
   "execution_count": 107,
   "metadata": {},
   "outputs": [],
   "source": [
    "def tokenise_reviews(text):\n",
    "    \"\"\"Splits up sentences to words\n",
    "    \"\"\"\n",
    "    new_list = []\n",
    "    for item in text:\n",
    "        new_list.append(item.split())\n",
    "        \n",
    "    return new_list"
   ]
  },
  {
   "cell_type": "code",
   "execution_count": 113,
   "metadata": {},
   "outputs": [],
   "source": [
    "df['tokenised']=df['review_text_rac'].apply(lambda x: tokenise_reviews(x))"
   ]
  },
  {
   "cell_type": "code",
   "execution_count": 166,
   "metadata": {},
   "outputs": [],
   "source": [
    "from nltk.stem import WordNetLemmatizer\n",
    "#nltk.download('wordnet')\n",
    "def lemmatise_words(text):\n",
    "    \"\"\"Lemmatises tokenised words\n",
    "    \"\"\"\n",
    "    lemmatizer = WordNetLemmatizer()\n",
    "    new_list = []\n",
    "    for item in text:\n",
    "        temp_list = []\n",
    "        for word in item:\n",
    "            temp_list.append(lemmatizer.lemmatize(word))\n",
    "        new_list.append(temp_list)\n",
    "    \n",
    "    return new_list"
   ]
  },
  {
   "cell_type": "code",
   "execution_count": 167,
   "metadata": {},
   "outputs": [],
   "source": [
    "gg=df['tokenised'].apply(lambda x: lemmatise_words(x))"
   ]
  },
  {
   "cell_type": "code",
   "execution_count": 9,
   "metadata": {},
   "outputs": [
    {
     "data": {
      "text/html": [
       "<div>\n",
       "<style scoped>\n",
       "    .dataframe tbody tr th:only-of-type {\n",
       "        vertical-align: middle;\n",
       "    }\n",
       "\n",
       "    .dataframe tbody tr th {\n",
       "        vertical-align: top;\n",
       "    }\n",
       "\n",
       "    .dataframe thead th {\n",
       "        text-align: right;\n",
       "    }\n",
       "</style>\n",
       "<table border=\"1\" class=\"dataframe\">\n",
       "  <thead>\n",
       "    <tr style=\"text-align: right;\">\n",
       "      <th></th>\n",
       "      <th>product_name</th>\n",
       "      <th>urls</th>\n",
       "      <th>remotekey</th>\n",
       "      <th>shelf_order</th>\n",
       "      <th>no_reviews</th>\n",
       "      <th>recommendation_percent</th>\n",
       "      <th>review_date</th>\n",
       "      <th>review_rating</th>\n",
       "      <th>review_text</th>\n",
       "      <th>review_title</th>\n",
       "      <th>summary_star_rating</th>\n",
       "    </tr>\n",
       "  </thead>\n",
       "  <tbody>\n",
       "    <tr>\n",
       "      <td>0</td>\n",
       "      <td>hp pav 15.6in r7 8gb 512gb gtx1660ti gaming la...</td>\n",
       "      <td>https://www.argos.co.uk/product/8095330</td>\n",
       "      <td>8095330</td>\n",
       "      <td>1.0</td>\n",
       "      <td>[27 reviews, Recommended this product]</td>\n",
       "      <td>[89%]</td>\n",
       "      <td>[2 June 2021, 9 May 2021, 5 May 2021, 4 May 20...</td>\n",
       "      <td>[4, 4, 4, 1, 5, 5, 5, 4, 5, 5, 5, 5, 5, 5, 5, ...</td>\n",
       "      <td>[i bought the laptop rather recently. It is ve...</td>\n",
       "      <td>[good laptop, Dream Green Machine!, Good value...</td>\n",
       "      <td>[4.6]</td>\n",
       "    </tr>\n",
       "  </tbody>\n",
       "</table>\n",
       "</div>"
      ],
      "text/plain": [
       "                                        product_name  \\\n",
       "0  hp pav 15.6in r7 8gb 512gb gtx1660ti gaming la...   \n",
       "\n",
       "                                      urls  remotekey  shelf_order  \\\n",
       "0  https://www.argos.co.uk/product/8095330    8095330          1.0   \n",
       "\n",
       "                               no_reviews recommendation_percent  \\\n",
       "0  [27 reviews, Recommended this product]                  [89%]   \n",
       "\n",
       "                                         review_date  \\\n",
       "0  [2 June 2021, 9 May 2021, 5 May 2021, 4 May 20...   \n",
       "\n",
       "                                       review_rating  \\\n",
       "0  [4, 4, 4, 1, 5, 5, 5, 4, 5, 5, 5, 5, 5, 5, 5, ...   \n",
       "\n",
       "                                         review_text  \\\n",
       "0  [i bought the laptop rather recently. It is ve...   \n",
       "\n",
       "                                        review_title summary_star_rating  \n",
       "0  [good laptop, Dream Green Machine!, Good value...               [4.6]  "
      ]
     },
     "execution_count": 9,
     "metadata": {},
     "output_type": "execute_result"
    }
   ],
   "source": [
    "df.head(1)"
   ]
  },
  {
   "cell_type": "code",
   "execution_count": 122,
   "metadata": {},
   "outputs": [],
   "source": [
    "def clean_cols(df):\n",
    "    \"\"\"Removes unwanted text from no_reviews and casts to int\n",
    "    \"\"\"\n",
    "    # no_reviews\n",
    "    df['no_reviews'] =  [(re.findall(r'\\d+', x[0]))[0] for x in df['no_reviews']]\n",
    "    df['no_reviews'] = df['no_reviews'].astype('int')\n",
    "    # recommendation_percent\n",
    "    df['recommendation_percent'] =  [(re.findall(r'\\d+', x[0]))[0] for x in df['recommendation_percent']]\n",
    "    df['recommendation_percent'] = df['recommendation_percent'].astype('int')\n",
    "    # summary_star_rating\n",
    "    df['summary_star_rating'] =  [x[0] for x in df['summary_star_rating']]\n",
    "    df['summary_star_rating'] = df['summary_star_rating'].astype('float')\n",
    "    \n",
    "    return df"
   ]
  },
  {
   "cell_type": "code",
   "execution_count": 123,
   "metadata": {},
   "outputs": [],
   "source": [
    "df1 = clean_cols(df)\n"
   ]
  },
  {
   "cell_type": "code",
   "execution_count": null,
   "metadata": {},
   "outputs": [],
   "source": []
  }
 ],
 "metadata": {
  "kernelspec": {
   "display_name": "Python 3",
   "language": "python",
   "name": "python3"
  },
  "language_info": {
   "codemirror_mode": {
    "name": "ipython",
    "version": 3
   },
   "file_extension": ".py",
   "mimetype": "text/x-python",
   "name": "python",
   "nbconvert_exporter": "python",
   "pygments_lexer": "ipython3",
   "version": "3.7.4"
  }
 },
 "nbformat": 4,
 "nbformat_minor": 4
}
